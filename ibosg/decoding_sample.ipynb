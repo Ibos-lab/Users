{
 "cells": [
  {
   "cell_type": "code",
   "execution_count": 75,
   "metadata": {},
   "outputs": [],
   "source": [
    "import numpy as np\n",
    "import numpy.matlib as mt\n",
    "from ephysvibe.structures.neuron_data import NeuronData\n",
    "from ephysvibe.trials import align_trials\n",
    "from ephysvibe.task import task_constants\n",
    "import os \n",
    "from matplotlib import cm\n",
    "from matplotlib import pyplot as plt\n",
    "import glob\n",
    "import pickle\n",
    "\n",
    "from itertools import permutations\n",
    "seed = 2023"
   ]
  },
  {
   "cell_type": "code",
   "execution_count": 12,
   "metadata": {},
   "outputs": [],
   "source": [
    "def moving_average(data:np.ndarray,win:int, step:int=1)-> np.ndarray:\n",
    "    d_shape=data.shape\n",
    "    d_avg = np.zeros((d_shape[0],int(np.floor(d_shape[1]/step))))\n",
    "    count = 0\n",
    "    for i_step in np.arange(0,d_shape[1]-step,step):\n",
    "        d_avg[:,count] = np.mean(data[:,i_step:i_step+win],axis=1)\n",
    "        count +=1\n",
    "    return d_avg"
   ]
  },
  {
   "cell_type": "code",
   "execution_count": 4,
   "metadata": {},
   "outputs": [],
   "source": [
    "directory_b1    =   \"W:/invibe/USERS/IBOS/data/Riesling/TSCM/OpenEphys/new_structure/session_struct/\"\n",
    "bhv_directory   =   os.path.normpath(str(directory_b1) +  \"/bhv/\")\n",
    "\n",
    "area=\"pfc\"\n",
    "neurons_pfc_directory =   os.path.normpath(str(directory_b1) + area + \"/neurons/*.h5\")\n",
    "neurons_pfc_files     =   glob.glob(neurons_pfc_directory, recursive=True)\n",
    "\n",
    "area=\"v4\"\n",
    "neurons_v4_directory =   os.path.normpath(str(directory_b1) + area + \"/neurons/*.h5\")\n",
    "neurons_v4_files     =   glob.glob(neurons_v4_directory, recursive=True)\n",
    "\n",
    "area=\"lip\"\n",
    "\n",
    "neurons_lip_directory =   os.path.normpath(str(directory_b1) + area + \"/neurons/*.h5\")\n",
    "neurons_lip_files     =   glob.glob(neurons_lip_directory, recursive=True)"
   ]
  },
  {
   "cell_type": "code",
   "execution_count": 9,
   "metadata": {},
   "outputs": [],
   "source": [
    "win=100\n",
    "code=1\n",
    "select_block=1\n",
    "time_before_sample  =   400\n",
    "time_before_t1      =   450\n",
    "\n",
    "timetotal_sample=   time_before_sample+450*3\n",
    "timetotal_t1    =   time_before_t1+450*2\n",
    "\n",
    "\n",
    "pfc_paths=neurons_pfc_files\n",
    "numcells=1#len(neurons_pfc_files)\n",
    "\n",
    "\n",
    "for p in pfc_paths[:numcells]:\n",
    "    # print(str(n) + \"/\" + str(len(pfc_paths)))\n",
    "    pfc_good, pfc_mua = 1, 1\n",
    "    \n",
    "    neu_data    =   NeuronData.from_python_hdf5(p)\n",
    "    date_time   =   neu_data.date_time\n",
    "\n",
    "\n",
    "    sp_sample_in_on,mask_sample_in = align_trials.align_on(\n",
    "            sp_samples=neu_data.sp_samples,\n",
    "            code_samples=neu_data.code_samples,\n",
    "            code_numbers=neu_data.code_numbers,\n",
    "            trial_error=neu_data.trial_error,\n",
    "            block=neu_data.block,\n",
    "            pos_code=neu_data.pos_code,\n",
    "            select_block= select_block,\n",
    "            select_pos= code,\n",
    "            event =\"sample_on\",\n",
    "            time_before = time_before_sample,\n",
    "            error_type= 0,\n",
    "        )\n",
    "    \n",
    "    pfc_sample_in_avg_sp   =   moving_average(data=sp_sample_in_on[:, :timetotal_sample],win=win, step=step)[:,:-win]"
   ]
  },
  {
   "cell_type": "code",
   "execution_count": 47,
   "metadata": {},
   "outputs": [
    {
     "data": {
      "text/plain": [
       "array([ 56, 156,  35, 142,  28,   2,  94, 140,  97,  44,  83,  16,  73,\n",
       "        98, 131, 155, 164,  72, 106,  12, 158,  76,  14,  87, 163, 135,\n",
       "        43,  48,  68,  53,  29, 147,  18,  99, 146, 114, 120,   1,  82,\n",
       "        36, 149, 100,  81, 101,   5, 171, 125, 138,  17,  47,  86, 127,\n",
       "        85,  52,  23, 166, 122,  62, 111, 117, 161,  66, 152,  15,  10,\n",
       "        95,  84,  57,  79,  22,  33, 104, 153,  91,   6, 157, 134],\n",
       "      dtype=int64)"
      ]
     },
     "execution_count": 47,
     "metadata": {},
     "output_type": "execute_result"
    }
   ],
   "source": []
  },
  {
   "cell_type": "code",
   "execution_count": 28,
   "metadata": {},
   "outputs": [],
   "source": [
    "step=1\n",
    "win=100\n",
    "pfc_sample_in_avg_sp   =   moving_average(data=sp_sample_in_on[:, :timetotal_sample],win=win, step=step)[:,:-win]\n",
    "\n",
    "o1trials    =   np.where(np.floor(neu_data.sample_id[mask_sample_in]/10)==1)\n",
    "o5trials    =   np.where(np.floor(neu_data.sample_id[mask_sample_in]/10)==5)\n",
    "\n",
    "c1trials    =   np.where(neu_data.sample_id[mask_sample_in]%10==1)\n",
    "c5trials    =   np.where(neu_data.sample_id[mask_sample_in]%10==5)\n",
    "\n",
    "ntrials     =   np.where(neu_data.sample_id[mask_sample_in]==0)\n",
    "nntrials    =   np.where(neu_data.sample_id[mask_sample_in]!=0)\n",
    "\n",
    "\n",
    "min_c_trials=   np.min([c1trials[0].shape, c5trials[0].shape])\n",
    "min_o_trials=   np.min([o1trials[0].shape, o5trials[0].shape])\n",
    "\n",
    "o1_train     =   80\n",
    "o1_test      =   20\n",
    "\n",
    "tmp    =   np.random.permutation(o1trials[0])\n",
    "\n",
    "o1_train_trials=tmp[:np.floor(min_c_trials*80/100)]"
   ]
  },
  {
   "cell_type": "code",
   "execution_count": 109,
   "metadata": {},
   "outputs": [],
   "source": [
    "# tmp    =   np.random.permutation(o1trials[0])\n",
    "int(np.floor(min_c_trials*80/100))\n",
    "train=tmp[:int((min_c_trials*80/100))]\n",
    "test=tmp[int((min_c_trials*80/100)):]\n",
    "\n",
    "test_rep=mt.repmat(test, train.shape[0],1)\n",
    "train_rep=mt.repmat(train, test.shape[0],1)\n",
    "if np.where(test_rep-np.transpose(train_rep)==0)[0].shape[0]!=0:\n",
    "    print(\"Warnings: similar trials for training and testing\")\n",
    "\n",
    "traintrials =   np.random.choice(train, train.shape)\n",
    "testtrials  =   np.random.choice(test, test.shape)"
   ]
  },
  {
   "cell_type": "code",
   "execution_count": 127,
   "metadata": {},
   "outputs": [
    {
     "data": {
      "text/plain": [
       "array([  1,   2,  12,  12,  12,  14,  15,  15,  16,  16,  16,  33,  36,\n",
       "        36,  43,  44,  47,  52,  56,  57,  73,  73,  82,  84,  85,  85,\n",
       "        87,  94,  94,  98, 100, 100, 101, 101, 101, 106, 106, 111, 134,\n",
       "       138, 138, 138, 140, 153, 156, 163, 164, 164, 166, 166, 166],\n",
       "      dtype=int64)"
      ]
     },
     "execution_count": 127,
     "metadata": {},
     "output_type": "execute_result"
    }
   ],
   "source": []
  },
  {
   "cell_type": "code",
   "execution_count": 78,
   "metadata": {},
   "outputs": [],
   "source": [
    "test_rep=mt.repmat(test, train.shape[0],1)\n",
    "train_rep=mt.repmat(train, test.shape[0],1)"
   ]
  },
  {
   "cell_type": "code",
   "execution_count": 26,
   "metadata": {},
   "outputs": [
    {
     "data": {
      "text/plain": [
       "64"
      ]
     },
     "execution_count": 26,
     "metadata": {},
     "output_type": "execute_result"
    }
   ],
   "source": [
    "mintrials=np.min([c1trials[0].shape, c5trials[0].shape])\n",
    "mintrials\n"
   ]
  }
 ],
 "metadata": {
  "kernelspec": {
   "display_name": "Ephysvibe",
   "language": "python",
   "name": "python3"
  },
  "language_info": {
   "codemirror_mode": {
    "name": "ipython",
    "version": 3
   },
   "file_extension": ".py",
   "mimetype": "text/x-python",
   "name": "python",
   "nbconvert_exporter": "python",
   "pygments_lexer": "ipython3",
   "version": "3.10.9"
  }
 },
 "nbformat": 4,
 "nbformat_minor": 2
}
