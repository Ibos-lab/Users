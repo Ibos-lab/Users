{
 "cells": [
  {
   "cell_type": "code",
   "execution_count": 3,
   "metadata": {},
   "outputs": [],
   "source": [
    "import numpy as np\n",
    "import matplotlib.pyplot as plt\n",
    "from joblib import Parallel, delayed\n",
    "from tqdm import tqdm\n",
    "from pathlib import Path\n",
    "from typing import Dict, List\n",
    "from ephysvibe.structures.neuron_data import NeuronData\n",
    "from ephysvibe.dataviz import plot_raster\n",
    "from ephysvibe.trials import firing_rate\n",
    "from scipy import stats\n",
    "import pandas as pd\n",
    "import glob\n",
    "import os"
   ]
  },
  {
   "cell_type": "code",
   "execution_count": 1,
   "metadata": {},
   "outputs": [],
   "source": [
    "path='//envau_cifs.intlocal.univ-amu.fr/work/invibe/USERS/IBOS/data/Riesling/TSCM/OpenEphys/new_structure/session_struct/pfc/neurons/2023-03-09_10-35-09_Riesling_pfc_e1_r1_mua23_neu.h5'"
   ]
  },
  {
   "cell_type": "code",
   "execution_count": 4,
   "metadata": {},
   "outputs": [],
   "source": [
    "neu = NeuronData.from_python_hdf5(path)"
   ]
  },
  {
   "cell_type": "markdown",
   "metadata": {},
   "source": [
    "## Neutral index"
   ]
  },
  {
   "cell_type": "code",
   "execution_count": null,
   "metadata": {},
   "outputs": [],
   "source": [
    "for inout in [\"in\", \"out\"]:\n",
    "    mask = getattr(neu, \"mask_son_\" + inout)\n",
    "    sp_son = getattr(neu, \"sp_son_\" + inout)\n",
    "    time_before_son = getattr(neu, \"time_before_son_\" + inout)\n",
    "\n",
    "    idx_start_sample = time_before_son + start_sample\n",
    "    idx_end_sample = time_before_son + end_sample\n",
    "\n",
    "    fr_son = firing_rate.moving_average(data=sp_son, win=100, step=1)[\n",
    "        :, idx_start_sample:idx_end_sample\n",
    "    ]\n",
    "\n",
    "    sp_t1on = getattr(neu, \"sp_t1on_\" + inout)\n",
    "    time_before_t1on = getattr(neu, \"time_before_t1on_\" + inout)\n",
    "\n",
    "    idx_start_test = time_before_t1on + start_test\n",
    "    idx_end_test = time_before_t1on + end_test\n",
    "\n",
    "    fr_ton = firing_rate.moving_average(data=sp_t1on, win=100, step=1)[\n",
    "        :, idx_start_test:idx_end_test\n",
    "    ]\n",
    "\n",
    "    fr = np.concatenate([fr_son, fr_ton], axis=1)\n",
    "    sample_id = neu.sample_id[mask]\n",
    "    fr_samples = select_trials.get_sp_by_sample(fr, sample_id, samples)\n",
    "    # check trials fr\n",
    "    for isamp in fr_samples.keys():\n",
    "        if ~np.all((np.isnan(fr_samples[isamp]))):\n",
    "            masktr = check_trials(fr_samples[isamp], cerotr, percentile)\n",
    "            fr_samples[isamp] = fr_samples[isamp][masktr]\n",
    "\n",
    "    o1 = np.concatenate((fr_samples[\"11\"], fr_samples[\"15\"]))\n",
    "    o5 = np.concatenate((fr_samples[\"51\"], fr_samples[\"55\"]))\n",
    "    c1 = np.concatenate((fr_samples[\"11\"], fr_samples[\"51\"]))\n",
    "    c5 = np.concatenate((fr_samples[\"15\"], fr_samples[\"55\"]))\n",
    "    sample = np.concatenate(\n",
    "        (fr_samples[\"11\"], fr_samples[\"15\"], fr_samples[\"51\"], fr_samples[\"55\"])\n",
    "    )\n",
    "    inout_nn_fr.append(sample)\n",
    "    n0 = fr_samples[\"0\"]\n",
    "    inout_n0_fr.append(n0)\n",
    "\n",
    "orient_lat, orient_score, orient_p = smetrics.get_selectivity(\n",
    "    o1, o5, win=75, scores=True\n",
    ")"
   ]
  },
  {
   "cell_type": "markdown",
   "metadata": {},
   "source": [
    "## Spatial index"
   ]
  },
  {
   "cell_type": "code",
   "execution_count": 5,
   "metadata": {},
   "outputs": [],
   "source": [
    "align_sp, alig_mask = neu.align_on(\n",
    "    select_block=2, event=\"target_on\", time_before=400, error_type=0\n",
    ")"
   ]
  },
  {
   "cell_type": "code",
   "execution_count": null,
   "metadata": {},
   "outputs": [],
   "source": []
  },
  {
   "cell_type": "code",
   "execution_count": null,
   "metadata": {},
   "outputs": [],
   "source": []
  },
  {
   "cell_type": "code",
   "execution_count": null,
   "metadata": {},
   "outputs": [],
   "source": []
  },
  {
   "cell_type": "code",
   "execution_count": null,
   "metadata": {},
   "outputs": [],
   "source": []
  },
  {
   "cell_type": "code",
   "execution_count": null,
   "metadata": {},
   "outputs": [],
   "source": []
  }
 ],
 "metadata": {
  "kernelspec": {
   "display_name": "ephys",
   "language": "python",
   "name": "python3"
  },
  "language_info": {
   "codemirror_mode": {
    "name": "ipython",
    "version": 3
   },
   "file_extension": ".py",
   "mimetype": "text/x-python",
   "name": "python",
   "nbconvert_exporter": "python",
   "pygments_lexer": "ipython3",
   "version": "3.13.0"
  }
 },
 "nbformat": 4,
 "nbformat_minor": 2
}
