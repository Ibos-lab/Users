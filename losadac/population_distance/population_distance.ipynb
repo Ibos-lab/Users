{
 "cells": [
  {
   "cell_type": "code",
   "execution_count": 1,
   "metadata": {},
   "outputs": [],
   "source": [
    "from ephysvibe.structures.population_data import PopulationData\n",
    "from ephysvibe.structures.neuron_data import NeuronData\n",
    "from ephysvibe.structures.results import Results\n",
    "from ephysvibe.trials.spikes import firing_rate\n",
    "from ephysvibe.trials import select_trials\n",
    "from ephysvibe.stats import smetrics\n",
    "# from preproc_tools import get_fr_by_sample\n",
    "import numpy as np\n",
    "import pandas as pd\n",
    "import compute_population_distance\n",
    "from joblib import Parallel, delayed\n",
    "from tqdm import tqdm"
   ]
  },
  {
   "cell_type": "markdown",
   "metadata": {},
   "source": [
    "### Start preprocessing"
   ]
  },
  {
   "cell_type": "code",
   "execution_count": 2,
   "metadata": {},
   "outputs": [],
   "source": [
    "area = 'lip'\n",
    "rf_loc='in'\n",
    "avgwin = 100\n",
    "min_sp_sec = 1\n",
    "n_test = 1\n",
    "min_trials = 25\n",
    "inout = \"out\"  # in out\n",
    "select_block = 1\n",
    "nonmatch = True  # if True: includes nonmatch trials\n",
    "norm = False\n",
    "zscore = True\n",
    "select_n_neu = 100\n",
    "# sample timing\n",
    "time_before_sample = 500\n",
    "start_sample = -200\n",
    "end_sample = 450 + 400\n",
    "time_after_sample = end_sample + 200\n",
    "# test timing\n",
    "time_before_test = 500\n",
    "start_test = -400\n",
    "end_test = n_test * 450 + 200\n",
    "time_after_test = end_test + 200\n",
    "dtype_sp = np.int8\n",
    "dtype_mask = bool"
   ]
  },
  {
   "cell_type": "code",
   "execution_count": 3,
   "metadata": {},
   "outputs": [],
   "source": [
    "filepaths = {\n",
    "    \"lip\": \"/envau/work/invibe/USERS/IBOS/data/Riesling/TSCM/OpenEphys/new_structure/session_struct/lip/neurons/\",\n",
    "    \"pfc\": \"/envau/work/invibe/USERS/IBOS/data/Riesling/TSCM/OpenEphys/new_structure/session_struct/pfc/neurons/\",\n",
    "    \"v4\": \"/envau/work/invibe/USERS/IBOS/data/Riesling/TSCM/OpenEphys/new_structure/session_struct/v4/neurons/\",\n",
    "}\n",
    "outputpath = \"/envau/work/invibe/USERS/IBOS/data/Riesling/TSCM/OpenEphys/population_lat/data/neurons_no_selectivity_inout_out/\"\n",
    "selectivity_path = (\n",
    "    \"/envau/work/invibe/USERS/IBOS/data/Riesling/TSCM/OpenEphys/selectivity/all_trials/2024_09_13_11_38_12\"\n",
    ")\n",
    "nidpath = {\n",
    "    \"lip\": selectivity_path + \"/lip_no_neutral_inout_selectivity.csv\",\n",
    "    \"pfc\": selectivity_path + \"/pfc_no_neutral_inout_selectivity.csv\",\n",
    "    \"v4\": selectivity_path + \"/v4_no_neutral_inout_selectivity.csv\",\n",
    "}\n",
    "\n",
    "allspath = {\n",
    "    # \"lip\": \"/envau/work/invibe/USERS/IBOS/data/Riesling/TSCM/OpenEphys/population_lat/data/all_neurons_corrected_in/2024-08-21_16-50-55/lip_preprocdata.h5\",\n",
    "    # \"pfc\": \"/envau/work/invibe/USERS/IBOS/data/Riesling/TSCM/OpenEphys/population_lat/data/all_neurons_corrected_in/2024-08-21_16-50-55/pfc_preprocdata.h5\",\n",
    "    # \"v4\": \"/envau/work/invibe/USERS/IBOS/data/Riesling/TSCM/OpenEphys/population_lat/data/all_neurons_corrected_in/2024-08-21_16-50-55/v4_preprocdata.h5\",\n",
    "}\n",
    "\n",
    "rf_loc_path = {\n",
    "    \"lip\": \"/envau/work/invibe/USERS/IBOS/data/Riesling/TSCM/OpenEphys/activation_index/rf_loc_df_lip.csv\",\n",
    "    \"pfc\": \"/envau/work/invibe/USERS/IBOS/data/Riesling/TSCM/OpenEphys/activation_index/rf_loc_df_pfc.csv\",\n",
    "    \"v4\": \"/envau/work/invibe/USERS/IBOS/data/Riesling/TSCM/OpenEphys/activation_index/rf_loc_df_v4.csv\",\n",
    "}"
   ]
  },
  {
   "cell_type": "code",
   "execution_count": 4,
   "metadata": {},
   "outputs": [],
   "source": [
    "popu = PopulationData.from_python_hdf5(f\"/envau/work/invibe/USERS/IBOS/data/Riesling/TSCM/OpenEphys/population/{area.lower()}/2024_08_28_12_23_36/population.h5\")"
   ]
  },
  {
   "cell_type": "code",
   "execution_count": 5,
   "metadata": {},
   "outputs": [],
   "source": [
    "def get_fr_by_sample(\n",
    "    neu,\n",
    "    time_before_son: str,\n",
    "    time_before_t1on: str,\n",
    "    sp_son: str,\n",
    "    sp_t1on: str,\n",
    "    mask_son: str,\n",
    "    start_sample: int,\n",
    "    end_sample: int,\n",
    "    start_test: int,\n",
    "    end_test: int,\n",
    "    n_test,\n",
    "    min_trials,\n",
    "    min_neu=False,\n",
    "    nonmatch=True,\n",
    "    avgwin=50,\n",
    "    n_sp_sec=5,\n",
    "    norm=False,\n",
    "    zscore=False,\n",
    "    include_nid=None,\n",
    "):\n",
    "    if include_nid is not None:\n",
    "        nid = neu.get_neuron_id()\n",
    "        if not (nid in include_nid):\n",
    "            return None\n",
    "\n",
    "    idx_start_sample = int((getattr(neu, time_before_son) + start_sample) )\n",
    "    idx_end_sample = int((getattr(neu, time_before_son) + end_sample) )\n",
    "    idx_start_test = int((getattr(neu, time_before_t1on) + start_test) )\n",
    "    idx_end_test = int((getattr(neu, time_before_t1on) + end_test) )\n",
    "    sampleon = getattr(neu, sp_son)\n",
    "    t1on = getattr(neu, sp_t1on)\n",
    "    mask_son = getattr(neu, mask_son)\n",
    "\n",
    "    # Select trials aligned to sample onset\n",
    "    \n",
    "    sample_id = neu.sample_id[mask_son]\n",
    "\n",
    "\n",
    "\n",
    "    # Build masks to select trials with match in the n_test\n",
    "    mask_match = np.where(\n",
    "        neu.test_stimuli[mask_son, n_test - 1] == neu.sample_id[mask_son],\n",
    "        True,\n",
    "        False,\n",
    "    )\n",
    "    mask_neu = neu.sample_id[mask_son] == 0\n",
    "    # Build masks to select trials with the selected number of test presentations\n",
    "    max_test = neu.test_stimuli[mask_son].shape[1]\n",
    "    mask_ntest = (max_test - np.sum(np.isnan(neu.test_stimuli[mask_son]), axis=1)) > (\n",
    "        n_test - 1\n",
    "    )\n",
    "\n",
    "    if nonmatch:  # include nonmatch trials\n",
    "        mask_match_neu = np.logical_or(mask_ntest, mask_neu)\n",
    "    else:\n",
    "        mask_match_neu = np.logical_or(mask_match, mask_neu)\n",
    "    if np.sum(mask_match_neu) < 20:\n",
    "        return None\n",
    "\n",
    "    # Average fr across time\n",
    "    avg_sample_on = firing_rate.moving_average(\n",
    "        sampleon[mask_match_neu], win=avgwin, step=1\n",
    "    )[:, idx_start_sample:idx_end_sample]\n",
    "    avg_test1_on = firing_rate.moving_average(\n",
    "        t1on[mask_match_neu], win=avgwin, step=1\n",
    "    )[:, idx_start_test:idx_end_test]\n",
    "    # Concatenate sample and test aligned data\n",
    "    sp = np.concatenate((avg_sample_on, avg_test1_on), axis=1)\n",
    "    # Check fr\n",
    "    ms_fr = np.nanmean(sp) * 1000 > n_sp_sec\n",
    "    if not ms_fr:\n",
    "        return None\n",
    "    # Check number of trials\n",
    "    sample_id = neu.sample_id[mask_son][mask_match_neu]\n",
    "    samples = [0, 11, 15, 55, 51]\n",
    "    if min_neu:\n",
    "        sample_fr = sp[np.where(sample_id == 0, True, False)]\n",
    "        if sample_fr.shape[0] < min_trials:\n",
    "            return None\n",
    "    else:\n",
    "        for s_id in samples:\n",
    "            sample_fr = sp[np.where(sample_id == s_id, True, False)]\n",
    "            if sample_fr.shape[0] < min_trials:\n",
    "                return None\n",
    "    if norm == True:\n",
    "        sp = sp / np.max(sp)\n",
    "    if zscore == True:\n",
    "        sp_std = np.std(sp, ddof=1, axis=0)\n",
    "        sp_std = np.where(sp_std == 0, 1, sp_std)\n",
    "        sp = (sp - np.mean(sp, axis=0).reshape(1, -1)) / sp_std.reshape(1, -1)\n",
    "    # Get trials grouped by sample\n",
    "    fr_samples = select_trials.get_sp_by_sample(sp, sample_id, samples=samples)\n",
    "\n",
    "    if fr_samples is None:\n",
    "        return None\n",
    "\n",
    "    return fr_samples\n"
   ]
  },
  {
   "cell_type": "code",
   "execution_count": 6,
   "metadata": {},
   "outputs": [
    {
     "name": "stderr",
     "output_type": "stream",
     "text": [
      "100%|██████████| 530/530 [00:05<00:00, 104.38it/s]\n"
     ]
    }
   ],
   "source": [
    "include_nid = None\n",
    "if bool(nidpath):\n",
    "    df_sel = pd.read_csv(nidpath[area])\n",
    "    include_nid = df_sel[\"nid\"].values\n",
    "all_fr_samples = popu.execute_function(\n",
    "    get_fr_by_sample,\n",
    "    time_before_son= \"time_before_son_in\",\n",
    "    time_before_t1on= \"time_before_t1on_in\",\n",
    "    sp_son= \"sp_son_in\",\n",
    "    sp_t1on= \"sp_t1on_in\",\n",
    "    mask_son= \"mask_son_in\",\n",
    "    start_sample=start_sample,\n",
    "    end_sample=end_sample,\n",
    "    start_test=start_test,\n",
    "    end_test=end_test,\n",
    "    n_test=n_test,\n",
    "    min_trials=min_trials,\n",
    "    min_neu=False,\n",
    "    nonmatch=nonmatch,\n",
    "    avgwin=avgwin,\n",
    "    n_sp_sec=min_sp_sec,\n",
    "    norm=norm,\n",
    "    zscore=zscore,\n",
    "    include_nid=include_nid,\n",
    "    n_jobs=-1,\n",
    "    ret_df=False,\n",
    ")"
   ]
  },
  {
   "cell_type": "code",
   "execution_count": 7,
   "metadata": {},
   "outputs": [],
   "source": [
    "rng = np.random.default_rng(1997)"
   ]
  },
  {
   "cell_type": "code",
   "execution_count": 28,
   "metadata": {},
   "outputs": [
    {
     "name": "stdout",
     "output_type": "stream",
     "text": [
      "start iterations\n"
     ]
    },
    {
     "name": "stderr",
     "output_type": "stream",
     "text": [
      "100%|██████████| 3/3 [00:00<00:00,  5.98it/s]\n"
     ]
    }
   ],
   "source": [
    "fr_dicts_only = [item for item in all_fr_samples if isinstance(item, dict)]\n",
    "res = {}\n",
    "print(\"start iterations\")\n",
    "distance_data = []\n",
    "for _ in tqdm(range(3)):\n",
    "    dist = compute_population_distance.get_distance(\n",
    "        fr_dicts_only,\n",
    "        rng=rng,\n",
    "        min_trials=min_trials,\n",
    "        select_n_neu=select_n_neu,\n",
    "    )\n",
    "    distance_data.append(dist)\n",
    "\n",
    "all_dist_n_nn = []\n",
    "all_dist_fake_n_nn = []\n",
    "for asc in distance_data:\n",
    "    all_dist_n_nn.append(asc[\"dist_n_nn\"])\n",
    "    all_dist_fake_n_nn.append(asc[\"dist_fake_n_nn\"])\n",
    "all_dist_n_nn = np.array(all_dist_n_nn,dtype=np.float32)\n",
    "all_dist_fake_n_nn = np.array(all_dist_fake_n_nn,dtype=np.float32)\n",
    "res[\"dist_n_nn\"] = all_dist_n_nn\n",
    "res[\"dist_fake_n_nn\"] = all_dist_fake_n_nn\n",
    "res[\"n_neurons\"] = asc[\"n_neurons\"]"
   ]
  },
  {
   "cell_type": "code",
   "execution_count": 14,
   "metadata": {},
   "outputs": [],
   "source": []
  },
  {
   "cell_type": "code",
   "execution_count": 29,
   "metadata": {},
   "outputs": [],
   "source": [
    "res = Results(\n",
    "    \"population_distance.py\",\n",
    "    \"path\",\n",
    "    distance=res,\n",
    "\n",
    ")"
   ]
  },
  {
   "cell_type": "code",
   "execution_count": 30,
   "metadata": {},
   "outputs": [
    {
     "data": {
      "text/plain": [
       "{'dist_n_nn': array([[3.05688574, 3.05538381, 3.0133116 , ..., 3.97156234, 3.94105815,\n",
       "         0.        ],\n",
       "        [3.08522708, 3.06176452, 3.04466589, ..., 3.42104746, 3.32144957,\n",
       "         0.        ],\n",
       "        [2.77379562, 2.79691084, 2.77716203, ..., 3.92940362, 3.93720955,\n",
       "         0.        ]]),\n",
       " 'dist_fake_n_nn': array([[2.36878985, 2.34233951, 2.30079229, ..., 2.75387935, 2.76445617,\n",
       "         0.        ],\n",
       "        [2.80951245, 2.78525248, 2.79086419, ..., 2.6543645 , 2.68030157,\n",
       "         0.        ],\n",
       "        [2.88773587, 2.93637232, 2.90210092, ..., 2.82692642, 2.84770021,\n",
       "         0.        ]]),\n",
       " 'n_neurons': 159}"
      ]
     },
     "execution_count": 30,
     "metadata": {},
     "output_type": "execute_result"
    }
   ],
   "source": [
    "res.distance"
   ]
  },
  {
   "cell_type": "code",
   "execution_count": 16,
   "metadata": {},
   "outputs": [],
   "source": [
    "res.to_python_hdf5(\"population_distance.h5\")"
   ]
  },
  {
   "cell_type": "code",
   "execution_count": 12,
   "metadata": {},
   "outputs": [
    {
     "data": {
      "text/plain": [
       "[{'dist_n_nn': array([2.80766575, 2.84264495, 2.82615031, ..., 3.61830623, 3.55321372,\n",
       "         0.        ]),\n",
       "  'dist_fake_n_nn': array([2.82238942, 2.80456765, 2.76073598, ..., 3.16693348, 3.16531354,\n",
       "         0.        ]),\n",
       "  'n_neurons': 159},\n",
       " {'dist_n_nn': array([3.06786346, 3.10201721, 3.14300502, ..., 3.62410808, 3.62080308,\n",
       "         0.        ]),\n",
       "  'dist_fake_n_nn': array([2.84460701, 2.80514465, 2.81603807, ..., 2.66797091, 2.69807412,\n",
       "         0.        ]),\n",
       "  'n_neurons': 159},\n",
       " {'dist_n_nn': array([2.28650596, 2.31684979, 2.36854456, ..., 3.76092063, 3.75352271,\n",
       "         0.        ]),\n",
       "  'dist_fake_n_nn': array([2.64899118, 2.71516816, 2.69240093, ..., 2.97217454, 2.97899085,\n",
       "         0.        ]),\n",
       "  'n_neurons': 159}]"
      ]
     },
     "execution_count": 12,
     "metadata": {},
     "output_type": "execute_result"
    }
   ],
   "source": [
    "distance_data"
   ]
  },
  {
   "cell_type": "code",
   "execution_count": null,
   "metadata": {},
   "outputs": [],
   "source": []
  }
 ],
 "metadata": {
  "kernelspec": {
   "display_name": "Users-2Kpmrf9_",
   "language": "python",
   "name": "python3"
  },
  "language_info": {
   "codemirror_mode": {
    "name": "ipython",
    "version": 3
   },
   "file_extension": ".py",
   "mimetype": "text/x-python",
   "name": "python",
   "nbconvert_exporter": "python",
   "pygments_lexer": "ipython3",
   "version": "3.9.18"
  }
 },
 "nbformat": 4,
 "nbformat_minor": 2
}
