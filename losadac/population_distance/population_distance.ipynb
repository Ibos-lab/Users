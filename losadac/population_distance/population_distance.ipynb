{
 "cells": [
  {
   "cell_type": "code",
   "execution_count": 1,
   "metadata": {},
   "outputs": [],
   "source": [
    "from ephysvibe.structures.population_data import PopulationData\n",
    "from ephysvibe.structures.neuron_data import NeuronData\n",
    "from ephysvibe.structures.results import Results\n",
    "from ephysvibe.trials.spikes import firing_rate\n",
    "from ephysvibe.trials import select_trials\n",
    "from ephysvibe.stats import smetrics\n",
    "# from preproc_tools import get_fr_by_sample\n",
    "import numpy as np\n",
    "import pandas as pd\n",
    "import compute_population_distance\n",
    "from joblib import Parallel, delayed\n",
    "from tqdm import tqdm"
   ]
  },
  {
   "cell_type": "markdown",
   "metadata": {},
   "source": [
    "### Start preprocessing"
   ]
  },
  {
   "cell_type": "code",
   "execution_count": 2,
   "metadata": {},
   "outputs": [],
   "source": [
    "area = 'lip'\n",
    "rf_loc='in'\n",
    "avgwin = 100\n",
    "min_sp_sec = 1\n",
    "n_test = 1\n",
    "min_trials = 25\n",
    "inout = \"out\"  # in out\n",
    "select_block = 1\n",
    "nonmatch = True  # if True: includes nonmatch trials\n",
    "norm = False\n",
    "zscore = True\n",
    "select_n_neu = 100\n",
    "# sample timing\n",
    "time_before_sample = 500\n",
    "start_sample = -200\n",
    "end_sample = 450 + 400\n",
    "time_after_sample = end_sample + 200\n",
    "# test timing\n",
    "time_before_test = 500\n",
    "start_test = -400\n",
    "end_test = n_test * 450 + 200\n",
    "time_after_test = end_test + 200\n",
    "dtype_sp = np.int8\n",
    "dtype_mask = bool"
   ]
  },
  {
   "cell_type": "code",
   "execution_count": 3,
   "metadata": {},
   "outputs": [],
   "source": [
    "filepaths = {\n",
    "    \"lip\": \"/envau/work/invibe/USERS/IBOS/data/Riesling/TSCM/OpenEphys/new_structure/session_struct/lip/neurons/\",\n",
    "    \"pfc\": \"/envau/work/invibe/USERS/IBOS/data/Riesling/TSCM/OpenEphys/new_structure/session_struct/pfc/neurons/\",\n",
    "    \"v4\": \"/envau/work/invibe/USERS/IBOS/data/Riesling/TSCM/OpenEphys/new_structure/session_struct/v4/neurons/\",\n",
    "}\n",
    "outputpath = \"/envau/work/invibe/USERS/IBOS/data/Riesling/TSCM/OpenEphys/population_lat/data/neurons_no_selectivity_inout_out/\"\n",
    "selectivity_path = (\n",
    "    \"/envau/work/invibe/USERS/IBOS/data/Riesling/TSCM/OpenEphys/selectivity/all_trials/2024_09_13_11_38_12\"\n",
    ")\n",
    "nidpath = {\n",
    "    \"lip\": selectivity_path + \"/lip_no_neutral_inout_selectivity.csv\",\n",
    "    \"pfc\": selectivity_path + \"/pfc_no_neutral_inout_selectivity.csv\",\n",
    "    \"v4\": selectivity_path + \"/v4_no_neutral_inout_selectivity.csv\",\n",
    "}\n",
    "\n",
    "allspath = {\n",
    "    # \"lip\": \"/envau/work/invibe/USERS/IBOS/data/Riesling/TSCM/OpenEphys/population_lat/data/all_neurons_corrected_in/2024-08-21_16-50-55/lip_preprocdata.h5\",\n",
    "    # \"pfc\": \"/envau/work/invibe/USERS/IBOS/data/Riesling/TSCM/OpenEphys/population_lat/data/all_neurons_corrected_in/2024-08-21_16-50-55/pfc_preprocdata.h5\",\n",
    "    # \"v4\": \"/envau/work/invibe/USERS/IBOS/data/Riesling/TSCM/OpenEphys/population_lat/data/all_neurons_corrected_in/2024-08-21_16-50-55/v4_preprocdata.h5\",\n",
    "}\n",
    "\n",
    "rf_loc_path = {\n",
    "    \"lip\": \"/envau/work/invibe/USERS/IBOS/data/Riesling/TSCM/OpenEphys/activation_index/rf_loc_df_lip.csv\",\n",
    "    \"pfc\": \"/envau/work/invibe/USERS/IBOS/data/Riesling/TSCM/OpenEphys/activation_index/rf_loc_df_pfc.csv\",\n",
    "    \"v4\": \"/envau/work/invibe/USERS/IBOS/data/Riesling/TSCM/OpenEphys/activation_index/rf_loc_df_v4.csv\",\n",
    "}"
   ]
  },
  {
   "cell_type": "code",
   "execution_count": 4,
   "metadata": {},
   "outputs": [],
   "source": [
    "popu = PopulationData.from_python_hdf5(f\"/envau/work/invibe/USERS/IBOS/data/Riesling/TSCM/OpenEphys/population/{area.lower()}/2024_08_28_12_23_36/population.h5\")"
   ]
  },
  {
   "cell_type": "code",
   "execution_count": 8,
   "metadata": {},
   "outputs": [],
   "source": [
    "paths={\n",
    "  'input': \"/envau/work/invibe/USERS/IBOS/data/Riesling/TSCM/OpenEphys/population/lip/2024_08_28_12_23_36/population.h5\",\n",
    "  'nidpath': \"/envau/work/invibe/USERS/IBOS/data/Riesling/TSCM/OpenEphys/selectivity/all_trials/2024_09_13_11_38_12/lip_no_neutral_inout_selectivity.csv\"\n",
    "  }\n",
    "preprocessing={\n",
    "    'time_before_son': \"time_before_son_in\",\n",
    "    'time_before_t1on': \"time_before_t1on_in\",\n",
    "    'sp_son': \"sp_son_in\",\n",
    "    'sp_t1on': \"sp_t1on_in\",\n",
    "    'mask_son': \"mask_son_in\",\n",
    "    'start_sample' : -200,\n",
    "    'end_sample' : 850,\n",
    "    'start_test' : -400,\n",
    "    'end_test' : 550,\n",
    "    'n_test' : 1,\n",
    "    'min_trials' : 25,\n",
    "    'nonmatch': True,\n",
    "    'avgwin' : 100,\n",
    "    'min_sp_sec' : 1,\n",
    "    'norm' : False,\n",
    "    'zscore' : True,\n",
    "    'select_n_neu' : 100,}"
   ]
  },
  {
   "cell_type": "code",
   "execution_count": 10,
   "metadata": {},
   "outputs": [
    {
     "name": "stdout",
     "output_type": "stream",
     "text": [
      "Compute distances\n"
     ]
    },
    {
     "name": "stderr",
     "output_type": "stream",
     "text": [
      "100%|██████████| 530/530 [00:03<00:00, 162.72it/s]\n"
     ]
    },
    {
     "name": "stdout",
     "output_type": "stream",
     "text": [
      "start iterations\n"
     ]
    },
    {
     "name": "stderr",
     "output_type": "stream",
     "text": [
      "100%|██████████| 1000/1000 [02:15<00:00,  7.39it/s]\n"
     ]
    }
   ],
   "source": [
    "res = compute_population_distance.compute_distance(**preprocessing, **paths)"
   ]
  },
  {
   "cell_type": "code",
   "execution_count": 11,
   "metadata": {},
   "outputs": [
    {
     "data": {
      "text/plain": [
       "<ephysvibe.structures.results.Results at 0x7f85107062b0>"
      ]
     },
     "execution_count": 11,
     "metadata": {},
     "output_type": "execute_result"
    }
   ],
   "source": [
    "res"
   ]
  },
  {
   "cell_type": "code",
   "execution_count": null,
   "metadata": {},
   "outputs": [],
   "source": []
  }
 ],
 "metadata": {
  "kernelspec": {
   "display_name": "Users-2Kpmrf9_",
   "language": "python",
   "name": "python3"
  },
  "language_info": {
   "codemirror_mode": {
    "name": "ipython",
    "version": 3
   },
   "file_extension": ".py",
   "mimetype": "text/x-python",
   "name": "python",
   "nbconvert_exporter": "python",
   "pygments_lexer": "ipython3",
   "version": "3.9.18"
  }
 },
 "nbformat": 4,
 "nbformat_minor": 2
}
