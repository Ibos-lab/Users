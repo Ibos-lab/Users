{
 "cells": [
  {
   "cell_type": "code",
   "execution_count": 1,
   "metadata": {},
   "outputs": [],
   "source": [
    "from ephysvibe.structures.population_data import PopulationData\n",
    "from ephysvibe.structures.neuron_data import NeuronData\n",
    "from ephysvibe.structures.results import Results\n",
    "from ephysvibe.stats import smetrics\n",
    "# from preproc_tools import get_fr_by_sample\n",
    "import numpy as np\n",
    "#import compute_population_distance\n",
    "from joblib import Parallel, delayed\n",
    "from tqdm import tqdm\n",
    "import matplotlib.pyplot as plt\n",
    "import numpy as np\n",
    "from sklearn.decomposition import PCA\n",
    "from ephysvibe.stats import smetrics"
   ]
  },
  {
   "cell_type": "code",
   "execution_count": 2,
   "metadata": {},
   "outputs": [],
   "source": [
    "from scipy.spatial.distance import pdist\n",
    "from scipy.spatial import distance\n",
    "from sklearn.metrics.pairwise import cosine_similarity"
   ]
  },
  {
   "cell_type": "code",
   "execution_count": 3,
   "metadata": {},
   "outputs": [
    {
     "data": {
      "text/plain": [
       "(2, 3)"
      ]
     },
     "execution_count": 3,
     "metadata": {},
     "output_type": "execute_result"
    }
   ],
   "source": [
    "x = np.array([[2, 0, 2], [2, 2, 3]])\n",
    "x.shape"
   ]
  },
  {
   "cell_type": "code",
   "execution_count": 4,
   "metadata": {},
   "outputs": [
    {
     "name": "stdout",
     "output_type": "stream",
     "text": [
      "[[2 0 2]\n",
      " [2 2 3]]\n",
      "[0.14250707]\n"
     ]
    }
   ],
   "source": [
    "u=[1,0]\n",
    "v=[-1,1]\n",
    "print(x)\n",
    "print(pdist(x,metric='cosine'))"
   ]
  },
  {
   "cell_type": "code",
   "execution_count": 5,
   "metadata": {},
   "outputs": [
    {
     "data": {
      "text/plain": [
       "0.1425070742874559"
      ]
     },
     "execution_count": 5,
     "metadata": {},
     "output_type": "execute_result"
    }
   ],
   "source": [
    "distance.cosine(x[0],x[1])"
   ]
  },
  {
   "cell_type": "code",
   "execution_count": 15,
   "metadata": {},
   "outputs": [],
   "source": [
    "A = np.array([[1, 0,]])\n",
    "B = np.array([[0, -1]])"
   ]
  },
  {
   "cell_type": "code",
   "execution_count": 16,
   "metadata": {},
   "outputs": [
    {
     "data": {
      "text/plain": [
       "array([[0.]])"
      ]
     },
     "execution_count": 16,
     "metadata": {},
     "output_type": "execute_result"
    }
   ],
   "source": [
    "cosine_similarity(A,B)"
   ]
  },
  {
   "cell_type": "code",
   "execution_count": 22,
   "metadata": {},
   "outputs": [
    {
     "data": {
      "text/plain": [
       "array([[90.]])"
      ]
     },
     "execution_count": 22,
     "metadata": {},
     "output_type": "execute_result"
    }
   ],
   "source": [
    "(((1-cosine_similarity(A,B))/2)*np.pi)*360/(2*np.pi)"
   ]
  },
  {
   "cell_type": "code",
   "execution_count": 6,
   "metadata": {},
   "outputs": [
    {
     "data": {
      "text/plain": [
       "array([2.23606798])"
      ]
     },
     "execution_count": 6,
     "metadata": {},
     "output_type": "execute_result"
    }
   ],
   "source": [
    "pdist(x,metric='euclidean')"
   ]
  },
  {
   "cell_type": "markdown",
   "metadata": {},
   "source": [
    "### Start preprocessing"
   ]
  },
  {
   "cell_type": "code",
   "execution_count": 5,
   "metadata": {},
   "outputs": [],
   "source": [
    "paths={\n",
    "  'input': \"/envau/work/invibe/USERS/IBOS/data/Riesling/TSCM/OpenEphys/population/lip/2024_08_28_12_23_36/population.h5\",\n",
    "  'nidpath': None,#\"/envau/work/invibe/USERS/IBOS/data/Riesling/TSCM/OpenEphys/selectivity/all_trials/2024_09_13_11_38_12/lip_no_neutral_inout_selectivity.csv\"\n",
    "  }\n",
    "preprocessing={\n",
    "    'time_before_son': \"time_before_son_in\",\n",
    "    'time_before_t1on': \"time_before_t1on_in\",\n",
    "    'sp_son': \"sp_son_in\",\n",
    "    'sp_t1on': \"sp_t1on_in\",\n",
    "    'mask_son': \"mask_son_in\",\n",
    "    'start_sample' : -200,\n",
    "    'end_sample' : 850,\n",
    "    'start_test' : -400,\n",
    "    'end_test' : 550,\n",
    "    'n_test' : 1,\n",
    "    'min_trials' : 25,\n",
    "    'nonmatch': True,\n",
    "    'avgwin' : 100,\n",
    "    'min_sp_sec' : 1,\n",
    "    'norm' : False,\n",
    "    'zscore' : False,\n",
    "    'select_n_neu' : 100,\n",
    "    'percentile':True,\n",
    "    'cerotr':True,\n",
    "    'metric':'cosine'}"
   ]
  },
  {
   "cell_type": "code",
   "execution_count": 6,
   "metadata": {},
   "outputs": [],
   "source": [
    "import pandas as pd\n",
    "import preproc_tools\n",
    "seed=1997"
   ]
  },
  {
   "cell_type": "code",
   "execution_count": 7,
   "metadata": {},
   "outputs": [],
   "source": [
    "def compute_distance(\n",
    "    input,\n",
    "    sp_son,\n",
    "    sp_t1on,\n",
    "    mask_son,\n",
    "    start_sample,\n",
    "    end_sample,\n",
    "    start_test,\n",
    "    end_test,\n",
    "    time_before_son,\n",
    "    time_before_t1on,\n",
    "    avgwin,\n",
    "    min_sp_sec,\n",
    "    n_test,\n",
    "    min_trials,\n",
    "    nonmatch,\n",
    "    norm,\n",
    "    zscore,\n",
    "    select_n_neu,\n",
    "    nidpath,\n",
    "    percentile,\n",
    "    cerotr,\n",
    "    metric,\n",
    "):\n",
    "\n",
    "    # ------------------------------------------ Start preprocessing ----------------------------------------\n",
    "    print(\"Compute distances\")\n",
    "\n",
    "    rng = np.random.default_rng(seed)\n",
    "    res = {}\n",
    "\n",
    "    popu = PopulationData.from_python_hdf5(input)\n",
    "    include_nid = None\n",
    "    if nidpath is not None:\n",
    "        df_sel = pd.read_csv(nidpath)\n",
    "        include_nid = df_sel[\"nid\"].values\n",
    "    all_fr_samples = popu.execute_function(\n",
    "        preproc_tools.get_fr_by_sample,\n",
    "        time_before_son=time_before_son,\n",
    "        time_before_t1on=time_before_t1on,\n",
    "        sp_son=sp_son,\n",
    "        sp_t1on=sp_t1on,\n",
    "        mask_son=mask_son,\n",
    "        start_sample=start_sample,\n",
    "        end_sample=end_sample,\n",
    "        start_test=start_test,\n",
    "        end_test=end_test,\n",
    "        n_test=n_test,\n",
    "        min_trials=min_trials,\n",
    "        min_neu=False,\n",
    "        nonmatch=nonmatch,\n",
    "        avgwin=avgwin,\n",
    "        n_sp_sec=min_sp_sec,\n",
    "        norm=norm,\n",
    "        zscore=zscore,\n",
    "        include_nid=include_nid,\n",
    "        n_jobs=-1,\n",
    "        ret_df=False,\n",
    "        cerotr=cerotr,\n",
    "        percentile=percentile,\n",
    "    )\n",
    "\n",
    "    fr_dicts_only = [item for item in all_fr_samples if isinstance(item, dict)]\n",
    "\n",
    "    print(\"start iterations\")\n",
    "    distance_data = []\n",
    "    for _ in tqdm(range(1000)):\n",
    "        dist = get_distance(\n",
    "            fr_dicts_only,\n",
    "            rng=rng,\n",
    "            min_trials=min_trials,\n",
    "            select_n_neu=select_n_neu,\n",
    "            metric=metric,\n",
    "        )\n",
    "        distance_data.append(dist)\n",
    "\n",
    "    all_dist_n_nn = []\n",
    "    all_dist_fake_n_nn = []\n",
    "    for asc in distance_data:\n",
    "        all_dist_n_nn.append(asc[\"dist_n_nn\"])\n",
    "        all_dist_fake_n_nn.append(asc[\"dist_fake_n_nn\"])\n",
    "    all_dist_n_nn = np.array(all_dist_n_nn, dtype=np.float32)\n",
    "    all_dist_fake_n_nn = np.array(all_dist_fake_n_nn, dtype=np.float32)\n",
    "    res[\"dist_n_nn\"] = all_dist_n_nn\n",
    "    res[\"dist_fake_n_nn\"] = all_dist_fake_n_nn\n",
    "    res[\"n_neurons\"] = asc[\"n_neurons\"]\n",
    "\n",
    "    res = Results(\"population_distance.py\", input, distance=res)\n",
    "    return res"
   ]
  },
  {
   "cell_type": "code",
   "execution_count": 8,
   "metadata": {},
   "outputs": [],
   "source": [
    "\n",
    "def scrum_neutralsize_samepool(data, ntr, rng):\n",
    "\n",
    "    nn = np.concatenate((data[\"11\"], data[\"15\"], data[\"51\"], data[\"55\"]), axis=0)\n",
    "    size_nn = nn.shape[0]\n",
    "\n",
    "    idx_tr = rng.choice(size_nn, size=ntr, replace=False)\n",
    "    nn_trs = nn[idx_tr]\n",
    "\n",
    "    idx_tr = rng.choice(data[\"0\"].shape[0], size=ntr, replace=False)\n",
    "    neutral_trs = data[\"0\"][idx_tr]\n",
    "\n",
    "    meanfr0 = np.mean(neutral_trs, axis=0)\n",
    "    meanfr11 = np.mean(nn_trs, axis=0)\n",
    "    meanfr15 = np.mean(nn_trs, axis=0)\n",
    "    meanfr51 = np.mean(nn_trs, axis=0)\n",
    "    meanfr55 = np.mean(nn_trs, axis=0)\n",
    "\n",
    "    all_s = np.concatenate((neutral_trs, nn_trs), axis=0)\n",
    "\n",
    "    idx_tr = rng.choice(len(all_s), size=ntr * 2, replace=False)\n",
    "    g1 = np.mean(all_s[idx_tr[:ntr]], axis=0)\n",
    "    g2 = np.mean(all_s[idx_tr[ntr:]], axis=0)\n",
    "\n",
    "    return meanfr0, meanfr11, meanfr15, meanfr51, meanfr55, g1, g2"
   ]
  },
  {
   "cell_type": "code",
   "execution_count": 9,
   "metadata": {},
   "outputs": [],
   "source": [
    "def get_distance(data, rng, min_trials, metric, select_n_neu=100):\n",
    "\n",
    "    g1mean, g2mean = [], []\n",
    "    s0mean, s11mean, s15mean, s51mean, s55mean = [], [], [], [], []\n",
    "\n",
    "    for idata in data:\n",
    "        meanfr0, meanfr11, meanfr15, meanfr51, meanfr55, g1, g2 = (\n",
    "            scrum_neutralsize_samepool(idata, min_trials, rng)\n",
    "        )\n",
    "\n",
    "        s0mean.append(meanfr0)\n",
    "        s11mean.append(meanfr11)\n",
    "        s15mean.append(meanfr15)\n",
    "        s51mean.append(meanfr51)\n",
    "        s55mean.append(meanfr55)\n",
    "        g1mean.append(g1)\n",
    "        g2mean.append(g2)\n",
    "\n",
    "    neufr = {\n",
    "        \"0mean\": s0mean,\n",
    "        \"11mean\": s11mean,\n",
    "        \"15mean\": s15mean,\n",
    "        \"51mean\": s51mean,\n",
    "        \"55mean\": s55mean,\n",
    "        \"g1mean\": g1mean,\n",
    "        \"g2mean\": g2mean,\n",
    "    }\n",
    "\n",
    "    fr_concat = np.concatenate(\n",
    "        (\n",
    "            neufr[\"0mean\"],\n",
    "            neufr[\"11mean\"],\n",
    "            neufr[\"15mean\"],\n",
    "            neufr[\"51mean\"],\n",
    "            neufr[\"55mean\"],\n",
    "        ),\n",
    "        axis=1,\n",
    "    )\n",
    "    fr_group_concat = np.concatenate((neufr[\"g1mean\"], neufr[\"g2mean\"]), axis=1)\n",
    "\n",
    "    n_neurons = fr_concat.shape[0]\n",
    "    idx_neu = rng.choice(n_neurons, size=select_n_neu, replace=False)\n",
    "    allsamp_fr = fr_concat[idx_neu]\n",
    "    fr_group_concat = fr_group_concat[idx_neu]\n",
    "    reshape_pc = allsamp_fr.reshape(select_n_neu, 5, -1)\n",
    "    reshape_pc = np.concatenate(\n",
    "        (reshape_pc[:, 0], np.mean(reshape_pc[:, 1:], axis=1)), axis=1\n",
    "    ).reshape(select_n_neu, 2, -1)\n",
    "    fr_groups = fr_group_concat.reshape(select_n_neu, 2, -1)\n",
    "    dist_n_nn = []\n",
    "    dist_fake_n_nn = []\n",
    "    if metric == 'cosine':\n",
    "        model = PCA(n_components=select_n_neu).fit(reshape_pc.reshape(select_n_neu,-1).T)\n",
    "        C = model.components_\n",
    "        reshape_pc = reshape_pc - C.reshape(-1,1,1)\n",
    "\n",
    "\n",
    "    for i in range(reshape_pc.shape[-1]):\n",
    "\n",
    "        dist_n_nn.append(\n",
    "            pdist(np.array((reshape_pc[:, 0, i], reshape_pc[:, 1, i])), metric=metric)\n",
    "        )\n",
    "        dist_fake_n_nn.append(\n",
    "            pdist(np.array((fr_groups[:, 0, i], fr_groups[:, 1, i])), metric=metric)\n",
    "        )\n",
    "\n",
    "    return {\n",
    "        \"dist_n_nn\": np.array(dist_n_nn).reshape(-1),\n",
    "        \"dist_fake_n_nn\": np.array(dist_fake_n_nn).reshape(-1),\n",
    "        \"n_neurons\": n_neurons,\n",
    "    }\n"
   ]
  },
  {
   "cell_type": "code",
   "execution_count": 11,
   "metadata": {},
   "outputs": [
    {
     "name": "stdout",
     "output_type": "stream",
     "text": [
      "Compute distances\n"
     ]
    },
    {
     "name": "stderr",
     "output_type": "stream",
     "text": [
      "100%|██████████| 530/530 [00:08<00:00, 63.13it/s]\n"
     ]
    },
    {
     "name": "stdout",
     "output_type": "stream",
     "text": [
      "start iterations\n"
     ]
    },
    {
     "name": "stderr",
     "output_type": "stream",
     "text": [
      "  0%|          | 0/1000 [00:00<?, ?it/s]"
     ]
    },
    {
     "data": {
      "image/png": "[encoded data removed]",
      "text/plain": [
       "<Figure size 640x480 with 1 Axes>"
      ]
     },
     "metadata": {},
     "output_type": "display_data"
    },
    {
     "name": "stderr",
     "output_type": "stream",
     "text": [
      "  0%|          | 0/1000 [07:02<?, ?it/s]\n"
     ]
    },
    {
     "ename": "ValueError",
     "evalue": "operands could not be broadcast together with shapes (100,2,2000) (10000,1,1) ",
     "output_type": "error",
     "traceback": [
      "\u001b[0;31m---------------------------------------------------------------------------\u001b[0m",
      "\u001b[0;31mValueError\u001b[0m                                Traceback (most recent call last)",
      "Cell \u001b[0;32mIn[11], line 1\u001b[0m\n\u001b[0;32m----> 1\u001b[0m res \u001b[38;5;241m=\u001b[39m \u001b[43mcompute_distance\u001b[49m\u001b[43m(\u001b[49m\u001b[38;5;241;43m*\u001b[39;49m\u001b[38;5;241;43m*\u001b[39;49m\u001b[43mpreprocessing\u001b[49m\u001b[43m,\u001b[49m\u001b[43m \u001b[49m\u001b[38;5;241;43m*\u001b[39;49m\u001b[38;5;241;43m*\u001b[39;49m\u001b[43mpaths\u001b[49m\u001b[43m)\u001b[49m\n",
      "Cell \u001b[0;32mIn[7], line 68\u001b[0m, in \u001b[0;36mcompute_distance\u001b[0;34m(input, sp_son, sp_t1on, mask_son, start_sample, end_sample, start_test, end_test, time_before_son, time_before_t1on, avgwin, min_sp_sec, n_test, min_trials, nonmatch, norm, zscore, select_n_neu, nidpath, percentile, cerotr, metric)\u001b[0m\n\u001b[1;32m     66\u001b[0m distance_data \u001b[38;5;241m=\u001b[39m []\n\u001b[1;32m     67\u001b[0m \u001b[38;5;28;01mfor\u001b[39;00m _ \u001b[38;5;129;01min\u001b[39;00m tqdm(\u001b[38;5;28mrange\u001b[39m(\u001b[38;5;241m1000\u001b[39m)):\n\u001b[0;32m---> 68\u001b[0m     dist \u001b[38;5;241m=\u001b[39m \u001b[43mget_distance\u001b[49m\u001b[43m(\u001b[49m\n\u001b[1;32m     69\u001b[0m \u001b[43m        \u001b[49m\u001b[43mfr_dicts_only\u001b[49m\u001b[43m,\u001b[49m\n\u001b[1;32m     70\u001b[0m \u001b[43m        \u001b[49m\u001b[43mrng\u001b[49m\u001b[38;5;241;43m=\u001b[39;49m\u001b[43mrng\u001b[49m\u001b[43m,\u001b[49m\n\u001b[1;32m     71\u001b[0m \u001b[43m        \u001b[49m\u001b[43mmin_trials\u001b[49m\u001b[38;5;241;43m=\u001b[39;49m\u001b[43mmin_trials\u001b[49m\u001b[43m,\u001b[49m\n\u001b[1;32m     72\u001b[0m \u001b[43m        \u001b[49m\u001b[43mselect_n_neu\u001b[49m\u001b[38;5;241;43m=\u001b[39;49m\u001b[43mselect_n_neu\u001b[49m\u001b[43m,\u001b[49m\n\u001b[1;32m     73\u001b[0m \u001b[43m        \u001b[49m\u001b[43mmetric\u001b[49m\u001b[38;5;241;43m=\u001b[39;49m\u001b[43mmetric\u001b[49m\u001b[43m,\u001b[49m\n\u001b[1;32m     74\u001b[0m \u001b[43m    \u001b[49m\u001b[43m)\u001b[49m\n\u001b[1;32m     75\u001b[0m     distance_data\u001b[38;5;241m.\u001b[39mappend(dist)\n\u001b[1;32m     77\u001b[0m all_dist_n_nn \u001b[38;5;241m=\u001b[39m []\n",
      "Cell \u001b[0;32mIn[9], line 55\u001b[0m, in \u001b[0;36mget_distance\u001b[0;34m(data, rng, min_trials, metric, select_n_neu)\u001b[0m\n\u001b[1;32m     53\u001b[0m     model \u001b[38;5;241m=\u001b[39m PCA(n_components\u001b[38;5;241m=\u001b[39mselect_n_neu)\u001b[38;5;241m.\u001b[39mfit(reshape_pc\u001b[38;5;241m.\u001b[39mreshape(select_n_neu,\u001b[38;5;241m-\u001b[39m\u001b[38;5;241m1\u001b[39m)\u001b[38;5;241m.\u001b[39mT)\n\u001b[1;32m     54\u001b[0m     C \u001b[38;5;241m=\u001b[39m model\u001b[38;5;241m.\u001b[39mcomponents_\n\u001b[0;32m---> 55\u001b[0m     reshape_pc \u001b[38;5;241m=\u001b[39m \u001b[43mreshape_pc\u001b[49m\u001b[43m \u001b[49m\u001b[38;5;241;43m-\u001b[39;49m\u001b[43m \u001b[49m\u001b[43mC\u001b[49m\u001b[38;5;241;43m.\u001b[39;49m\u001b[43mreshape\u001b[49m\u001b[43m(\u001b[49m\u001b[38;5;241;43m-\u001b[39;49m\u001b[38;5;241;43m1\u001b[39;49m\u001b[43m,\u001b[49m\u001b[38;5;241;43m1\u001b[39;49m\u001b[43m,\u001b[49m\u001b[38;5;241;43m1\u001b[39;49m\u001b[43m)\u001b[49m\n\u001b[1;32m     58\u001b[0m \u001b[38;5;28;01mfor\u001b[39;00m i \u001b[38;5;129;01min\u001b[39;00m \u001b[38;5;28mrange\u001b[39m(reshape_pc\u001b[38;5;241m.\u001b[39mshape[\u001b[38;5;241m-\u001b[39m\u001b[38;5;241m1\u001b[39m]):\n\u001b[1;32m     60\u001b[0m     dist_n_nn\u001b[38;5;241m.\u001b[39mappend(\n\u001b[1;32m     61\u001b[0m         pdist(np\u001b[38;5;241m.\u001b[39marray((reshape_pc[:, \u001b[38;5;241m0\u001b[39m, i], reshape_pc[:, \u001b[38;5;241m1\u001b[39m, i])), metric\u001b[38;5;241m=\u001b[39mmetric)\n\u001b[1;32m     62\u001b[0m     )\n",
      "\u001b[0;31mValueError\u001b[0m: operands could not be broadcast together with shapes (100,2,2000) (10000,1,1) "
     ]
    }
   ],
   "source": [
    "res = compute_distance(**preprocessing, **paths)"
   ]
  },
  {
   "cell_type": "code",
   "execution_count": null,
   "metadata": {},
   "outputs": [],
   "source": []
  },
  {
   "cell_type": "code",
   "execution_count": 21,
   "metadata": {},
   "outputs": [],
   "source": [
    "def perm_test(x,y):\n",
    "    p=[]\n",
    "    for it in range(y.shape[1]):\n",
    "        y_rep = np.repeat(y[:,it].reshape(1,-1),len(y[:,it]),axis=0)\n",
    "        x_rep = np.repeat(x[:,it].reshape(1,-1),len(x[:,it]),axis=0).T\n",
    "\n",
    "        p.append(np.sum((x_rep-y_rep).reshape(-1)>0)/len((x_rep-y_rep).reshape(-1)))\n",
    "    p=np.array(p)\n",
    "    return p"
   ]
  },
  {
   "cell_type": "code",
   "execution_count": 22,
   "metadata": {},
   "outputs": [],
   "source": [
    "color={'lip': '#23BCBA','pfc':'#B6BD32','v4':'#8F4A9D'}"
   ]
  },
  {
   "cell_type": "code",
   "execution_count": 24,
   "metadata": {},
   "outputs": [
    {
     "data": {
      "image/png": "[encoded data removed]",
      "text/plain": [
       "<Figure size 1000x600 with 1 Axes>"
      ]
     },
     "metadata": {},
     "output_type": "display_data"
    }
   ],
   "source": [
    "_=plt.figure(figsize=(10,6))\n",
    "for ia,area in enumerate(['lip']):\n",
    "    d=res.distance['dist_n_nn']\n",
    "    fd=res.distance['dist_fake_n_nn']\n",
    "\n",
    "    p = perm_test(d,fd)\n",
    "    p = np.where(p>0.95,True,np.nan)\n",
    "    latency,_=smetrics.find_latency(\n",
    "        p_value=1-p, win=75, step= 1, p_treshold= 0.05\n",
    "        )   \n",
    "    p[:latency]=np.nan\n",
    "    latency=latency-200\n",
    "\n",
    "    _=plt.plot(np.arange(len(p))-200,np.mean(d,axis=0),color=color[area],label=area+'(n:'+str(res.distance['n_neurons'])+') - Lat='+str(latency))\n",
    "    plt.errorbar(np.arange(len(p))-200,np.mean(d,axis=0),yerr=np.std(d,axis=0),color=color[area],alpha=0.3)\n",
    "    _=plt.plot(np.arange(len(p))-200,(p/100)-(ia/10)+0,color=color[area])\n",
    "\n",
    "plt.legend(loc='upper left')\n",
    "_=plt.title('all_neurons_in')"
   ]
  },
  {
   "cell_type": "code",
   "execution_count": null,
   "metadata": {},
   "outputs": [],
   "source": []
  }
 ],
 "metadata": {
  "kernelspec": {
   "display_name": "Users-2Kpmrf9_",
   "language": "python",
   "name": "python3"
  },
  "language_info": {
   "codemirror_mode": {
    "name": "ipython",
    "version": 3
   },
   "file_extension": ".py",
   "mimetype": "text/x-python",
   "name": "python",
   "nbconvert_exporter": "python",
   "pygments_lexer": "ipython3",
   "version": "3.9.18"
  }
 },
 "nbformat": 4,
 "nbformat_minor": 2
}
