{
 "cells": [
  {
   "cell_type": "code",
   "execution_count": 29,
   "metadata": {},
   "outputs": [],
   "source": [
    "from ephysvibe.structures.population_data import PopulationData\n",
    "from ephysvibe.structures.neuron_data import NeuronData\n",
    "from ephysvibe.trials.spikes import firing_rate\n",
    "from ephysvibe.trials import select_trials\n",
    "from ephysvibe.task import task_constants\n",
    "\n",
    "import numpy as np\n",
    "from sklearn.decomposition import PCA"
   ]
  },
  {
   "cell_type": "code",
   "execution_count": 5,
   "metadata": {},
   "outputs": [],
   "source": [
    "def check_number_of_trials(xdict, samples, min_ntr):\n",
    "    for key in samples:\n",
    "        if xdict[key].shape[0] < min_ntr:\n",
    "            return False\n",
    "    return True"
   ]
  },
  {
   "cell_type": "code",
   "execution_count": 20,
   "metadata": {},
   "outputs": [],
   "source": [
    "def preproc_for_pca(\n",
    "    neu: NeuronData,\n",
    "    time_before_son: str,\n",
    "    time_before_t1on: str,\n",
    "    sp_son: str,\n",
    "    sp_t1on: str,\n",
    "    mask_son: str,\n",
    "    min_ntr: int,\n",
    "    start_sample: int,\n",
    "    end_sample: int,\n",
    "    start_test: int,\n",
    "    end_test: int,\n",
    "    avgwin: int = 100,\n",
    "    step: int = 1,\n",
    "    zscore=False,\n",
    "    no_match=False,\n",
    "):\n",
    "    # Average fr across time\n",
    "    idx_start_sample = int((getattr(neu, time_before_son) + start_sample) / step)\n",
    "    idx_end_sample = int((getattr(neu, time_before_son) + end_sample) / step)\n",
    "    idx_start_test = int((getattr(neu, time_before_t1on) + start_test) / step)\n",
    "    idx_end_test = int((getattr(neu, time_before_t1on) + end_test) / step)\n",
    "    sampleon = getattr(neu, sp_son)\n",
    "    t1on = getattr(neu, sp_t1on)\n",
    "\n",
    "    fr_son = firing_rate.moving_average(sampleon, win=avgwin, step=step)[\n",
    "        :, idx_start_sample:idx_end_sample\n",
    "    ]\n",
    "    fr_t1on = firing_rate.moving_average(t1on, win=avgwin, step=step)[\n",
    "        :, idx_start_test:idx_end_test\n",
    "    ]\n",
    "\n",
    "    fr = np.concatenate([fr_son, fr_t1on], axis=1)\n",
    "    mask_son = getattr(neu, mask_son)\n",
    "    sample_id = neu.sample_id[mask_son]\n",
    "    if no_match:\n",
    "        mask_no_match = np.where(\n",
    "            neu.test_stimuli[mask_son, 0] == sample_id,\n",
    "            False,\n",
    "            True,\n",
    "        )\n",
    "        fr = fr[mask_no_match]\n",
    "        sample_id = sample_id[mask_no_match]\n",
    "    if len(fr) < 2:\n",
    "        return None\n",
    "    if zscore:\n",
    "        fr_std = np.std(fr, ddof=1, axis=0)\n",
    "        fr_std = np.where(fr_std == 0, 1, fr_std)\n",
    "        fr = (fr - np.mean(fr, axis=0).reshape(1, -1)) / fr_std.reshape(1, -1)\n",
    "\n",
    "    fr = np.array(fr, dtype=np.float32)\n",
    "    fr_samples = select_trials.get_sp_by_sample(fr, sample_id)\n",
    "    samples = [\"0\",\"11\", \"15\", \"51\", \"55\"]\n",
    "    enough_tr = check_number_of_trials(fr_samples, samples, min_ntr)\n",
    "    if not enough_tr:\n",
    "        return None\n",
    "    return fr_samples"
   ]
  },
  {
   "cell_type": "code",
   "execution_count": 30,
   "metadata": {},
   "outputs": [],
   "source": [
    "def compute_pca(x, n_comp=50):\n",
    "    model = PCA(n_components=n_comp).fit(x.T)\n",
    "    C = model.components_\n",
    "    pc_s = C @ x\n",
    "    return model, pc_s"
   ]
  },
  {
   "cell_type": "code",
   "execution_count": 21,
   "metadata": {},
   "outputs": [],
   "source": [
    "args={\n",
    "    \"preprocessing\": {\n",
    "        \"min_ntr\": 15,\n",
    "        \"start_sample\": -200,\n",
    "        \"end_sample\": 850,\n",
    "        \"start_test\": -400,\n",
    "        \"end_test\": 500,\n",
    "        \"step\": 1,\n",
    "        \"time_before_son\": \"time_before_son_in\",\n",
    "        \"time_before_t1on\": \"time_before_t1on_in\",\n",
    "        \"sp_son\": \"sp_son_in\",\n",
    "        \"sp_t1on\": \"sp_t1on_in\",\n",
    "        \"mask_son\": \"mask_son_in\",\n",
    "        \"zscore\":False,\n",
    "        \"no_match\": False,\n",
    "    },\n",
    "    # workspace\n",
    "    \"workspace\": {\"output\": \"\", \"path\": \"\"},\n",
    "}"
   ]
  },
  {
   "cell_type": "code",
   "execution_count": 22,
   "metadata": {},
   "outputs": [],
   "source": [
    "trial_duration = int(\n",
    "    (\n",
    "        (args['preprocessing'][\"end_sample\"] - args['preprocessing'][\"start_sample\"])\n",
    "        + (args['preprocessing'][\"end_test\"] - args['preprocessing'][\"start_test\"])\n",
    "    )\n",
    "    / args['preprocessing'][\"step\"]\n",
    ")"
   ]
  },
  {
   "cell_type": "code",
   "execution_count": 23,
   "metadata": {},
   "outputs": [],
   "source": [
    "popu = PopulationData.from_python_hdf5(\"/envau/work/invibe/USERS/IBOS/data/Riesling/TSCM/OpenEphys/population/lip/2024_08_28_12_23_36/population.h5\")"
   ]
  },
  {
   "cell_type": "code",
   "execution_count": 24,
   "metadata": {},
   "outputs": [
    {
     "name": "stderr",
     "output_type": "stream",
     "text": [
      "100%|██████████| 530/530 [00:24<00:00, 21.74it/s]\n"
     ]
    }
   ],
   "source": [
    "\n",
    "list_data = popu.execute_function(\n",
    "    preproc_for_pca,\n",
    "    **args['preprocessing'],\n",
    "    ret_df=False,\n",
    ")\n",
    "list_data = [idata for idata in list_data if idata is not None]"
   ]
  },
  {
   "cell_type": "code",
   "execution_count": 25,
   "metadata": {},
   "outputs": [
    {
     "data": {
      "text/plain": [
       "502"
      ]
     },
     "execution_count": 25,
     "metadata": {},
     "output_type": "execute_result"
    }
   ],
   "source": [
    "len(list_data)"
   ]
  },
  {
   "cell_type": "code",
   "execution_count": 26,
   "metadata": {},
   "outputs": [],
   "source": [
    "fr_cells= np.empty((len(list_data),int(trial_duration*5)),dtype=np.float16)\n",
    "for i,idata in enumerate(list_data):\n",
    "    \n",
    "    fr_cells[i] = np.concatenate((np.mean(idata ['0'],axis=0),np.mean(idata['11'],axis=0),np.mean(idata['15'],axis=0),np.mean(idata['51'],axis=0),np.mean(idata['55'],axis=0)))"
   ]
  },
  {
   "cell_type": "code",
   "execution_count": 31,
   "metadata": {},
   "outputs": [],
   "source": [
    "model,pc_s = compute_pca(fr_cells,n_comp=200)"
   ]
  },
  {
   "cell_type": "code",
   "execution_count": null,
   "metadata": {},
   "outputs": [],
   "source": [
    "\n",
    "reshape_pc_s = pc_s.reshape(n_comp,-1,trial_duration)\n",
    "f,ax=plt.subplots(3,2,figsize=(15,10),sharex=True)\n",
    "for i_sample in samples.keys():\n",
    "    \n",
    "    ax[0,0].plot((np.arange(trial_duration)-200)[:part1],reshape_pc_s[0,samples[i_sample],:part1],color=task_constants.PALETTE_B1[i_sample],label=i_sample)\n",
    "    ax[0,1].plot((np.arange(trial_duration)-200)[:part1],reshape_pc_s[1,samples[i_sample],:part1],color=task_constants.PALETTE_B1[i_sample],label=i_sample)\n",
    "    ax[1,0].plot((np.arange(trial_duration)-200)[:part1],reshape_pc_s[2,samples[i_sample],:part1],color=task_constants.PALETTE_B1[i_sample],label=i_sample)\n",
    "    ax[1,1].plot((np.arange(trial_duration)-200)[:part1],reshape_pc_s[3,samples[i_sample],:part1],color=task_constants.PALETTE_B1[i_sample],label=i_sample)\n",
    "    ax[2,0].plot((np.arange(trial_duration)-200)[:part1],reshape_pc_s[4,samples[i_sample],:part1],color=task_constants.PALETTE_B1[i_sample],label=i_sample)\n",
    "    ax[2,1].plot((np.arange(trial_duration)-200)[:part1],reshape_pc_s[5,samples[i_sample],:part1],color=task_constants.PALETTE_B1[i_sample],label=i_sample)\n",
    "\n",
    "    ax[0,0].plot((np.arange(trial_duration)-200)[part1:],reshape_pc_s[0,samples[i_sample],part1:],color=task_constants.PALETTE_B1[i_sample])\n",
    "    ax[0,1].plot((np.arange(trial_duration)-200)[part1:],reshape_pc_s[1,samples[i_sample],part1:],color=task_constants.PALETTE_B1[i_sample])\n",
    "    ax[1,0].plot((np.arange(trial_duration)-200)[part1:],reshape_pc_s[2,samples[i_sample],part1:],color=task_constants.PALETTE_B1[i_sample])\n",
    "    ax[1,1].plot((np.arange(trial_duration)-200)[part1:],reshape_pc_s[3,samples[i_sample],part1:],color=task_constants.PALETTE_B1[i_sample])\n",
    "    ax[2,0].plot((np.arange(trial_duration)-200)[part1:],reshape_pc_s[4,samples[i_sample],part1:],color=task_constants.PALETTE_B1[i_sample])\n",
    "    ax[2,1].plot((np.arange(trial_duration)-200)[part1:],reshape_pc_s[5,samples[i_sample],part1:],color=task_constants.PALETTE_B1[i_sample])\n",
    "\n",
    "ax[0,0].vlines([0,458,1258],ax[0,0].get_ylim()[0],ax[0,0].get_ylim()[1],color='k',linestyle='--',linewidth=0.5)\n",
    "ax[0,1].vlines([0,458,1258],ax[0,1].get_ylim()[0],ax[0,1].get_ylim()[1],color='k',linestyle='--',linewidth=0.5)\n",
    "ax[1,0].vlines([0,458,1258],ax[1,0].get_ylim()[0],ax[1,0].get_ylim()[1],color='k',linestyle='--',linewidth=0.5)\n",
    "ax[1,1].vlines([0,458,1258],ax[1,1].get_ylim()[0],ax[1,1].get_ylim()[1],color='k',linestyle='--',linewidth=0.5)\n",
    "ax[2,0].vlines([0,458,1258],ax[2,0].get_ylim()[0],ax[2,0].get_ylim()[1],color='k',linestyle='--',linewidth=0.5)\n",
    "ax[2,1].vlines([0,458,1258],ax[2,1].get_ylim()[0],ax[2,1].get_ylim()[1],color='k',linestyle='--',linewidth=0.5)\n",
    "\n",
    "ax[0,0].set(ylabel='PC1')\n",
    "ax[0,1].set(ylabel='PC2')\n",
    "ax[1,0].set(ylabel='PC3')\n",
    "ax[1,1].set(ylabel='PC4')\n",
    "ax[2,0].set(xlabel='Time(ms)',ylabel='PC5')\n",
    "ax[2,1].set(xlabel='Time(ms)',ylabel='PC6')\n",
    "ax[0,0].legend()\n"
   ]
  }
 ],
 "metadata": {
  "kernelspec": {
   "display_name": "Users-2Kpmrf9_",
   "language": "python",
   "name": "python3"
  },
  "language_info": {
   "codemirror_mode": {
    "name": "ipython",
    "version": 3
   },
   "file_extension": ".py",
   "mimetype": "text/x-python",
   "name": "python",
   "nbconvert_exporter": "python",
   "pygments_lexer": "ipython3",
   "version": "3.9.18"
  }
 },
 "nbformat": 4,
 "nbformat_minor": 2
}
