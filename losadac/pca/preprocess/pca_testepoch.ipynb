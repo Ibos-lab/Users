{
 "cells": [
  {
   "cell_type": "markdown",
   "metadata": {},
   "source": [
    "Preproces data for computing pca during test period\n",
    "\n",
    "trial_error:\n",
    "* 0: correct trial\n",
    "* 6: false alarm (relase during test period)\n",
    "* 8: missed target"
   ]
  },
  {
   "cell_type": "code",
   "execution_count": 1,
   "metadata": {},
   "outputs": [],
   "source": [
    "# Pipeline for preprocessing data for pca analysis\n",
    "from preproc_tools import get_neuron_sample_test_fr, to_python_hdf5\n",
    "import glob\n",
    "import os\n",
    "import numpy as np\n",
    "from joblib import Parallel, delayed\n",
    "from tqdm import tqdm\n",
    "from datetime import datetime\n",
    "import json\n",
    "from pathlib import Path\n",
    "import h5py\n",
    "from sklearn.decomposition import PCA\n",
    "from sklearn.preprocessing import StandardScaler\n",
    "from ephysvibe.trials import align_trials, select_trials\n",
    "from ephysvibe.structures.neuron_data import NeuronData"
   ]
  },
  {
   "cell_type": "code",
   "execution_count": 2,
   "metadata": {},
   "outputs": [],
   "source": [
    "def z_score(X,with_std=False):\n",
    "    # X: ndarray, shape (n_features, n_samples)\n",
    "    # X=X/ np.max(X,axis=1).reshape(-1,1)\n",
    "    ss = StandardScaler(with_mean=True, with_std=with_std)\n",
    "    Xz = ss.fit_transform(X.T).T\n",
    "    return Xz,ss"
   ]
  },
  {
   "cell_type": "code",
   "execution_count": 3,
   "metadata": {},
   "outputs": [],
   "source": [
    "def compute_pca(x, n_comp=50):\n",
    "    model = PCA(n_components=n_comp)\n",
    "    # C = model.components_\n",
    "    # pc_s = C @ x\n",
    "    pc_s = model.fit_transform(x.T).T\n",
    "    return model, pc_s"
   ]
  },
  {
   "cell_type": "code",
   "execution_count": 4,
   "metadata": {},
   "outputs": [],
   "source": [
    "def from_python_hdf5(load_path: Path):\n",
    "    \"\"\"Load data from a file in hdf5 format from Python.\"\"\"\n",
    "    with h5py.File(load_path, \"r\") as f:\n",
    "        data = []\n",
    "        for i_g in f.keys():\n",
    "            group = f[i_g]\n",
    "            dataset={}\n",
    "            for key, value in zip(group.keys(), group.values()):\n",
    "                dataset[key] = np.array(value)\n",
    "            data.append(dataset)\n",
    "    f.close()\n",
    "    return data"
   ]
  },
  {
   "cell_type": "code",
   "execution_count": 5,
   "metadata": {},
   "outputs": [],
   "source": [
    "# Define parameters\n",
    "filepaths = \"/envau/work/invibe/USERS/IBOS/data/Riesling/TSCM/OpenEphys/new_structure/session_struct/lip/neurons/\"\n",
    "outputpath = \"./test/\"\n",
    "\n",
    "area = \"lip\"\n",
    "subject = \"Riesling\"\n",
    "avgwin = 100\n",
    "min_sp_sec = 5\n",
    "n_test = 1\n",
    "min_trials = 10\n",
    "nonmatch = True  # if True: includes nonmatch trials\n",
    "\n",
    "# sample timing\n",
    "time_before_sample = 500\n",
    "start_sample = -200\n",
    "end_sample = 450 + 400\n",
    "\n",
    "# test timing\n",
    "time_before_test = 500\n",
    "start_test = -400\n",
    "end_test = n_test * 450 + 200\n",
    "# -------------------------------------------- End parameters ------------------------------------------\n",
    "\n",
    "# Compute idxs\n",
    "idx_start_sample = time_before_sample + start_sample\n",
    "idx_end_sample = time_before_sample + end_sample\n",
    "idx_start_test = time_before_test + start_test\n",
    "idx_end_test = time_before_test + end_test\n",
    "# total trial duration\n",
    "trial_dur = end_sample - start_sample + end_test - start_test\n"
   ]
  },
  {
   "cell_type": "code",
   "execution_count": 6,
   "metadata": {},
   "outputs": [],
   "source": [
    "# ------------------------------------------ Start preprocessing ----------------------------------------\n",
    "neu_path = filepaths + \"*neu.h5\"\n",
    "path_list = glob.glob(neu_path)\n"
   ]
  },
  {
   "cell_type": "code",
   "execution_count": null,
   "metadata": {},
   "outputs": [],
   "source": [
    "def get_neuron_sample_test_fr(\n",
    "    path,\n",
    "    time_before_sample,\n",
    "    time_before_test,\n",
    "    idx_start_sample,\n",
    "    idx_end_sample,\n",
    "    idx_start_test,\n",
    "    idx_end_test,\n",
    "    n_test,\n",
    "    min_trials,\n",
    "    nonmatch=True,\n",
    "    avgwin=50,\n",
    "    n_sp_sec=5,\n",
    "):\n",
    "    neu_data = NeuronData.from_python_hdf5(path)\n",
    "    select_block = 1\n",
    "    code = 1\n",
    "    # Select trials aligned to sample onset\n",
    "    sp_sample_on, sp_test_on, mask_s, mask_t = select_sample_test_aligned_trials(\n",
    "        neu_data, select_block, code, time_before_sample, time_before_test, error_type=0\n",
    "    )\n",
    "    # Build masks to select trials with match in the n_test\n",
    "    mask_match = np.where(\n",
    "        neu_data.test_stimuli[mask_t, n_test - 1] == neu_data.sample_id[mask_t],\n",
    "        True,\n",
    "        False,\n",
    "    )\n",
    "    mask_neu = neu_data.sample_id[mask_t] == 0\n",
    "    # Build masks to select trials with the selected number of test presentations\n",
    "    max_test = neu_data.test_stimuli[mask_t].shape[1]\n",
    "    mask_ntest = (\n",
    "        max_test - np.sum(np.isnan(neu_data.test_stimuli[mask_t]), axis=1)\n",
    "    ) > (n_test - 1)\n",
    "\n",
    "    if nonmatch:  # include nonmatch trials\n",
    "        mask_match_neu = np.logical_or(mask_ntest, mask_neu)\n",
    "    else:\n",
    "        mask_match_neu = np.logical_or(mask_match, mask_neu)\n",
    "    if np.sum(mask_match_neu) < 20:\n",
    "        return {\"fr\": None}\n",
    "\n",
    "    # Average fr across time\n",
    "    avg_sample_on = firing_rate.moving_average(\n",
    "        sp_sample_on[mask_match_neu], win=avgwin, step=1\n",
    "    )[:, idx_start_sample:idx_end_sample]\n",
    "    avg_test1_on = firing_rate.moving_average(\n",
    "        sp_test_on[mask_match_neu], win=avgwin, step=1\n",
    "    )[:, idx_start_test:idx_end_test]\n",
    "    # Concatenate sample and test aligned data\n",
    "    sp = np.concatenate((avg_sample_on, avg_test1_on), axis=1)\n",
    "    # Check fr\n",
    "    ms_fr = np.nanmean(sp) * 1000 > n_sp_sec\n",
    "    if not ms_fr:\n",
    "        return {\"fr\": None}\n",
    "    # Check number of trials\n",
    "    sample_id = neu_data.sample_id[mask_t][mask_match_neu]\n",
    "    samples = [0, 11, 15, 55, 51]\n",
    "    for s_id in samples:\n",
    "        sample_fr = sp[np.where(sample_id == s_id, True, False)]\n",
    "        if sample_fr.shape[0] < min_trials:\n",
    "            return {\"fr\": None}\n",
    "    # Get trials grouped by sample\n",
    "    fr_samples = select_trials.get_sp_by_sample(sp, sample_id, samples=samples)\n",
    "\n",
    "    if fr_samples is None:\n",
    "        return {\"fr\": None}\n",
    "    return {\"fr\": fr_samples}\n"
   ]
  },
  {
   "cell_type": "code",
   "execution_count": 32,
   "metadata": {},
   "outputs": [
    {
     "name": "stderr",
     "output_type": "stream",
     "text": [
      "100%|██████████| 530/530 [11:47<00:00,  1.33s/it]\n"
     ]
    }
   ],
   "source": [
    "data = Parallel(n_jobs=-1)(\n",
    "    delayed(get_neuron_sample_test_fr)(\n",
    "        path=path,\n",
    "        time_before_sample=time_before_sample,\n",
    "        time_before_test=time_before_test,\n",
    "        idx_start_sample=idx_start_sample,\n",
    "        idx_end_sample=idx_end_sample,\n",
    "        idx_start_test=idx_start_test,\n",
    "        idx_end_test=idx_end_test,\n",
    "        n_test=n_test,\n",
    "        min_trials=min_trials,\n",
    "        nonmatch=nonmatch,\n",
    "        avgwin=avgwin,\n",
    "        n_sp_sec=min_sp_sec,\n",
    "    )\n",
    "    for path in tqdm(path_list)\n",
    ")"
   ]
  },
  {
   "cell_type": "code",
   "execution_count": 81,
   "metadata": {},
   "outputs": [
    {
     "data": {
      "text/plain": [
       "'/envau/work/invibe/USERS/IBOS/data/Riesling/TSCM/OpenEphys/new_structure/session_struct/lip/neurons/2022-12-01_12-01-59_Riesling_lip_e1_r1_good3_neu.h5'"
      ]
     },
     "execution_count": 81,
     "metadata": {},
     "output_type": "execute_result"
    }
   ],
   "source": [
    "path_list[130]"
   ]
  },
  {
   "cell_type": "code",
   "execution_count": null,
   "metadata": {},
   "outputs": [],
   "source": [
    "2023-02-08_10-39-41"
   ]
  },
  {
   "cell_type": "code",
   "execution_count": 88,
   "metadata": {},
   "outputs": [],
   "source": [
    "neu_data = NeuronData.from_python_hdf5('/envau/work/invibe/USERS/IBOS/data/Riesling/TSCM/OpenEphys/new_structure/session_struct/lip/neurons/2023-03-16_10-20-01_Riesling_lip_e1_r1_good1_neu.h5')"
   ]
  },
  {
   "cell_type": "markdown",
   "metadata": {},
   "source": [
    "Try to detect errors and categorize trials in H,FA,M"
   ]
  },
  {
   "cell_type": "code",
   "execution_count": 83,
   "metadata": {},
   "outputs": [],
   "source": [
    "bar_release = 4"
   ]
  },
  {
   "cell_type": "code",
   "execution_count": 94,
   "metadata": {},
   "outputs": [],
   "source": [
    "bhvcode = np.full(len(neu_data.block),np.nan)\n",
    "test_bhv = np.full(neu_data.test_stimuli.shape,np.nan)\n",
    "\n",
    "maskb1 = neu_data.block==1\n",
    "#Mask to select trials were the error code was 0,6 or 8 \n",
    "trial_error = neu_data.trial_error\n",
    "maskerror = np.logical_or(trial_error==0,np.logical_or(trial_error==6,trial_error==8)) \n",
    "maskb1error = np.logical_and(maskb1,maskerror)\n",
    "\n",
    "#trial_error=trial_error[maskb1error]\n",
    "sample_id=neu_data.sample_id#[maskb1error]\n",
    "test_stimuli=neu_data.test_stimuli#[maskb1error]\n",
    "code_numbers=neu_data.code_numbers#[maskb1error]\n",
    "\n",
    "# 1 Check trials in which sample was presented turing the test period\n",
    "match_loc = sample_id.reshape(-1,1)==test_stimuli\n",
    "# 1A. Check if sample was presented more than once\n",
    "mask_rep_sample = np.logical_and(maskb1error, (np.sum(match_loc,axis=1)>1))\n",
    "if np.sum(mask_rep_sample) > 0:\n",
    "    ## error in the task code -> We have a 3312!!\n",
    "    bhvcode[mask_rep_sample]=3312 # There is one miss and one hit\n",
    "    #TODO Add the code for and H to test_bhv \n",
    "# 1B. When sample was presented once, check if it was hit or miss\n",
    "# Mark as hit trials with matching sample and test\n",
    "mask_one_sample = np.logical_and(maskb1error, np.sum(match_loc,axis=1)==1)\n",
    "if np.sum(mask_one_sample) > 0:\n",
    "    # Assume all hits\n",
    "    bhvcode[mask_one_sample] = 0 \n",
    "    # Check if any miss (sample presented but no bar release)\n",
    "    hit_or_miss = np.where(code_numbers == bar_release,False,True)\n",
    "    hit_or_miss = np.all(hit_or_miss,axis=1)\n",
    "    bhvcode[np.logical_and(mask_one_sample,hit_or_miss)]=8\n",
    "    #TODO add code for hit or miss to test_bhv\n",
    "# 2 Check trials in which sample was NOT presented during the test period \n",
    "nonmatch_loc = sample_id.reshape(-1,1)!=test_stimuli\n",
    "nonmatch_tr=np.all(nonmatch_loc,axis=1)\n",
    "# TODO Select trials with at least one test presentation (if errors are 0,6 or 8 should be always the case)\n",
    "# 2A. Asume all correct trials (catch or neutral case)\n",
    "bhvcode[np.logical_and(maskb1error,nonmatch_tr)]=0\n",
    "# 2B. If sample not presented but the subject relesed bar -> FA(6) \n",
    "# Check if monkey released the bar\n",
    "false_alarm = np.where(code_numbers == bar_release,True,False)\n",
    "false_alarm = np.any(false_alarm,axis=1)\n",
    "fa_mask = np.logical_and(maskb1error,np.logical_and(nonmatch_tr,false_alarm))\n",
    "bhvcode[fa_mask] = 6\n",
    "#TODO add code for fa to test_bhv\n"
   ]
  },
  {
   "cell_type": "code",
   "execution_count": 97,
   "metadata": {},
   "outputs": [
    {
     "data": {
      "text/plain": [
       "2"
      ]
     },
     "execution_count": 97,
     "metadata": {},
     "output_type": "execute_result"
    }
   ],
   "source": [
    "align_on=3\n",
    "time_before_sample=0\n",
    "sp_out_on,mask_out  =   align_trials.align_on(\n",
    "        sp_samples  =   neu_data.sp_samples,\n",
    "        code_samples=   neu_data.code_samples,\n",
    "        code_numbers=   neu_data.code_numbers,\n",
    "        trial_error =   neu_data.trial_error,\n",
    "        block       =   neu_data.block,\n",
    "        pos_code    =   neu_data.pos_code,\n",
    "        select_block =   1,\n",
    "        select_pos  =   -1,\n",
    "        event       =   'test_on_' + str(align_on+1),\n",
    "        time_before =   time_before_sample,\n",
    "        error_type  =   0,\n",
    "    )\n",
    "match = np.where(neu_data.sample_id[mask_out]==neu_data.test_stimuli[mask_out, align_on])[0]\n",
    "n_errors = np.sum(np.sum(np.isnan(neu_data.test_stimuli[mask_out][match])==False,axis=1)!=align_on+1)\n",
    "n_errors"
   ]
  },
  {
   "cell_type": "code",
   "execution_count": 99,
   "metadata": {},
   "outputs": [
    {
     "data": {
      "text/plain": [
       "array([51., 51., 55., 11., 55., 51., 55., 11., 55., 11., 55., 11., 11.,\n",
       "       51., 51., 11., 15., 55., 11., 15., 55., 55., 51., 15., 55.])"
      ]
     },
     "execution_count": 99,
     "metadata": {},
     "output_type": "execute_result"
    }
   ],
   "source": [
    "neu_data.sample_id[mask_out][match]"
   ]
  },
  {
   "cell_type": "code",
   "execution_count": 98,
   "metadata": {},
   "outputs": [
    {
     "data": {
      "text/plain": [
       "array([[55., 43., 24., 51., 81.],\n",
       "       [31., 12., 88., 51., nan],\n",
       "       [15., 47., 85., 55., nan],\n",
       "       [58., 21., 15., 11., nan],\n",
       "       [15., 57., 15., 55., nan],\n",
       "       [13., 27., 61., 51., nan],\n",
       "       [11., 56., 65., 55., nan],\n",
       "       [55., 71., 15., 11., nan],\n",
       "       [17., 45., 27., 55., nan],\n",
       "       [51., 71., 12., 11., nan],\n",
       "       [65., 58., 87., 55., nan],\n",
       "       [41., 55., 21., 11., nan],\n",
       "       [51., 18., 71., 11., nan],\n",
       "       [15., 41., 54., 51., nan],\n",
       "       [11., 82., 57., 51., nan],\n",
       "       [31., 88., 21., 11., nan],\n",
       "       [13., 55., 14., 15., nan],\n",
       "       [53., 75., 57., 55., nan],\n",
       "       [21., 13., 87., 11., nan],\n",
       "       [11., 35., 11., 15., nan],\n",
       "       [57., 28., 11., 55., nan],\n",
       "       [11., 85., 73., 55., nan],\n",
       "       [56., 61., 33., 51., 58.],\n",
       "       [65., 44., 85., 15., nan],\n",
       "       [35., 47., 75., 55., nan]])"
      ]
     },
     "execution_count": 98,
     "metadata": {},
     "output_type": "execute_result"
    }
   ],
   "source": [
    "neu_data.test_stimuli[mask_out][match]"
   ]
  },
  {
   "cell_type": "code",
   "execution_count": 92,
   "metadata": {},
   "outputs": [
    {
     "name": "stdout",
     "output_type": "stream",
     "text": [
      "0\n",
      "-2\n",
      "2\n"
     ]
    },
    {
     "data": {
      "image/png": "[encoded data removed]",
      "text/plain": [
       "<Figure size 640x480 with 1 Axes>"
      ]
     },
     "metadata": {},
     "output_type": "display_data"
    }
   ],
   "source": [
    "plt.hist(trial_error[maskb1error])\n",
    "plt.hist(bhvcode)\n",
    "for i in [0,6,8]:\n",
    "    print(np.sum(bhvcode==i)-np.sum(trial_error[maskb1error]==i))"
   ]
  },
  {
   "cell_type": "code",
   "execution_count": 107,
   "metadata": {},
   "outputs": [
    {
     "data": {
      "text/plain": [
       "array([ 12, 148, 216, 815])"
      ]
     },
     "execution_count": 107,
     "metadata": {},
     "output_type": "execute_result"
    }
   ],
   "source": [
    "np.where(bhvcode[maskb1error]!=trial_error[maskb1error])[0]"
   ]
  },
  {
   "cell_type": "code",
   "execution_count": 112,
   "metadata": {},
   "outputs": [
    {
     "data": {
      "text/plain": [
       "array([0., 6., 6., 0.])"
      ]
     },
     "execution_count": 112,
     "metadata": {},
     "output_type": "execute_result"
    }
   ],
   "source": [
    "trial_error[maskb1error][np.where(bhvcode[maskb1error]!=trial_error[maskb1error])[0]]"
   ]
  },
  {
   "cell_type": "code",
   "execution_count": 111,
   "metadata": {},
   "outputs": [
    {
     "data": {
      "text/plain": [
       "array([8., 0., 0., 8.])"
      ]
     },
     "execution_count": 111,
     "metadata": {},
     "output_type": "execute_result"
    }
   ],
   "source": [
    "bhvcode[maskb1error][np.where(bhvcode[maskb1error]!=trial_error[maskb1error])[0]]"
   ]
  },
  {
   "cell_type": "code",
   "execution_count": 109,
   "metadata": {},
   "outputs": [
    {
     "data": {
      "text/plain": [
       "array([[55., 43., 24., 51., 81.],\n",
       "       [83., 18., 81., 15., nan],\n",
       "       [23., 15., 28., 55., nan],\n",
       "       [56., 61., 33., 51., 58.]])"
      ]
     },
     "execution_count": 109,
     "metadata": {},
     "output_type": "execute_result"
    }
   ],
   "source": [
    "neu_data.test_stimuli[maskb1error][np.where(bhvcode[maskb1error]!=trial_error[maskb1error])[0]]"
   ]
  },
  {
   "cell_type": "code",
   "execution_count": 110,
   "metadata": {},
   "outputs": [
    {
     "data": {
      "text/plain": [
       "array([51., 15., 55., 51.])"
      ]
     },
     "execution_count": 110,
     "metadata": {},
     "output_type": "execute_result"
    }
   ],
   "source": [
    "neu_data.sample_id[maskb1error][np.where(bhvcode[maskb1error]!=trial_error[maskb1error])[0]]"
   ]
  },
  {
   "cell_type": "code",
   "execution_count": 106,
   "metadata": {},
   "outputs": [
    {
     "data": {
      "text/plain": [
       "(array([774.,   0.,   0.,   0.,   0.,   0.,   0.,  46.,   0.,  68.]),\n",
       " array([0. , 0.8, 1.6, 2.4, 3.2, 4. , 4.8, 5.6, 6.4, 7.2, 8. ]),\n",
       " <BarContainer object of 10 artists>)"
      ]
     },
     "execution_count": 106,
     "metadata": {},
     "output_type": "execute_result"
    },
    {
     "data": {
      "image/png": "[encoded data removed]",
      "text/plain": [
       "<Figure size 640x480 with 1 Axes>"
      ]
     },
     "metadata": {},
     "output_type": "display_data"
    }
   ],
   "source": [
    "plt.hist(bhvcode)"
   ]
  },
  {
   "cell_type": "code",
   "execution_count": null,
   "metadata": {},
   "outputs": [],
   "source": []
  },
  {
   "cell_type": "markdown",
   "metadata": {},
   "source": [
    "End--------------"
   ]
  },
  {
   "cell_type": "code",
   "execution_count": 23,
   "metadata": {},
   "outputs": [],
   "source": [
    "select_block = 1\n",
    "code=1\n",
    "# * 0: correct trial (Hits and Correct rejections)\n",
    "error_type = 0\n",
    "# Select trials aligned to sample onset\n",
    "HCRsp_test_on, HCRmask_t = align_trials.align_on(\n",
    "    sp_samples=neu_data.sp_samples,\n",
    "    code_samples=neu_data.code_samples,\n",
    "    code_numbers=neu_data.code_numbers,\n",
    "    trial_error=neu_data.trial_error,\n",
    "    block=neu_data.block,\n",
    "    pos_code=neu_data.pos_code,\n",
    "    select_block=select_block,\n",
    "    select_pos=code,\n",
    "    event=\"test_on_1\",\n",
    "    time_before=time_before_test,\n",
    "    error_type=error_type,\n",
    ")\n",
    "# * 8: missed target\n",
    "error_type = 8\n",
    "# Select trials aligned to sample onset\n",
    "Msp_test_on, Mmask_t = align_trials.align_on(\n",
    "    sp_samples=neu_data.sp_samples,\n",
    "    code_samples=neu_data.code_samples,\n",
    "    code_numbers=neu_data.code_numbers,\n",
    "    trial_error=neu_data.trial_error,\n",
    "    block=neu_data.block,\n",
    "    pos_code=neu_data.pos_code,\n",
    "    select_block=select_block,\n",
    "    select_pos=code,\n",
    "    event=\"test_on_1\",\n",
    "    time_before=time_before_test,\n",
    "    error_type=error_type,\n",
    ")"
   ]
  },
  {
   "cell_type": "code",
   "execution_count": null,
   "metadata": {},
   "outputs": [],
   "source": [
    "# * 6: false alarm (relase during test period)\n",
    "error_type = 6\n",
    "before_test = 400\n",
    "after_test = 400\n",
    "ntest=neu_data.test_stimuli.shape[1]\n",
    "ntr = np.logical_and(neu_data.trial_error==error_type,neu_data.block==select_block)\n",
    "FA_tr_tt = np.full((ntr,ntest,before_test+after_test+460),np.nan)\n",
    "\n",
    "# Select trials aligned to sample onset\n",
    "FAsp_test_on, FAmask_t = align_trials.align_on(\n",
    "    sp_samples=neu_data.sp_samples,\n",
    "    code_samples=neu_data.code_samples,\n",
    "    code_numbers=neu_data.code_numbers,\n",
    "    trial_error=neu_data.trial_error,\n",
    "    block=neu_data.block,\n",
    "    pos_code=neu_data.pos_code,\n",
    "    select_block=select_block,\n",
    "    select_pos=code,\n",
    "    event=\"test_on_1\",\n",
    "    time_before=time_before_test,\n",
    "    error_type=error_type,\n",
    ")"
   ]
  },
  {
   "cell_type": "code",
   "execution_count": 62,
   "metadata": {},
   "outputs": [
    {
     "data": {
      "text/plain": [
       "array([0., 1., 0., 1., 1., 0., 3., 2., 2., 4., 2., 2., 1., 4., 0., 2., 0.,\n",
       "       1., 1., 3., 4., 0., 2., 1., 0., 1.])"
      ]
     },
     "execution_count": 62,
     "metadata": {},
     "output_type": "execute_result"
    }
   ],
   "source": [
    "# FA: bar release before matching test stim presentation\n",
    "bar_release = 4\n",
    "test_on_1= 25\n",
    "test_on_2= 27\n",
    "sample_on = 23\n",
    "test_stimuli=neu_data.test_stimuli[FAmask_t]\n",
    "sample_id=neu_data.sample_id[FAmask_t]\n",
    "code_samples=neu_data.code_samples[FAmask_t]\n",
    "code_numbers = neu_data.code_numbers[FAmask_t]\n",
    "FA_moment = (code_samples[code_numbers==bar_release]-code_samples[code_numbers==test_on_1])\n",
    "FA_in_test = np.floor(FA_moment/459)\n",
    "FA_in_test\n",
    "\n"
   ]
  },
  {
   "cell_type": "code",
   "execution_count": 64,
   "metadata": {},
   "outputs": [
    {
     "data": {
      "text/plain": [
       "array([-459., -459., -459., -459., -459., -459., -459., -459., -459.,\n",
       "       -459., -459., -459., -459., -459., -460., -460., -459., -459.,\n",
       "       -460.])"
      ]
     },
     "execution_count": 64,
     "metadata": {},
     "output_type": "execute_result"
    }
   ],
   "source": [
    "code_samples[np.any(code_numbers==test_on_2,axis=1)][code_numbers[np.any(code_numbers==test_on_2,axis=1)]==test_on_1]-code_samples[code_numbers==test_on_2]"
   ]
  },
  {
   "cell_type": "code",
   "execution_count": null,
   "metadata": {},
   "outputs": [],
   "source": [
    "sel_idx = np"
   ]
  },
  {
   "cell_type": "code",
   "execution_count": 28,
   "metadata": {},
   "outputs": [
    {
     "data": {
      "text/plain": [
       "array([5., 0., 0., ..., 3., 4., 4.])"
      ]
     },
     "execution_count": 28,
     "metadata": {},
     "output_type": "execute_result"
    }
   ],
   "source": [
    "FAsp_test_on[]"
   ]
  },
  {
   "cell_type": "code",
   "execution_count": 54,
   "metadata": {},
   "outputs": [
    {
     "data": {
      "text/plain": [
       "array([1., 2., 1., 2., 2., 1., 4., 3., 3., 5., 3., 3., 2., 5., 1., 3., 1.,\n",
       "       2., 2., 4., 5., 1., 3., 2., 1., 2.])"
      ]
     },
     "execution_count": 54,
     "metadata": {},
     "output_type": "execute_result"
    }
   ],
   "source": []
  },
  {
   "cell_type": "code",
   "execution_count": 22,
   "metadata": {},
   "outputs": [
    {
     "ename": "SyntaxError",
     "evalue": "invalid syntax (1018982603.py, line 1)",
     "output_type": "error",
     "traceback": [
      "\u001b[0;36m  Cell \u001b[0;32mIn[22], line 1\u001b[0;36m\u001b[0m\n\u001b[0;31m    H =\u001b[0m\n\u001b[0m        ^\u001b[0m\n\u001b[0;31mSyntaxError\u001b[0m\u001b[0;31m:\u001b[0m invalid syntax\n"
     ]
    }
   ],
   "source": [
    "# trial_error:\n",
    "\n",
    "\n",
    "\n",
    "H = \n",
    "CR = \n",
    "M = \n",
    "FA = \n"
   ]
  },
  {
   "cell_type": "code",
   "execution_count": null,
   "metadata": {},
   "outputs": [],
   "source": []
  }
 ],
 "metadata": {
  "kernelspec": {
   "display_name": "Users-2Kpmrf9_",
   "language": "python",
   "name": "python3"
  },
  "language_info": {
   "codemirror_mode": {
    "name": "ipython",
    "version": 3
   },
   "file_extension": ".py",
   "mimetype": "text/x-python",
   "name": "python",
   "nbconvert_exporter": "python",
   "pygments_lexer": "ipython3",
   "version": "3.9.18"
  }
 },
 "nbformat": 4,
 "nbformat_minor": 2
}
