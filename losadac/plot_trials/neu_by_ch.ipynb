{
 "cells": [
  {
   "cell_type": "code",
   "execution_count": 22,
   "metadata": {},
   "outputs": [],
   "source": [
    "import pandas as pd\n",
    "import platform\n",
    "import glob\n",
    "import os\n",
    "from ephysvibe.structures.neuron_data import NeuronData\n",
    "from ephysvibe.dataviz import plot_raster\n",
    "import matplotlib.pyplot as plt\n",
    "import numpy as np"
   ]
  },
  {
   "cell_type": "code",
   "execution_count": 27,
   "metadata": {},
   "outputs": [],
   "source": [
    "if platform.system() == 'Linux':\n",
    "    basepath = '/envau/work/invibe/USERS/IBOS/data/Riesling/TSCM/OpenEphys/new_structure'\n",
    "    pathcsv = '/envau/work/invibe/USERS/IBOS/data/Riesling/TSCM/OpenEphys/plots_by_ch'\n",
    "    sessions_path = '/envau/work/invibe/USERS/IBOS/openephys/Riesling/'\n",
    "elif platform.system() == 'Windows':\n",
    "    basepath = '//envau_cifs.intlocal.univ-amu.fr/work/invibe/USERS/IBOS/data/Riesling/TSCM/OpenEphys/new_structure'"
   ]
  },
  {
   "cell_type": "code",
   "execution_count": 28,
   "metadata": {},
   "outputs": [
    {
     "ename": "",
     "evalue": "",
     "output_type": "error",
     "traceback": [
      "\u001b[1;31mThe Kernel crashed while executing code in the the current cell or a previous cell. Please review the code in the cell(s) to identify a possible cause of the failure. Click <a href='https://aka.ms/vscodeJupyterKernelCrash'>here</a> for more info. View Jupyter <a href='command:jupyter.viewOutput'>log</a> for further details."
     ]
    }
   ],
   "source": [
    "for area in ['pfc']:\n",
    "    subpath = f'/session_struct/{area}/neurons'\n",
    "    path_list = glob.glob(f'{basepath}{subpath}/*')\n",
    "\n",
    "    for path_n in path_list:\n",
    "\n",
    "        neu_n = NeuronData.from_python_hdf5(path_n)\n",
    "        nid = neu_n.get_neuron_id()\n",
    "        sp, conv = plot_raster.prepare_data_plotb1(neu_n,rf_stim_loc= [\"contra\", \"ipsi\"],cerotr=False,percentile=False)\n",
    "\n",
    "        session=neu_n.date_time\n",
    "        ch_start = np.load(\n",
    "            sessions_path\n",
    "            + session\n",
    "            + \"/Record Node 102/experiment1/recording1/continuous/Acquisition_Board-100.Rhythm Data/KS\"\n",
    "            + area.upper()\n",
    "            + \"/channel_map.npy\"\n",
    "        )[0][0]\n",
    "        cluster_ch = neu_n.cluster_ch - ch_start\n",
    "\n",
    "        path1 = f'{pathcsv}/all_trials/{area}/{cluster_ch}'\n",
    "\n",
    "        if not os.path.exists(path1):\n",
    "            os.makedirs(path1)\n",
    "\n",
    "        fig1=plot_raster.plot_sp_b1(neu_n,sp, conv)\n",
    "        fig1.savefig(path1+'/'+nid+'.jpg',format='jpg')\n",
    "        plt.close('all')"
   ]
  },
  {
   "cell_type": "code",
   "execution_count": null,
   "metadata": {},
   "outputs": [],
   "source": []
  },
  {
   "cell_type": "code",
   "execution_count": null,
   "metadata": {},
   "outputs": [],
   "source": []
  },
  {
   "cell_type": "code",
   "execution_count": null,
   "metadata": {},
   "outputs": [],
   "source": []
  }
 ],
 "metadata": {
  "kernelspec": {
   "display_name": "ephys",
   "language": "python",
   "name": "python3"
  },
  "language_info": {
   "codemirror_mode": {
    "name": "ipython",
    "version": 3
   },
   "file_extension": ".py",
   "mimetype": "text/x-python",
   "name": "python",
   "nbconvert_exporter": "python",
   "pygments_lexer": "ipython3",
   "version": "3.13.0"
  }
 },
 "nbformat": 4,
 "nbformat_minor": 2
}
