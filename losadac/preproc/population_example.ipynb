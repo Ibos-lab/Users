{
 "cells": [
  {
   "cell_type": "code",
   "execution_count": 1,
   "metadata": {},
   "outputs": [],
   "source": [
    "# Example on how to use PopulationData class for preprocessing\n",
    "import glob\n",
    "import os\n",
    "import numpy as np\n",
    "from joblib import Parallel, delayed\n",
    "from tqdm import tqdm\n",
    "import json\n",
    "from pathlib import Path\n",
    "from typing import Dict, List\n",
    "import h5py\n",
    "from sklearn.decomposition import PCA\n",
    "from sklearn.preprocessing import StandardScaler\n",
    "from scipy.spatial.distance import pdist\n",
    "from ephysvibe.structures.neuron_data import NeuronData\n",
    "from ephysvibe.trials.spikes import firing_rate\n",
    "from ephysvibe.trials import align_trials, select_trials\n",
    "from ephysvibe.structures.population_data import PopulationData\n",
    "from datetime import datetime\n",
    "import pandas as pd\n",
    "seed = 1997"
   ]
  },
  {
   "cell_type": "code",
   "execution_count": 3,
   "metadata": {},
   "outputs": [],
   "source": [
    "# Define parameters\n",
    "areas = [\"lip\"]\n",
    "subject = \"Riesling\"\n",
    "avgwin = 100\n",
    "min_sp_sec = 1\n",
    "n_test = 1\n",
    "min_trials = 25\n",
    "nonmatch = True  # if True: includes nonmatch trials\n",
    "norm = False\n",
    "zscore = True\n",
    "# sample timing\n",
    "time_before_sample = 500\n",
    "start_sample = -200\n",
    "end_sample = 450 + 400\n",
    "# test timing\n",
    "time_before_test = 500\n",
    "start_test = -400\n",
    "end_test = n_test * 450 + 200\n",
    "# paths\n",
    "filepaths = {\n",
    "    \"lip\": \"D:/data/session_struct/lip/neurons/\",\n",
    "    \"pfc\": \"/envau/work/invibe/USERS/IBOS/data/Riesling/TSCM/OpenEphys/new_structure/session_struct/pfc/neurons/\",\n",
    "    \"v4\": \"/envau/work/invibe/USERS/IBOS/data/Riesling/TSCM/OpenEphys/new_structure/session_struct/v4/neurons/\",\n",
    "}\n",
    "# -------------------------------------------- End parameters ------------------------------------------\n",
    "# Compute idxs\n",
    "idx_start_sample = time_before_sample + start_sample\n",
    "idx_end_sample = time_before_sample + end_sample\n",
    "idx_start_test = time_before_test + start_test\n",
    "idx_end_test = time_before_test + end_test\n",
    "# total trial duration\n",
    "trial_dur = end_sample - start_sample + end_test - start_test"
   ]
  },
  {
   "cell_type": "code",
   "execution_count": 4,
   "metadata": {},
   "outputs": [],
   "source": [
    "for area in areas:\n",
    "    path = filepaths[area]\n",
    "    neu_path = path + \"*neu.h5\"\n",
    "    path_list = glob.glob(neu_path)"
   ]
  },
  {
   "cell_type": "code",
   "execution_count": 5,
   "metadata": {},
   "outputs": [
    {
     "name": "stderr",
     "output_type": "stream",
     "text": [
      "100%|██████████| 10/10 [00:00<00:00, 111.12it/s]\n"
     ]
    }
   ],
   "source": [
    "attr_dtype = {'sp_samples':np.float16,'cluster_ch':np.float16,'cluster_number':np.float16,'block':np.float16,'trial_error':np.float16,'sample_id':np.float16,\n",
    "              'test_stimuli':np.float16,'test_distractor':np.float16,'cluster_id':np.float16,'cluster_depth':np.float16,'code_samples':np.float16,\n",
    "              'position':np.float16,'pos_code':np.float16,'code_numbers':np.float16}\n",
    "popu=PopulationData.get_population(path_list[  5:15], attr_dtype)"
   ]
  },
  {
   "cell_type": "code",
   "execution_count": 6,
   "metadata": {},
   "outputs": [],
   "source": [
    "popu.to_python_hdf5('kk.h5')"
   ]
  },
  {
   "cell_type": "code",
   "execution_count": 5,
   "metadata": {},
   "outputs": [],
   "source": [
    "popu=PopulationData.from_python_hdf5('kk.h5')"
   ]
  },
  {
   "cell_type": "code",
   "execution_count": 9,
   "metadata": {},
   "outputs": [
    {
     "data": {
      "text/plain": [
       "array([[ 0.,  0.,  0., ..., nan, nan, nan],\n",
       "       [ 0.,  0.,  0., ..., nan, nan, nan],\n",
       "       [ 0.,  0.,  0., ..., nan, nan, nan],\n",
       "       ...,\n",
       "       [ 0.,  0.,  0., ..., nan, nan, nan],\n",
       "       [ 0.,  0.,  0., ..., nan, nan, nan],\n",
       "       [ 0.,  0.,  0., ..., nan, nan, nan]], dtype=float16)"
      ]
     },
     "execution_count": 9,
     "metadata": {},
     "output_type": "execute_result"
    }
   ],
   "source": [
    "popu.population[9].sp_samples"
   ]
  },
  {
   "cell_type": "code",
   "execution_count": 6,
   "metadata": {},
   "outputs": [
    {
     "name": "stderr",
     "output_type": "stream",
     "text": [
      "100%|██████████| 10/10 [00:00<00:00, 3009.91it/s]\n"
     ]
    }
   ],
   "source": [
    "df = popu.execute_function(NeuronData.get_sp_per_sec)"
   ]
  },
  {
   "cell_type": "code",
   "execution_count": 6,
   "metadata": {},
   "outputs": [],
   "source": [
    "df=pd.read_csv('C:/Users/camil/Documents/int/code/Users/losadac/preproc/testdf.csv')"
   ]
  },
  {
   "cell_type": "code",
   "execution_count": 9,
   "metadata": {},
   "outputs": [],
   "source": [
    "mean_fr = (df['in_mean_fr_sample']+df['in_mean_fr_delay'])/2\n",
    "sel_neu = df[mean_fr>1]['nid'].values"
   ]
  },
  {
   "cell_type": "code",
   "execution_count": 10,
   "metadata": {},
   "outputs": [
    {
     "ename": "AttributeError",
     "evalue": "'NeuronData' object has no attribute 'sp_test'",
     "output_type": "error",
     "traceback": [
      "\u001b[1;31m---------------------------------------------------------------------------\u001b[0m",
      "\u001b[1;31mAttributeError\u001b[0m                            Traceback (most recent call last)",
      "Cell \u001b[1;32mIn[10], line 1\u001b[0m\n\u001b[1;32m----> 1\u001b[0m \u001b[43mpopu\u001b[49m\u001b[38;5;241;43m.\u001b[39;49m\u001b[43mpopulation\u001b[49m\u001b[43m[\u001b[49m\u001b[38;5;241;43m0\u001b[39;49m\u001b[43m]\u001b[49m\u001b[38;5;241;43m.\u001b[39;49m\u001b[43msp_test\u001b[49m\n",
      "\u001b[1;31mAttributeError\u001b[0m: 'NeuronData' object has no attribute 'sp_test'"
     ]
    }
   ],
   "source": [
    "popu.population[0].sp_test"
   ]
  },
  {
   "cell_type": "code",
   "execution_count": 11,
   "metadata": {},
   "outputs": [],
   "source": [
    "subpopu = popu.get_subpopulation(sel_neu)"
   ]
  },
  {
   "cell_type": "code",
   "execution_count": 12,
   "metadata": {},
   "outputs": [
    {
     "ename": "AttributeError",
     "evalue": "'list' object has no attribute 'population'",
     "output_type": "error",
     "traceback": [
      "\u001b[1;31m---------------------------------------------------------------------------\u001b[0m",
      "\u001b[1;31mAttributeError\u001b[0m                            Traceback (most recent call last)",
      "Cell \u001b[1;32mIn[12], line 1\u001b[0m\n\u001b[1;32m----> 1\u001b[0m \u001b[43msubpopu\u001b[49m\u001b[38;5;241;43m.\u001b[39;49m\u001b[43mpopulation\u001b[49m[\u001b[38;5;241m0\u001b[39m]\u001b[38;5;241m.\u001b[39msp_test\n",
      "\u001b[1;31mAttributeError\u001b[0m: 'list' object has no attribute 'population'"
     ]
    }
   ],
   "source": [
    "subpopu.population[0].sp_test"
   ]
  },
  {
   "cell_type": "code",
   "execution_count": 16,
   "metadata": {},
   "outputs": [],
   "source": [
    "def get_sample_test(neu:NeuronData,params:Dict):\n",
    "    time_before_sample=params['time_before_sample']\n",
    "    time_before_sample=params['time_before_test']\n",
    "    sp_sample, mask = neu.align_on(\n",
    "        select_block=params['select_block'],\n",
    "        select_pos=params['select_pos'],\n",
    "        event=\"sample_on\",\n",
    "        time_before=params['time_before_sample'],\n",
    "        error_type=0,\n",
    "    )\n",
    "    sp_test, mask = neu.align_on(\n",
    "        select_block=params['select_block'],\n",
    "        select_pos=params['select_pos'],\n",
    "        event=\"test_on_1\",\n",
    "        time_before=params['time_before_test'],\n",
    "        error_type=0,\n",
    "    )\n",
    "    idx_start_sample = time_before_sample + params['start_sample']\n",
    "    idx_end_sample = time_before_sample + params['end_sample']\n",
    "    idx_start_test = time_before_test + params['start_test']\n",
    "    idx_end_test = time_before_test + params['end_test']\n",
    "\n",
    "    new_values = {}\n",
    "    new_values['sp_sample'] = np.array(sp_sample[:,idx_start_sample:idx_end_sample],dtype=np.int8)\n",
    "    new_values['sp_test'] = np.array(sp_test[:,idx_start_test:idx_end_test],dtype=np.int8)\n",
    "    \n",
    "    for attr_name in [\n",
    "        \"block\",\n",
    "        \"trial_error\",\n",
    "        \"code_samples\",\n",
    "        \"code_numbers\",\n",
    "        \"position\",\n",
    "        \"pos_code\",\n",
    "        \"sample_id\",\n",
    "        \"test_stimuli\",\n",
    "        \"test_distractor\",\n",
    "    ]:\n",
    "        new_values[attr_name] = getattr(neu, attr_name)[mask]\n",
    "    neu.edit_attributes(new_values)"
   ]
  },
  {
   "cell_type": "code",
   "execution_count": 17,
   "metadata": {},
   "outputs": [],
   "source": [
    "params = {\n",
    "    # sample\n",
    "    'time_before_sample': 500,\n",
    "    'start_sample': -200,\n",
    "    'end_sample': 450 + 400,\n",
    "    # test\n",
    "    'time_before_test': 500,\n",
    "    'start_test': -400,\n",
    "    'end_test': n_test * 450 + 200,\n",
    "    'select_block':1,\n",
    "    'select_pos':1,\n",
    "    'event':\"sample_on\",\n",
    "    'error_type':0,\n",
    "}"
   ]
  },
  {
   "cell_type": "code",
   "execution_count": 13,
   "metadata": {},
   "outputs": [],
   "source": [
    "subpopu = PopulationData(subpopu)"
   ]
  },
  {
   "cell_type": "code",
   "execution_count": 18,
   "metadata": {},
   "outputs": [
    {
     "name": "stderr",
     "output_type": "stream",
     "text": [
      "100%|██████████| 4/4 [00:00<00:00, 12.10it/s]\n"
     ]
    }
   ],
   "source": [
    "_=subpopu.execute_function(get_sample_test,params=params,n_jobs=1,ret_df=False)"
   ]
  },
  {
   "cell_type": "code",
   "execution_count": 19,
   "metadata": {},
   "outputs": [
    {
     "data": {
      "text/plain": [
       "(265, 1050)"
      ]
     },
     "execution_count": 19,
     "metadata": {},
     "output_type": "execute_result"
    }
   ],
   "source": [
    "subpopu.population[0].sp_sample.shape"
   ]
  },
  {
   "cell_type": "code",
   "execution_count": 7,
   "metadata": {},
   "outputs": [
    {
     "data": {
      "text/html": [
       "<div>\n",
       "<style scoped>\n",
       "    .dataframe tbody tr th:only-of-type {\n",
       "        vertical-align: middle;\n",
       "    }\n",
       "\n",
       "    .dataframe tbody tr th {\n",
       "        vertical-align: top;\n",
       "    }\n",
       "\n",
       "    .dataframe thead th {\n",
       "        text-align: right;\n",
       "    }\n",
       "</style>\n",
       "<table border=\"1\" class=\"dataframe\">\n",
       "  <thead>\n",
       "    <tr style=\"text-align: right;\">\n",
       "      <th></th>\n",
       "      <th>nid</th>\n",
       "      <th>in_mean_fr_sample_NN</th>\n",
       "      <th>in_lat_max_fr_sample_NN</th>\n",
       "      <th>in_mean_max_fr_sample_NN</th>\n",
       "      <th>in_mean_fr_delay_NN</th>\n",
       "      <th>in_lat_max_fr_delay_NN</th>\n",
       "      <th>in_mean_max_fr_delay_NN</th>\n",
       "      <th>in_mean_fr_sample_N</th>\n",
       "      <th>in_lat_max_fr_sample_N</th>\n",
       "      <th>in_mean_max_fr_sample_N</th>\n",
       "      <th>...</th>\n",
       "      <th>out_mean_max_fr_sample_NN</th>\n",
       "      <th>out_mean_fr_delay_NN</th>\n",
       "      <th>out_lat_max_fr_delay_NN</th>\n",
       "      <th>out_mean_max_fr_delay_NN</th>\n",
       "      <th>out_mean_fr_sample_N</th>\n",
       "      <th>out_lat_max_fr_sample_N</th>\n",
       "      <th>out_mean_max_fr_sample_N</th>\n",
       "      <th>out_mean_fr_delay_N</th>\n",
       "      <th>out_lat_max_fr_delay_N</th>\n",
       "      <th>out_mean_max_fr_delay_N</th>\n",
       "    </tr>\n",
       "  </thead>\n",
       "  <tbody>\n",
       "    <tr>\n",
       "      <th>0</th>\n",
       "      <td>good1LIP2023-10-18_10-57-56Riesling</td>\n",
       "      <td>6.492367</td>\n",
       "      <td>136</td>\n",
       "      <td>8.078053</td>\n",
       "      <td>1.131511</td>\n",
       "      <td>3</td>\n",
       "      <td>1.642847</td>\n",
       "      <td>5.684495</td>\n",
       "      <td>139</td>\n",
       "      <td>8.851400</td>\n",
       "      <td>...</td>\n",
       "      <td>7.281459</td>\n",
       "      <td>1.614321</td>\n",
       "      <td>4</td>\n",
       "      <td>1.671470</td>\n",
       "      <td>4.872106</td>\n",
       "      <td>70.0</td>\n",
       "      <td>6.508536</td>\n",
       "      <td>2.933936</td>\n",
       "      <td>129.0</td>\n",
       "      <td>3.224715</td>\n",
       "    </tr>\n",
       "    <tr>\n",
       "      <th>1</th>\n",
       "      <td>mua8LIP2023-10-18_10-57-56Riesling</td>\n",
       "      <td>1.017039</td>\n",
       "      <td>42</td>\n",
       "      <td>1.766470</td>\n",
       "      <td>2.805549</td>\n",
       "      <td>234</td>\n",
       "      <td>3.710537</td>\n",
       "      <td>1.833958</td>\n",
       "      <td>273</td>\n",
       "      <td>2.898548</td>\n",
       "      <td>...</td>\n",
       "      <td>2.087411</td>\n",
       "      <td>3.820307</td>\n",
       "      <td>321</td>\n",
       "      <td>4.744953</td>\n",
       "      <td>0.946610</td>\n",
       "      <td>349.0</td>\n",
       "      <td>1.440784</td>\n",
       "      <td>1.426995</td>\n",
       "      <td>335.0</td>\n",
       "      <td>2.209467</td>\n",
       "    </tr>\n",
       "    <tr>\n",
       "      <th>2</th>\n",
       "      <td>mua9LIP2023-10-18_10-57-56Riesling</td>\n",
       "      <td>0.491892</td>\n",
       "      <td>380</td>\n",
       "      <td>0.808868</td>\n",
       "      <td>1.021345</td>\n",
       "      <td>221</td>\n",
       "      <td>1.341812</td>\n",
       "      <td>0.692484</td>\n",
       "      <td>427</td>\n",
       "      <td>0.779571</td>\n",
       "      <td>...</td>\n",
       "      <td>1.006486</td>\n",
       "      <td>0.573862</td>\n",
       "      <td>176</td>\n",
       "      <td>0.592177</td>\n",
       "      <td>0.894014</td>\n",
       "      <td>103.0</td>\n",
       "      <td>1.303982</td>\n",
       "      <td>0.546876</td>\n",
       "      <td>0.0</td>\n",
       "      <td>0.750160</td>\n",
       "    </tr>\n",
       "    <tr>\n",
       "      <th>3</th>\n",
       "      <td>mua10LIP2023-10-18_10-57-56Riesling</td>\n",
       "      <td>1.563345</td>\n",
       "      <td>108</td>\n",
       "      <td>3.349809</td>\n",
       "      <td>0.494177</td>\n",
       "      <td>1</td>\n",
       "      <td>0.728646</td>\n",
       "      <td>1.973887</td>\n",
       "      <td>94</td>\n",
       "      <td>2.795180</td>\n",
       "      <td>...</td>\n",
       "      <td>0.817303</td>\n",
       "      <td>0.605666</td>\n",
       "      <td>37</td>\n",
       "      <td>0.906040</td>\n",
       "      <td>0.897311</td>\n",
       "      <td>394.0</td>\n",
       "      <td>1.148393</td>\n",
       "      <td>1.451206</td>\n",
       "      <td>379.0</td>\n",
       "      <td>2.199128</td>\n",
       "    </tr>\n",
       "    <tr>\n",
       "      <th>4</th>\n",
       "      <td>mua11LIP2023-10-18_10-57-56Riesling</td>\n",
       "      <td>2.032776</td>\n",
       "      <td>100</td>\n",
       "      <td>4.071189</td>\n",
       "      <td>1.638862</td>\n",
       "      <td>155</td>\n",
       "      <td>1.862226</td>\n",
       "      <td>1.083320</td>\n",
       "      <td>92</td>\n",
       "      <td>2.041631</td>\n",
       "      <td>...</td>\n",
       "      <td>1.619150</td>\n",
       "      <td>0.854565</td>\n",
       "      <td>392</td>\n",
       "      <td>1.025324</td>\n",
       "      <td>0.681207</td>\n",
       "      <td>384.0</td>\n",
       "      <td>1.096511</td>\n",
       "      <td>1.508641</td>\n",
       "      <td>271.0</td>\n",
       "      <td>1.896699</td>\n",
       "    </tr>\n",
       "  </tbody>\n",
       "</table>\n",
       "<p>5 rows × 25 columns</p>\n",
       "</div>"
      ],
      "text/plain": [
       "                                   nid  in_mean_fr_sample_NN  \\\n",
       "0  good1LIP2023-10-18_10-57-56Riesling              6.492367   \n",
       "1   mua8LIP2023-10-18_10-57-56Riesling              1.017039   \n",
       "2   mua9LIP2023-10-18_10-57-56Riesling              0.491892   \n",
       "3  mua10LIP2023-10-18_10-57-56Riesling              1.563345   \n",
       "4  mua11LIP2023-10-18_10-57-56Riesling              2.032776   \n",
       "\n",
       "   in_lat_max_fr_sample_NN  in_mean_max_fr_sample_NN  in_mean_fr_delay_NN  \\\n",
       "0                      136                  8.078053             1.131511   \n",
       "1                       42                  1.766470             2.805549   \n",
       "2                      380                  0.808868             1.021345   \n",
       "3                      108                  3.349809             0.494177   \n",
       "4                      100                  4.071189             1.638862   \n",
       "\n",
       "   in_lat_max_fr_delay_NN  in_mean_max_fr_delay_NN  in_mean_fr_sample_N  \\\n",
       "0                       3                 1.642847             5.684495   \n",
       "1                     234                 3.710537             1.833958   \n",
       "2                     221                 1.341812             0.692484   \n",
       "3                       1                 0.728646             1.973887   \n",
       "4                     155                 1.862226             1.083320   \n",
       "\n",
       "   in_lat_max_fr_sample_N  in_mean_max_fr_sample_N  ...  \\\n",
       "0                     139                 8.851400  ...   \n",
       "1                     273                 2.898548  ...   \n",
       "2                     427                 0.779571  ...   \n",
       "3                      94                 2.795180  ...   \n",
       "4                      92                 2.041631  ...   \n",
       "\n",
       "   out_mean_max_fr_sample_NN  out_mean_fr_delay_NN  out_lat_max_fr_delay_NN  \\\n",
       "0                   7.281459              1.614321                        4   \n",
       "1                   2.087411              3.820307                      321   \n",
       "2                   1.006486              0.573862                      176   \n",
       "3                   0.817303              0.605666                       37   \n",
       "4                   1.619150              0.854565                      392   \n",
       "\n",
       "   out_mean_max_fr_delay_NN  out_mean_fr_sample_N  out_lat_max_fr_sample_N  \\\n",
       "0                  1.671470              4.872106                     70.0   \n",
       "1                  4.744953              0.946610                    349.0   \n",
       "2                  0.592177              0.894014                    103.0   \n",
       "3                  0.906040              0.897311                    394.0   \n",
       "4                  1.025324              0.681207                    384.0   \n",
       "\n",
       "   out_mean_max_fr_sample_N  out_mean_fr_delay_N  out_lat_max_fr_delay_N  \\\n",
       "0                  6.508536             2.933936                   129.0   \n",
       "1                  1.440784             1.426995                   335.0   \n",
       "2                  1.303982             0.546876                     0.0   \n",
       "3                  1.148393             1.451206                   379.0   \n",
       "4                  1.096511             1.508641                   271.0   \n",
       "\n",
       "   out_mean_max_fr_delay_N  \n",
       "0                 3.224715  \n",
       "1                 2.209467  \n",
       "2                 0.750160  \n",
       "3                 2.199128  \n",
       "4                 1.896699  \n",
       "\n",
       "[5 rows x 25 columns]"
      ]
     },
     "execution_count": 7,
     "metadata": {},
     "output_type": "execute_result"
    },
    {
     "ename": "",
     "evalue": "",
     "output_type": "error",
     "traceback": [
      "\u001b[1;31mThe Kernel crashed while executing code in the current cell or a previous cell. \n",
      "\u001b[1;31mPlease review the code in the cell(s) to identify a possible cause of the failure. \n",
      "\u001b[1;31mClick <a href='https://aka.ms/vscodeJupyterKernelCrash'>here</a> for more info. \n",
      "\u001b[1;31mView Jupyter <a href='command:jupyter.viewOutput'>log</a> for further details."
     ]
    }
   ],
   "source": [
    "df.head()"
   ]
  },
  {
   "cell_type": "code",
   "execution_count": null,
   "metadata": {},
   "outputs": [],
   "source": [
    "def get_matrix_position(neu_data,matrix_df,ch_start):\n",
    "    ch_start = np.load(\n",
    "        sessions_path\n",
    "        + session\n",
    "        + \"/Record Node 102/experiment1/recording1/continuous/Acquisition_Board-100.Rhythm Data/KS\"\n",
    "        + area.upper()\n",
    "        + \"/channel_map.npy\"\n",
    "    )[0][0]\n",
    "    cluster_ch = neu_data.cluster_ch - ch_start\n",
    "    matrix_df = pd.read_csv(\n",
    "        ch_pos_path + area + \"_ch_pos.csv\",\n",
    "        header=0,\n",
    "        index_col=0,\n",
    "    )\n",
    "    matrix = matrix_df.values\n",
    "    matrix = matrix - matrix.min().min()\n",
    "    row, col = np.where(cluster_ch == matrix)\n",
    "    return row,col"
   ]
  },
  {
   "cell_type": "code",
   "execution_count": null,
   "metadata": {},
   "outputs": [],
   "source": []
  }
 ],
 "metadata": {
  "kernelspec": {
   "display_name": "Users-zKW_FhGB",
   "language": "python",
   "name": "python3"
  },
  "language_info": {
   "codemirror_mode": {
    "name": "ipython",
    "version": 3
   },
   "file_extension": ".py",
   "mimetype": "text/x-python",
   "name": "python",
   "nbconvert_exporter": "python",
   "pygments_lexer": "ipython3",
   "version": "3.9.6"
  }
 },
 "nbformat": 4,
 "nbformat_minor": 2
}
