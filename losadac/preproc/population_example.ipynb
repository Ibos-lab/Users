{
 "cells": [
  {
   "cell_type": "code",
   "execution_count": 1,
   "metadata": {},
   "outputs": [],
   "source": [
    "# Example on how to use PopulationData class for preprocessing\n",
    "import glob\n",
    "import numpy as np\n",
    "from joblib import Parallel, delayed\n",
    "from tqdm import tqdm\n",
    "from pathlib import Path\n",
    "from typing import Dict, List\n",
    "from ephysvibe.structures.neuron_data import NeuronData\n",
    "from ephysvibe.structures.population_data import PopulationData\n",
    "import pandas as pd"
   ]
  },
  {
   "cell_type": "code",
   "execution_count": 2,
   "metadata": {},
   "outputs": [],
   "source": [
    "# paths\n",
    "filepaths = {\n",
    "    \"lip\": \"D:/data/session_struct/lip/neurons/\",\n",
    "    \"pfc\": \"\",\n",
    "    \"v4\": \"\",\n",
    "}"
   ]
  },
  {
   "cell_type": "code",
   "execution_count": 3,
   "metadata": {},
   "outputs": [],
   "source": [
    "path_list={}\n",
    "for area in filepaths.keys():\n",
    "    path = filepaths[area]\n",
    "    neu_path = path + \"*neu.h5\"\n",
    "    path_list[area] = glob.glob(neu_path)"
   ]
  },
  {
   "cell_type": "markdown",
   "metadata": {},
   "source": [
    "### Create a population object: option 1"
   ]
  },
  {
   "cell_type": "code",
   "execution_count": 4,
   "metadata": {},
   "outputs": [
    {
     "name": "stderr",
     "output_type": "stream",
     "text": [
      "100%|██████████| 10/10 [00:00<00:00, 34.11it/s]\n"
     ]
    }
   ],
   "source": [
    "# Create a population by reading neurons and casting\n",
    "## all attributes contaning nans must be at least float16 \n",
    "## it is possible to replace nans by a specific number like for example -3 \n",
    "attr_dtype = {'sp_samples':np.int8,'cluster_ch':np.float16,'cluster_number':np.float16,'block':np.float16,'trial_error':np.float16,'sample_id':np.float16,\n",
    "              'test_stimuli':np.float16,'test_distractor':np.float16,'cluster_id':np.float16,'cluster_depth':np.float16,'code_samples':np.float16,\n",
    "              'position':np.float16,'pos_code':np.float16,'code_numbers':np.float16}\n",
    "replace_nan = {'sp_samples':-1}\n",
    "popu=PopulationData.get_population(path_list['lip'][0:10], attr_dtype=attr_dtype,replace_nan=replace_nan,comment='population data example')"
   ]
  },
  {
   "cell_type": "code",
   "execution_count": 5,
   "metadata": {},
   "outputs": [
    {
     "name": "stdout",
     "output_type": "stream",
     "text": [
      "[[ 0  0  0 ... -1 -1 -1]\n",
      " [ 0  0  0 ... -1 -1 -1]\n",
      " [ 0  0  0 ... -1 -1 -1]]\n",
      "int8\n"
     ]
    }
   ],
   "source": [
    "print(popu.population[0].sp_samples[:3])\n",
    "print(popu.population[0].sp_samples.dtype)"
   ]
  },
  {
   "cell_type": "code",
   "execution_count": 6,
   "metadata": {},
   "outputs": [],
   "source": [
    "# Save population\n",
    "popu.to_python_hdf5('test_population.h5')"
   ]
  },
  {
   "cell_type": "code",
   "execution_count": 7,
   "metadata": {},
   "outputs": [],
   "source": [
    "# Read population\n",
    "popu=PopulationData.from_python_hdf5('test_population.h5')"
   ]
  },
  {
   "cell_type": "code",
   "execution_count": 8,
   "metadata": {},
   "outputs": [
    {
     "name": "stderr",
     "output_type": "stream",
     "text": [
      "100%|██████████| 10/10 [00:00<00:00, 3297.67it/s]\n"
     ]
    }
   ],
   "source": [
    "df = popu.execute_function(NeuronData.get_sp_per_sec)"
   ]
  },
  {
   "cell_type": "markdown",
   "metadata": {},
   "source": [
    "### Create a population object: option 2"
   ]
  },
  {
   "cell_type": "code",
   "execution_count": 9,
   "metadata": {},
   "outputs": [],
   "source": [
    "# Define a function that recives the path to a NeuronData file and returns a NeuronData object\n",
    "def get_neu_align(path:Path, params:List, sp_sample:bool=False)->NeuronData:\n",
    "    \"\"\" Read, align and add to the object the spiking activity.\n",
    "\n",
    "    Args:\n",
    "        path (Path): _description_\n",
    "        params (List): list of dicts containing:\n",
    "                        * \"select_block\"\n",
    "                        * \"inout\"\n",
    "                        * \"event\"\n",
    "                        * \"time_before\"\n",
    "                        * \"st\"\n",
    "                        * \"end\"\n",
    "                        * \"sp\"\n",
    "                        * \"dtype_sp\"\n",
    "                        * \"mask\"\n",
    "                        * \"dtype_mask\"\n",
    "\n",
    "        sp_sample (bool, optional): Whether to delete sp_sample data. Defaults to False.\n",
    "\n",
    "    Returns:\n",
    "        NeuronData object\n",
    "    \"\"\"\n",
    "    neu = NeuronData.from_python_hdf5(path)\n",
    "    for it in params:\n",
    "        sp, mask = neu.align_on(\n",
    "            select_block=it[\"select_block\"],\n",
    "            select_pos=it[\"inout\"],\n",
    "            event=it[\"event\"],\n",
    "            time_before=it[\"time_before\"],\n",
    "            error_type=0,\n",
    "        )\n",
    "        endt = it[\"time_before\"] + it[\"end\"]\n",
    "        stt = it[\"time_before\"] + it[\"st\"]\n",
    "        setattr(neu, it[\"sp\"], np.array(sp[:, :endt], dtype=it[\"dtype_sp\"]))\n",
    "        setattr(neu, it[\"mask\"], np.array(mask, dtype=it[\"dtype_mask\"]))\n",
    "        setattr(neu, \"st_\" + it[\"event\"] + \"_\" + it[\"inout\"], np.array(stt, dtype=int))\n",
    "        setattr(\n",
    "            neu,\n",
    "            \"time_before_\" + it[\"event\"] + \"_\" + it[\"inout\"],\n",
    "            np.array(it[\"time_before\"], dtype=int),\n",
    "        )\n",
    "\n",
    "    if ~sp_sample:\n",
    "        setattr(neu, \"sp_samples\", np.array([]))\n",
    "\n",
    "    return neu"
   ]
  },
  {
   "cell_type": "code",
   "execution_count": 10,
   "metadata": {},
   "outputs": [],
   "source": [
    "# Define parameters\n",
    "params = [\n",
    "    {\n",
    "        \"inout\": \"in\",\n",
    "        \"sp\": \"sample_on_in\",\n",
    "        \"mask\": \"mask_in\",\n",
    "        \"event\": \"sample_on\",\n",
    "        \"time_before\": 300,\n",
    "        \"st\": 0,\n",
    "        \"end\": 1550,\n",
    "        \"select_block\": 1,\n",
    "        \"win\": 100,\n",
    "        \"dtype_sp\": np.int8,\n",
    "        \"dtype_mask\": bool,\n",
    "    }\n",
    "]\n",
    "# # If you also want to aling data to out (or any other possibility) you add more dictionaries to the list with all the required information:\n",
    "# params = [\n",
    "#     {\n",
    "#         \"inout\": \"in\",\n",
    "#         \"sp\": \"sample_on_in\",\n",
    "#         \"mask\": \"mask_in\",\n",
    "#         \"event\": \"sample_on\",\n",
    "#         \"time_before\": 300,\n",
    "#         \"st\": 0,\n",
    "#         \"end\": 1550,\n",
    "#         \"select_block\": 1,\n",
    "#         \"win\": 100,\n",
    "#         \"dtype_sp\": np.int8,\n",
    "#         \"dtype_mask\": bool,\n",
    "#     },\n",
    "#     {\n",
    "#         \"inout\": \"out\",\n",
    "#         \"sp\": \"sample_on_out\",\n",
    "#         \"mask\": \"mask_out\",\n",
    "#         \"event\": \"sample_on\",\n",
    "#         \"time_before\": 300,\n",
    "#         \"st\": 0,\n",
    "#         \"end\": 1550,\n",
    "#         \"select_block\": 1,\n",
    "#         \"win\": 100,\n",
    "#         \"dtype_sp\": np.int8,\n",
    "#         \"dtype_mask\": bool,\n",
    "#     },\n",
    "# ]"
   ]
  },
  {
   "cell_type": "code",
   "execution_count": 11,
   "metadata": {},
   "outputs": [
    {
     "name": "stderr",
     "output_type": "stream",
     "text": [
      "100%|██████████| 10/10 [00:00<00:00, 2497.65it/s]\n"
     ]
    }
   ],
   "source": [
    "population_list = Parallel(n_jobs=-1)(\n",
    "    delayed(get_neu_align)(neu, params) for neu in tqdm(path_list['lip'][0:10])\n",
    ")"
   ]
  },
  {
   "cell_type": "code",
   "execution_count": 12,
   "metadata": {},
   "outputs": [
    {
     "name": "stdout",
     "output_type": "stream",
     "text": [
      "[[0 0 0 ... 0 0 0]\n",
      " [0 0 0 ... 0 0 0]\n",
      " [0 0 0 ... 0 0 0]\n",
      " ...\n",
      " [0 0 0 ... 0 0 0]\n",
      " [0 0 0 ... 0 0 0]\n",
      " [0 0 0 ... 0 0 0]]\n",
      "(265, 1850)\n",
      "int8\n"
     ]
    }
   ],
   "source": [
    "print(population_list[0].sample_on_in)\n",
    "print(population_list[0].sample_on_in.shape)\n",
    "print(population_list[0].sample_on_in.dtype)"
   ]
  },
  {
   "cell_type": "code",
   "execution_count": 13,
   "metadata": {},
   "outputs": [
    {
     "data": {
      "text/plain": [
       "{'date_time': '2023-10-18_10-57-56',\n",
       " 'subject': 'Riesling',\n",
       " 'area': 'lip',\n",
       " 'experiment': '1',\n",
       " 'recording': '1',\n",
       " 'sp_samples': array([], dtype=float64),\n",
       " 'cluster_id': array(17, dtype=int64),\n",
       " 'cluster_ch': array(21, dtype=int64),\n",
       " 'cluster_group': 'mua',\n",
       " 'cluster_number': array(3, dtype=int64),\n",
       " 'cluster_array_pos': array(2, dtype=int64),\n",
       " 'cluster_depth': array(1100.),\n",
       " 'block': array([2., 2., 2., ..., 1., 1., 1.]),\n",
       " 'trial_error': array([0., 0., 8., ..., 4., 4., 4.]),\n",
       " 'code_samples': array([[1000., 1020., 1252., ...,   nan,   nan,   nan],\n",
       "        [1000., 1008., 1017., ...,   nan,   nan,   nan],\n",
       "        [1000., 1014., 1111., ...,   nan,   nan,   nan],\n",
       "        ...,\n",
       "        [1000., 1002., 1014., ...,   nan,   nan,   nan],\n",
       "        [1000., 1003., 1015., ...,   nan,   nan,   nan],\n",
       "        [1000., 1003., 1015., ...,   nan,   nan,   nan]]),\n",
       " 'code_numbers': array([[ 9., 35.,  8., ..., nan, nan, nan],\n",
       "        [ 9., 35.,  8., ..., nan, nan, nan],\n",
       "        [ 9., 35.,  8., ..., nan, nan, nan],\n",
       "        ...,\n",
       "        [ 9.,  7., 35., ..., nan, nan, nan],\n",
       "        [ 9.,  7., 35., ..., nan, nan, nan],\n",
       "        [ 9.,  7., 35., ..., nan, nan, nan]]),\n",
       " 'position': array([[[  0.,  10.],\n",
       "         [ nan,  nan]],\n",
       " \n",
       "        [[  7.,   7.],\n",
       "         [ nan,  nan]],\n",
       " \n",
       "        [[ 10.,   0.],\n",
       "         [ nan,  nan]],\n",
       " \n",
       "        ...,\n",
       " \n",
       "        [[-10.,  -0.],\n",
       "         [ 10.,   0.]],\n",
       " \n",
       "        [[ 10.,   0.],\n",
       "         [-10.,  -0.]],\n",
       " \n",
       "        [[-10.,  -0.],\n",
       "         [ 10.,   0.]]]),\n",
       " 'pos_code': array([125., 126., 127., ...,  -1.,   1.,  -1.]),\n",
       " 'sample_id': array([nan, nan, nan, ..., 51., 51., 51.]),\n",
       " 'test_stimuli': array([[nan, nan, nan, nan],\n",
       "        [nan, nan, nan, nan],\n",
       "        [nan, nan, nan, nan],\n",
       "        ...,\n",
       "        [nan, nan, nan, nan],\n",
       "        [nan, nan, nan, nan],\n",
       "        [nan, nan, nan, nan]]),\n",
       " 'test_distractor': array([[nan, nan, nan, nan],\n",
       "        [nan, nan, nan, nan],\n",
       "        [nan, nan, nan, nan],\n",
       "        ...,\n",
       "        [nan, nan, nan, nan],\n",
       "        [nan, nan, nan, nan],\n",
       "        [nan, nan, nan, nan]]),\n",
       " 'sample_on_in': array([[0, 0, 0, ..., 0, 0, 0],\n",
       "        [0, 0, 0, ..., 0, 0, 0],\n",
       "        [0, 0, 0, ..., 0, 0, 0],\n",
       "        ...,\n",
       "        [0, 0, 0, ..., 0, 0, 0],\n",
       "        [0, 0, 0, ..., 0, 0, 0],\n",
       "        [0, 0, 0, ..., 0, 0, 0]], dtype=int8),\n",
       " 'mask_in': array([False, False, False, ..., False, False, False]),\n",
       " 'st_sample_on_in': array(300),\n",
       " 'time_before_sample_on_in': array(300)}"
      ]
     },
     "execution_count": 13,
     "metadata": {},
     "output_type": "execute_result"
    }
   ],
   "source": [
    "population_list[0].__dict__"
   ]
  },
  {
   "cell_type": "code",
   "execution_count": 14,
   "metadata": {},
   "outputs": [],
   "source": [
    "comment = str(params)\n",
    "population = PopulationData(population_list, comment=comment)"
   ]
  },
  {
   "cell_type": "code",
   "execution_count": 15,
   "metadata": {},
   "outputs": [
    {
     "name": "stdout",
     "output_type": "stream",
     "text": [
      "19/08/2024 13:19:59\n",
      "[{'inout': 'in', 'sp': 'sample_on_in', 'mask': 'mask_in', 'event': 'sample_on', 'time_before': 300, 'st': 0, 'end': 1550, 'select_block': 1, 'win': 100, 'dtype_sp': <class 'numpy.int8'>, 'dtype_mask': <class 'bool'>}]\n"
     ]
    }
   ],
   "source": [
    "print(population.created)\n",
    "print(population.comment)"
   ]
  },
  {
   "cell_type": "markdown",
   "metadata": {},
   "source": [
    "### Perform a computation on each neuron"
   ]
  },
  {
   "cell_type": "code",
   "execution_count": 16,
   "metadata": {},
   "outputs": [],
   "source": [
    "# Define a funtion which takes a neuron as imput\n",
    "def get_fr(neu):\n",
    "    res = {}\n",
    "    res[\"nid\"] = neu.get_neuron_id()\n",
    "    start_sample_on = neu.time_before_sample_on_in\n",
    "    meanfr = np.mean(neu.sample_on_in[:, start_sample_on:start_sample_on+150])\n",
    "    res[\"mean_fr\"] = meanfr*1000\n",
    "    return res"
   ]
  },
  {
   "cell_type": "code",
   "execution_count": 17,
   "metadata": {},
   "outputs": [
    {
     "name": "stderr",
     "output_type": "stream",
     "text": [
      "100%|██████████| 10/10 [00:00<00:00, 1918.27it/s]\n"
     ]
    }
   ],
   "source": [
    "# if ret_df=True returns a pandas DataFrame, else a list \n",
    "df_fr = population.execute_function(\n",
    "    get_fr, n_jobs=-1, ret_df=True\n",
    ")"
   ]
  },
  {
   "cell_type": "code",
   "execution_count": 18,
   "metadata": {},
   "outputs": [
    {
     "data": {
      "text/html": [
       "<div>\n",
       "<style scoped>\n",
       "    .dataframe tbody tr th:only-of-type {\n",
       "        vertical-align: middle;\n",
       "    }\n",
       "\n",
       "    .dataframe tbody tr th {\n",
       "        vertical-align: top;\n",
       "    }\n",
       "\n",
       "    .dataframe thead th {\n",
       "        text-align: right;\n",
       "    }\n",
       "</style>\n",
       "<table border=\"1\" class=\"dataframe\">\n",
       "  <thead>\n",
       "    <tr style=\"text-align: right;\">\n",
       "      <th></th>\n",
       "      <th>nid</th>\n",
       "      <th>mean_fr</th>\n",
       "    </tr>\n",
       "  </thead>\n",
       "  <tbody>\n",
       "    <tr>\n",
       "      <th>0</th>\n",
       "      <td>mua3LIP2023-10-18_10-57-56Riesling</td>\n",
       "      <td>3.345912</td>\n",
       "    </tr>\n",
       "    <tr>\n",
       "      <th>1</th>\n",
       "      <td>mua4LIP2023-10-18_10-57-56Riesling</td>\n",
       "      <td>6.389937</td>\n",
       "    </tr>\n",
       "    <tr>\n",
       "      <th>2</th>\n",
       "      <td>mua5LIP2023-10-18_10-57-56Riesling</td>\n",
       "      <td>0.226415</td>\n",
       "    </tr>\n",
       "    <tr>\n",
       "      <th>3</th>\n",
       "      <td>mua6LIP2023-10-18_10-57-56Riesling</td>\n",
       "      <td>7.320755</td>\n",
       "    </tr>\n",
       "    <tr>\n",
       "      <th>4</th>\n",
       "      <td>mua7LIP2023-10-18_10-57-56Riesling</td>\n",
       "      <td>8.427673</td>\n",
       "    </tr>\n",
       "    <tr>\n",
       "      <th>5</th>\n",
       "      <td>good1LIP2023-10-18_10-57-56Riesling</td>\n",
       "      <td>8.050314</td>\n",
       "    </tr>\n",
       "    <tr>\n",
       "      <th>6</th>\n",
       "      <td>mua8LIP2023-10-18_10-57-56Riesling</td>\n",
       "      <td>1.534591</td>\n",
       "    </tr>\n",
       "    <tr>\n",
       "      <th>7</th>\n",
       "      <td>mua9LIP2023-10-18_10-57-56Riesling</td>\n",
       "      <td>0.528302</td>\n",
       "    </tr>\n",
       "    <tr>\n",
       "      <th>8</th>\n",
       "      <td>mua10LIP2023-10-18_10-57-56Riesling</td>\n",
       "      <td>2.691824</td>\n",
       "    </tr>\n",
       "    <tr>\n",
       "      <th>9</th>\n",
       "      <td>mua11LIP2023-10-18_10-57-56Riesling</td>\n",
       "      <td>3.220126</td>\n",
       "    </tr>\n",
       "  </tbody>\n",
       "</table>\n",
       "</div>"
      ],
      "text/plain": [
       "                                   nid   mean_fr\n",
       "0   mua3LIP2023-10-18_10-57-56Riesling  3.345912\n",
       "1   mua4LIP2023-10-18_10-57-56Riesling  6.389937\n",
       "2   mua5LIP2023-10-18_10-57-56Riesling  0.226415\n",
       "3   mua6LIP2023-10-18_10-57-56Riesling  7.320755\n",
       "4   mua7LIP2023-10-18_10-57-56Riesling  8.427673\n",
       "5  good1LIP2023-10-18_10-57-56Riesling  8.050314\n",
       "6   mua8LIP2023-10-18_10-57-56Riesling  1.534591\n",
       "7   mua9LIP2023-10-18_10-57-56Riesling  0.528302\n",
       "8  mua10LIP2023-10-18_10-57-56Riesling  2.691824\n",
       "9  mua11LIP2023-10-18_10-57-56Riesling  3.220126"
      ]
     },
     "execution_count": 18,
     "metadata": {},
     "output_type": "execute_result"
    }
   ],
   "source": [
    "df_fr"
   ]
  },
  {
   "cell_type": "markdown",
   "metadata": {},
   "source": [
    "### Select a subpopulation"
   ]
  },
  {
   "cell_type": "code",
   "execution_count": 19,
   "metadata": {},
   "outputs": [
    {
     "data": {
      "text/html": [
       "<div>\n",
       "<style scoped>\n",
       "    .dataframe tbody tr th:only-of-type {\n",
       "        vertical-align: middle;\n",
       "    }\n",
       "\n",
       "    .dataframe tbody tr th {\n",
       "        vertical-align: top;\n",
       "    }\n",
       "\n",
       "    .dataframe thead th {\n",
       "        text-align: right;\n",
       "    }\n",
       "</style>\n",
       "<table border=\"1\" class=\"dataframe\">\n",
       "  <thead>\n",
       "    <tr style=\"text-align: right;\">\n",
       "      <th></th>\n",
       "      <th>nid</th>\n",
       "      <th>mean_fr</th>\n",
       "    </tr>\n",
       "  </thead>\n",
       "  <tbody>\n",
       "    <tr>\n",
       "      <th>1</th>\n",
       "      <td>mua4LIP2023-10-18_10-57-56Riesling</td>\n",
       "      <td>6.389937</td>\n",
       "    </tr>\n",
       "    <tr>\n",
       "      <th>3</th>\n",
       "      <td>mua6LIP2023-10-18_10-57-56Riesling</td>\n",
       "      <td>7.320755</td>\n",
       "    </tr>\n",
       "    <tr>\n",
       "      <th>4</th>\n",
       "      <td>mua7LIP2023-10-18_10-57-56Riesling</td>\n",
       "      <td>8.427673</td>\n",
       "    </tr>\n",
       "    <tr>\n",
       "      <th>5</th>\n",
       "      <td>good1LIP2023-10-18_10-57-56Riesling</td>\n",
       "      <td>8.050314</td>\n",
       "    </tr>\n",
       "  </tbody>\n",
       "</table>\n",
       "</div>"
      ],
      "text/plain": [
       "                                   nid   mean_fr\n",
       "1   mua4LIP2023-10-18_10-57-56Riesling  6.389937\n",
       "3   mua6LIP2023-10-18_10-57-56Riesling  7.320755\n",
       "4   mua7LIP2023-10-18_10-57-56Riesling  8.427673\n",
       "5  good1LIP2023-10-18_10-57-56Riesling  8.050314"
      ]
     },
     "execution_count": 19,
     "metadata": {},
     "output_type": "execute_result"
    }
   ],
   "source": [
    "df_fr_5 = df_fr[df_fr['mean_fr']>5]\n",
    "df_fr_5"
   ]
  },
  {
   "cell_type": "code",
   "execution_count": 20,
   "metadata": {},
   "outputs": [
    {
     "data": {
      "text/plain": [
       "array(['mua4LIP2023-10-18_10-57-56Riesling',\n",
       "       'mua6LIP2023-10-18_10-57-56Riesling',\n",
       "       'mua7LIP2023-10-18_10-57-56Riesling',\n",
       "       'good1LIP2023-10-18_10-57-56Riesling'], dtype=object)"
      ]
     },
     "execution_count": 20,
     "metadata": {},
     "output_type": "execute_result"
    }
   ],
   "source": [
    "nid_list = df_fr_5['nid'].values\n",
    "nid_list"
   ]
  },
  {
   "cell_type": "code",
   "execution_count": 21,
   "metadata": {},
   "outputs": [
    {
     "data": {
      "text/plain": [
       "[<ephysvibe.structures.neuron_data.NeuronData at 0x1cdb8530880>,\n",
       " <ephysvibe.structures.neuron_data.NeuronData at 0x1cdb85027f0>,\n",
       " <ephysvibe.structures.neuron_data.NeuronData at 0x1cdb8502520>,\n",
       " <ephysvibe.structures.neuron_data.NeuronData at 0x1cdb8530c70>]"
      ]
     },
     "execution_count": 21,
     "metadata": {},
     "output_type": "execute_result"
    }
   ],
   "source": [
    "population.get_subpopulation(nid_list)"
   ]
  },
  {
   "cell_type": "markdown",
   "metadata": {},
   "source": [
    "## Old stuff"
   ]
  },
  {
   "cell_type": "code",
   "execution_count": 6,
   "metadata": {},
   "outputs": [],
   "source": [
    "df=pd.read_csv('C:/Users/camil/Documents/int/code/Users/losadac/preproc/testdf.csv')"
   ]
  },
  {
   "cell_type": "code",
   "execution_count": 9,
   "metadata": {},
   "outputs": [],
   "source": [
    "mean_fr = (df['in_mean_fr_sample']+df['in_mean_fr_delay'])/2\n",
    "sel_neu = df[mean_fr>1]['nid'].values"
   ]
  },
  {
   "cell_type": "code",
   "execution_count": 11,
   "metadata": {},
   "outputs": [],
   "source": [
    "subpopu = popu.get_subpopulation(sel_neu)"
   ]
  },
  {
   "cell_type": "code",
   "execution_count": 12,
   "metadata": {},
   "outputs": [
    {
     "ename": "AttributeError",
     "evalue": "'list' object has no attribute 'population'",
     "output_type": "error",
     "traceback": [
      "\u001b[1;31m---------------------------------------------------------------------------\u001b[0m",
      "\u001b[1;31mAttributeError\u001b[0m                            Traceback (most recent call last)",
      "Cell \u001b[1;32mIn[12], line 1\u001b[0m\n\u001b[1;32m----> 1\u001b[0m \u001b[43msubpopu\u001b[49m\u001b[38;5;241;43m.\u001b[39;49m\u001b[43mpopulation\u001b[49m[\u001b[38;5;241m0\u001b[39m]\u001b[38;5;241m.\u001b[39msp_test\n",
      "\u001b[1;31mAttributeError\u001b[0m: 'list' object has no attribute 'population'"
     ]
    }
   ],
   "source": [
    "subpopu.population[0].sp_test"
   ]
  },
  {
   "cell_type": "code",
   "execution_count": 16,
   "metadata": {},
   "outputs": [],
   "source": [
    "def get_sample_test(neu:NeuronData,params:Dict):\n",
    "    time_before_sample=params['time_before_sample']\n",
    "    time_before_sample=params['time_before_test']\n",
    "    sp_sample, mask = neu.align_on(\n",
    "        select_block=params['select_block'],\n",
    "        select_pos=params['select_pos'],\n",
    "        event=\"sample_on\",\n",
    "        time_before=params['time_before_sample'],\n",
    "        error_type=0,\n",
    "    )\n",
    "    sp_test, mask = neu.align_on(\n",
    "        select_block=params['select_block'],\n",
    "        select_pos=params['select_pos'],\n",
    "        event=\"test_on_1\",\n",
    "        time_before=params['time_before_test'],\n",
    "        error_type=0,\n",
    "    )\n",
    "    idx_start_sample = time_before_sample + params['start_sample']\n",
    "    idx_end_sample = time_before_sample + params['end_sample']\n",
    "    idx_start_test = time_before_test + params['start_test']\n",
    "    idx_end_test = time_before_test + params['end_test']\n",
    "\n",
    "    new_values = {}\n",
    "    new_values['sp_sample'] = np.array(sp_sample[:,idx_start_sample:idx_end_sample],dtype=np.int8)\n",
    "    new_values['sp_test'] = np.array(sp_test[:,idx_start_test:idx_end_test],dtype=np.int8)\n",
    "    \n",
    "    for attr_name in [\n",
    "        \"block\",\n",
    "        \"trial_error\",\n",
    "        \"code_samples\",\n",
    "        \"code_numbers\",\n",
    "        \"position\",\n",
    "        \"pos_code\",\n",
    "        \"sample_id\",\n",
    "        \"test_stimuli\",\n",
    "        \"test_distractor\",\n",
    "    ]:\n",
    "        new_values[attr_name] = getattr(neu, attr_name)[mask]\n",
    "    neu.edit_attributes(new_values)"
   ]
  },
  {
   "cell_type": "code",
   "execution_count": 17,
   "metadata": {},
   "outputs": [],
   "source": [
    "params = {\n",
    "    # sample\n",
    "    'time_before_sample': 500,\n",
    "    'start_sample': -200,\n",
    "    'end_sample': 450 + 400,\n",
    "    # test\n",
    "    'time_before_test': 500,\n",
    "    'start_test': -400,\n",
    "    'end_test': n_test * 450 + 200,\n",
    "    'select_block':1,\n",
    "    'select_pos':1,\n",
    "    'event':\"sample_on\",\n",
    "    'error_type':0,\n",
    "}"
   ]
  },
  {
   "cell_type": "code",
   "execution_count": 13,
   "metadata": {},
   "outputs": [],
   "source": [
    "subpopu = PopulationData(subpopu)"
   ]
  },
  {
   "cell_type": "code",
   "execution_count": 18,
   "metadata": {},
   "outputs": [
    {
     "name": "stderr",
     "output_type": "stream",
     "text": [
      "100%|██████████| 4/4 [00:00<00:00, 12.10it/s]\n"
     ]
    }
   ],
   "source": [
    "_=subpopu.execute_function(get_sample_test,params=params,n_jobs=1,ret_df=False)"
   ]
  },
  {
   "cell_type": "code",
   "execution_count": 19,
   "metadata": {},
   "outputs": [
    {
     "data": {
      "text/plain": [
       "(265, 1050)"
      ]
     },
     "execution_count": 19,
     "metadata": {},
     "output_type": "execute_result"
    }
   ],
   "source": [
    "subpopu.population[0].sp_sample.shape"
   ]
  },
  {
   "cell_type": "code",
   "execution_count": 7,
   "metadata": {},
   "outputs": [
    {
     "data": {
      "text/html": [
       "<div>\n",
       "<style scoped>\n",
       "    .dataframe tbody tr th:only-of-type {\n",
       "        vertical-align: middle;\n",
       "    }\n",
       "\n",
       "    .dataframe tbody tr th {\n",
       "        vertical-align: top;\n",
       "    }\n",
       "\n",
       "    .dataframe thead th {\n",
       "        text-align: right;\n",
       "    }\n",
       "</style>\n",
       "<table border=\"1\" class=\"dataframe\">\n",
       "  <thead>\n",
       "    <tr style=\"text-align: right;\">\n",
       "      <th></th>\n",
       "      <th>nid</th>\n",
       "      <th>in_mean_fr_sample_NN</th>\n",
       "      <th>in_lat_max_fr_sample_NN</th>\n",
       "      <th>in_mean_max_fr_sample_NN</th>\n",
       "      <th>in_mean_fr_delay_NN</th>\n",
       "      <th>in_lat_max_fr_delay_NN</th>\n",
       "      <th>in_mean_max_fr_delay_NN</th>\n",
       "      <th>in_mean_fr_sample_N</th>\n",
       "      <th>in_lat_max_fr_sample_N</th>\n",
       "      <th>in_mean_max_fr_sample_N</th>\n",
       "      <th>...</th>\n",
       "      <th>out_mean_max_fr_sample_NN</th>\n",
       "      <th>out_mean_fr_delay_NN</th>\n",
       "      <th>out_lat_max_fr_delay_NN</th>\n",
       "      <th>out_mean_max_fr_delay_NN</th>\n",
       "      <th>out_mean_fr_sample_N</th>\n",
       "      <th>out_lat_max_fr_sample_N</th>\n",
       "      <th>out_mean_max_fr_sample_N</th>\n",
       "      <th>out_mean_fr_delay_N</th>\n",
       "      <th>out_lat_max_fr_delay_N</th>\n",
       "      <th>out_mean_max_fr_delay_N</th>\n",
       "    </tr>\n",
       "  </thead>\n",
       "  <tbody>\n",
       "    <tr>\n",
       "      <th>0</th>\n",
       "      <td>good1LIP2023-10-18_10-57-56Riesling</td>\n",
       "      <td>6.492367</td>\n",
       "      <td>136</td>\n",
       "      <td>8.078053</td>\n",
       "      <td>1.131511</td>\n",
       "      <td>3</td>\n",
       "      <td>1.642847</td>\n",
       "      <td>5.684495</td>\n",
       "      <td>139</td>\n",
       "      <td>8.851400</td>\n",
       "      <td>...</td>\n",
       "      <td>7.281459</td>\n",
       "      <td>1.614321</td>\n",
       "      <td>4</td>\n",
       "      <td>1.671470</td>\n",
       "      <td>4.872106</td>\n",
       "      <td>70.0</td>\n",
       "      <td>6.508536</td>\n",
       "      <td>2.933936</td>\n",
       "      <td>129.0</td>\n",
       "      <td>3.224715</td>\n",
       "    </tr>\n",
       "    <tr>\n",
       "      <th>1</th>\n",
       "      <td>mua8LIP2023-10-18_10-57-56Riesling</td>\n",
       "      <td>1.017039</td>\n",
       "      <td>42</td>\n",
       "      <td>1.766470</td>\n",
       "      <td>2.805549</td>\n",
       "      <td>234</td>\n",
       "      <td>3.710537</td>\n",
       "      <td>1.833958</td>\n",
       "      <td>273</td>\n",
       "      <td>2.898548</td>\n",
       "      <td>...</td>\n",
       "      <td>2.087411</td>\n",
       "      <td>3.820307</td>\n",
       "      <td>321</td>\n",
       "      <td>4.744953</td>\n",
       "      <td>0.946610</td>\n",
       "      <td>349.0</td>\n",
       "      <td>1.440784</td>\n",
       "      <td>1.426995</td>\n",
       "      <td>335.0</td>\n",
       "      <td>2.209467</td>\n",
       "    </tr>\n",
       "    <tr>\n",
       "      <th>2</th>\n",
       "      <td>mua9LIP2023-10-18_10-57-56Riesling</td>\n",
       "      <td>0.491892</td>\n",
       "      <td>380</td>\n",
       "      <td>0.808868</td>\n",
       "      <td>1.021345</td>\n",
       "      <td>221</td>\n",
       "      <td>1.341812</td>\n",
       "      <td>0.692484</td>\n",
       "      <td>427</td>\n",
       "      <td>0.779571</td>\n",
       "      <td>...</td>\n",
       "      <td>1.006486</td>\n",
       "      <td>0.573862</td>\n",
       "      <td>176</td>\n",
       "      <td>0.592177</td>\n",
       "      <td>0.894014</td>\n",
       "      <td>103.0</td>\n",
       "      <td>1.303982</td>\n",
       "      <td>0.546876</td>\n",
       "      <td>0.0</td>\n",
       "      <td>0.750160</td>\n",
       "    </tr>\n",
       "    <tr>\n",
       "      <th>3</th>\n",
       "      <td>mua10LIP2023-10-18_10-57-56Riesling</td>\n",
       "      <td>1.563345</td>\n",
       "      <td>108</td>\n",
       "      <td>3.349809</td>\n",
       "      <td>0.494177</td>\n",
       "      <td>1</td>\n",
       "      <td>0.728646</td>\n",
       "      <td>1.973887</td>\n",
       "      <td>94</td>\n",
       "      <td>2.795180</td>\n",
       "      <td>...</td>\n",
       "      <td>0.817303</td>\n",
       "      <td>0.605666</td>\n",
       "      <td>37</td>\n",
       "      <td>0.906040</td>\n",
       "      <td>0.897311</td>\n",
       "      <td>394.0</td>\n",
       "      <td>1.148393</td>\n",
       "      <td>1.451206</td>\n",
       "      <td>379.0</td>\n",
       "      <td>2.199128</td>\n",
       "    </tr>\n",
       "    <tr>\n",
       "      <th>4</th>\n",
       "      <td>mua11LIP2023-10-18_10-57-56Riesling</td>\n",
       "      <td>2.032776</td>\n",
       "      <td>100</td>\n",
       "      <td>4.071189</td>\n",
       "      <td>1.638862</td>\n",
       "      <td>155</td>\n",
       "      <td>1.862226</td>\n",
       "      <td>1.083320</td>\n",
       "      <td>92</td>\n",
       "      <td>2.041631</td>\n",
       "      <td>...</td>\n",
       "      <td>1.619150</td>\n",
       "      <td>0.854565</td>\n",
       "      <td>392</td>\n",
       "      <td>1.025324</td>\n",
       "      <td>0.681207</td>\n",
       "      <td>384.0</td>\n",
       "      <td>1.096511</td>\n",
       "      <td>1.508641</td>\n",
       "      <td>271.0</td>\n",
       "      <td>1.896699</td>\n",
       "    </tr>\n",
       "  </tbody>\n",
       "</table>\n",
       "<p>5 rows × 25 columns</p>\n",
       "</div>"
      ],
      "text/plain": [
       "                                   nid  in_mean_fr_sample_NN  \\\n",
       "0  good1LIP2023-10-18_10-57-56Riesling              6.492367   \n",
       "1   mua8LIP2023-10-18_10-57-56Riesling              1.017039   \n",
       "2   mua9LIP2023-10-18_10-57-56Riesling              0.491892   \n",
       "3  mua10LIP2023-10-18_10-57-56Riesling              1.563345   \n",
       "4  mua11LIP2023-10-18_10-57-56Riesling              2.032776   \n",
       "\n",
       "   in_lat_max_fr_sample_NN  in_mean_max_fr_sample_NN  in_mean_fr_delay_NN  \\\n",
       "0                      136                  8.078053             1.131511   \n",
       "1                       42                  1.766470             2.805549   \n",
       "2                      380                  0.808868             1.021345   \n",
       "3                      108                  3.349809             0.494177   \n",
       "4                      100                  4.071189             1.638862   \n",
       "\n",
       "   in_lat_max_fr_delay_NN  in_mean_max_fr_delay_NN  in_mean_fr_sample_N  \\\n",
       "0                       3                 1.642847             5.684495   \n",
       "1                     234                 3.710537             1.833958   \n",
       "2                     221                 1.341812             0.692484   \n",
       "3                       1                 0.728646             1.973887   \n",
       "4                     155                 1.862226             1.083320   \n",
       "\n",
       "   in_lat_max_fr_sample_N  in_mean_max_fr_sample_N  ...  \\\n",
       "0                     139                 8.851400  ...   \n",
       "1                     273                 2.898548  ...   \n",
       "2                     427                 0.779571  ...   \n",
       "3                      94                 2.795180  ...   \n",
       "4                      92                 2.041631  ...   \n",
       "\n",
       "   out_mean_max_fr_sample_NN  out_mean_fr_delay_NN  out_lat_max_fr_delay_NN  \\\n",
       "0                   7.281459              1.614321                        4   \n",
       "1                   2.087411              3.820307                      321   \n",
       "2                   1.006486              0.573862                      176   \n",
       "3                   0.817303              0.605666                       37   \n",
       "4                   1.619150              0.854565                      392   \n",
       "\n",
       "   out_mean_max_fr_delay_NN  out_mean_fr_sample_N  out_lat_max_fr_sample_N  \\\n",
       "0                  1.671470              4.872106                     70.0   \n",
       "1                  4.744953              0.946610                    349.0   \n",
       "2                  0.592177              0.894014                    103.0   \n",
       "3                  0.906040              0.897311                    394.0   \n",
       "4                  1.025324              0.681207                    384.0   \n",
       "\n",
       "   out_mean_max_fr_sample_N  out_mean_fr_delay_N  out_lat_max_fr_delay_N  \\\n",
       "0                  6.508536             2.933936                   129.0   \n",
       "1                  1.440784             1.426995                   335.0   \n",
       "2                  1.303982             0.546876                     0.0   \n",
       "3                  1.148393             1.451206                   379.0   \n",
       "4                  1.096511             1.508641                   271.0   \n",
       "\n",
       "   out_mean_max_fr_delay_N  \n",
       "0                 3.224715  \n",
       "1                 2.209467  \n",
       "2                 0.750160  \n",
       "3                 2.199128  \n",
       "4                 1.896699  \n",
       "\n",
       "[5 rows x 25 columns]"
      ]
     },
     "execution_count": 7,
     "metadata": {},
     "output_type": "execute_result"
    },
    {
     "ename": "",
     "evalue": "",
     "output_type": "error",
     "traceback": [
      "\u001b[1;31mThe Kernel crashed while executing code in the current cell or a previous cell. \n",
      "\u001b[1;31mPlease review the code in the cell(s) to identify a possible cause of the failure. \n",
      "\u001b[1;31mClick <a href='https://aka.ms/vscodeJupyterKernelCrash'>here</a> for more info. \n",
      "\u001b[1;31mView Jupyter <a href='command:jupyter.viewOutput'>log</a> for further details."
     ]
    }
   ],
   "source": [
    "df.head()"
   ]
  },
  {
   "cell_type": "code",
   "execution_count": null,
   "metadata": {},
   "outputs": [],
   "source": [
    "def get_matrix_position(neu_data,matrix_df,ch_start):\n",
    "    ch_start = np.load(\n",
    "        sessions_path\n",
    "        + session\n",
    "        + \"/Record Node 102/experiment1/recording1/continuous/Acquisition_Board-100.Rhythm Data/KS\"\n",
    "        + area.upper()\n",
    "        + \"/channel_map.npy\"\n",
    "    )[0][0]\n",
    "    cluster_ch = neu_data.cluster_ch - ch_start\n",
    "    matrix_df = pd.read_csv(\n",
    "        ch_pos_path + area + \"_ch_pos.csv\",\n",
    "        header=0,\n",
    "        index_col=0,\n",
    "    )\n",
    "    matrix = matrix_df.values\n",
    "    matrix = matrix - matrix.min().min()\n",
    "    row, col = np.where(cluster_ch == matrix)\n",
    "    return row,col"
   ]
  },
  {
   "cell_type": "code",
   "execution_count": null,
   "metadata": {},
   "outputs": [],
   "source": []
  }
 ],
 "metadata": {
  "kernelspec": {
   "display_name": "Users-zKW_FhGB",
   "language": "python",
   "name": "python3"
  },
  "language_info": {
   "codemirror_mode": {
    "name": "ipython",
    "version": 3
   },
   "file_extension": ".py",
   "mimetype": "text/x-python",
   "name": "python",
   "nbconvert_exporter": "python",
   "pygments_lexer": "ipython3",
   "version": "3.9.6"
  }
 },
 "nbformat": 4,
 "nbformat_minor": 2
}
