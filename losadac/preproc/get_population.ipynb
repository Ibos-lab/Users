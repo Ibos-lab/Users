{
 "cells": [
  {
   "cell_type": "code",
   "execution_count": 2,
   "metadata": {},
   "outputs": [],
   "source": []
  },
  {
   "cell_type": "markdown",
   "metadata": {},
   "source": [
    "pipeline start\n",
    "define functions to get populations processed in different useful ways\n",
    "\n",
    "* la idea es que reciban como input una lista de diccionarios. Cada\n",
    "diccionario contiene los parametros necesarios para alinear los spikes a un evento en particular\n",
    "* tambien puede recibir como input attributos que se desean eliminar del objeto neurona (se elimina la informacion pero no el atributo per se)"
   ]
  },
  {
   "cell_type": "code",
   "execution_count": 4,
   "metadata": {},
   "outputs": [],
   "source": [
    "import numpy as np\n",
    "from joblib import Parallel, delayed\n",
    "from tqdm import tqdm\n",
    "from pathlib import Path\n",
    "from typing import Dict, List\n",
    "from ephysvibe.structures.neuron_data import NeuronData\n",
    "from ephysvibe.structures.population_data import PopulationData\n",
    "import pandas as pd\n",
    "import glob"
   ]
  },
  {
   "cell_type": "code",
   "execution_count": 5,
   "metadata": {},
   "outputs": [],
   "source": [
    "# Define parameters\n",
    "params = [\n",
    "    {\n",
    "        \"loc\": \"in\",\n",
    "        \"event\": \"sample_on\",\n",
    "        \"time_before\": 500,\n",
    "        \"time_after\": 1000,\n",
    "        \"select_block\": 1,\n",
    "    },\n",
    "    {\n",
    "        \"loc\": \"in\",\n",
    "        \"event\": \"test_on_1\",\n",
    "        \"time_before\": 500,\n",
    "        \"time_after\": 600,\n",
    "        \"select_block\": 1,\n",
    "    },\n",
    "    {\n",
    "        \"loc\": \"out\",\n",
    "        \"event\": \"sample_on\",\n",
    "        \"time_before\": 500,\n",
    "        \"time_after\": 1000,\n",
    "        \"select_block\": 1,\n",
    "    },\n",
    "    {\n",
    "        \"loc\": \"out\",\n",
    "        \"event\": \"test_on_1\",\n",
    "        \"time_before\": 500,\n",
    "        \"time_after\": 600,\n",
    "        \"select_block\": 1,\n",
    "    }\n",
    "]"
   ]
  },
  {
   "cell_type": "code",
   "execution_count": 6,
   "metadata": {},
   "outputs": [],
   "source": [
    "def read_and_compute(path,params,rf_loc):\n",
    "    neu=NeuronData.from_python_hdf5(path)\n",
    "    neu=neu.get_neu_align(params=params,delete_att=['sp_samples'],rf_loc=rf_loc)\n",
    "    return neu"
   ]
  },
  {
   "cell_type": "code",
   "execution_count": null,
   "metadata": {},
   "outputs": [],
   "source": [
    "# paths\n",
    "filepaths = {\n",
    "    \"lip\": \"D:/data/session_struct/lip/neurons/\",\n",
    "    \"pfc\": \"\",\n",
    "    \"v4\": \"\",\n",
    "}\n",
    "path_list={}\n",
    "for area in filepaths.keys():\n",
    "    path = filepaths[area]\n",
    "    neu_path = path + \"*neu.h5\"\n",
    "    path_list[area] = glob.glob(neu_path)"
   ]
  },
  {
   "cell_type": "code",
   "execution_count": 8,
   "metadata": {},
   "outputs": [],
   "source": [
    "rf_loc= pd.read_csv(\"//envau_cifs.intlocal.univ-amu.fr/work/invibe/USERS/IBOS/data/Riesling/TSCM/OpenEphys/activation_index/rf_loc_df_lip.csv\")"
   ]
  },
  {
   "cell_type": "code",
   "execution_count": 9,
   "metadata": {},
   "outputs": [
    {
     "name": "stderr",
     "output_type": "stream",
     "text": [
      "100%|██████████| 530/530 [03:37<00:00,  2.44it/s]\n"
     ]
    }
   ],
   "source": [
    "population = Parallel(n_jobs=-1)(\n",
    "    delayed(read_and_compute)(path,params,rf_loc) for path in tqdm(path_list['lip'])\n",
    ")"
   ]
  },
  {
   "cell_type": "code",
   "execution_count": 10,
   "metadata": {},
   "outputs": [],
   "source": [
    "aa = PopulationData(population)\n",
    "aa.to_python_hdf5('population.h5')\n",
    "aa = PopulationData.from_python_hdf5('population.h5')"
   ]
  },
  {
   "cell_type": "code",
   "execution_count": null,
   "metadata": {},
   "outputs": [],
   "source": []
  }
 ],
 "metadata": {
  "kernelspec": {
   "display_name": "Users-zKW_FhGB",
   "language": "python",
   "name": "python3"
  },
  "language_info": {
   "codemirror_mode": {
    "name": "ipython",
    "version": 3
   },
   "file_extension": ".py",
   "mimetype": "text/x-python",
   "name": "python",
   "nbconvert_exporter": "python",
   "pygments_lexer": "ipython3",
   "version": "3.9.6"
  }
 },
 "nbformat": 4,
 "nbformat_minor": 2
}
