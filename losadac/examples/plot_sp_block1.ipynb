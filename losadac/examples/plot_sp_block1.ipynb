{
 "cells": [
  {
   "cell_type": "code",
   "execution_count": 1,
   "metadata": {},
   "outputs": [],
   "source": [
    "import numpy as np\n",
    "from matplotlib import pyplot as plt\n",
    "from ephysvibe.trials.spikes import firing_rate\n",
    "from ephysvibe.trials import select_trials,align_trials\n",
    "from ephysvibe.task import task_constants\n",
    "from ephysvibe.structures.neuron_data import NeuronData\n",
    "import platform"
   ]
  },
  {
   "attachments": {},
   "cell_type": "markdown",
   "metadata": {},
   "source": [
    "### Functions"
   ]
  },
  {
   "attachments": {},
   "cell_type": "markdown",
   "metadata": {},
   "source": [
    "## Block 1"
   ]
  },
  {
   "cell_type": "code",
   "execution_count": 4,
   "metadata": {},
   "outputs": [],
   "source": [
    "if platform.system() == 'Linux':\n",
    "    basepath = '/envau/work/invibe/USERS/IBOS/data/Riesling/TSCM/OpenEphys/new_structure'\n",
    "elif platform.system() == 'Windows':\n",
    "    basepath = 'D:/data/'#//envau_cifs.intlocal.univ-amu.fr/'"
   ]
  },
  {
   "cell_type": "code",
   "execution_count": 38,
   "metadata": {},
   "outputs": [],
   "source": [
    "neu_path = basepath+\"/session_struct/lip/neurons/2022-12-05_10-51-52_Riesling_lip_e1_r1_mua1_neu.h5\"\n",
    "neu_data = NeuronData.from_python_hdf5(neu_path)"
   ]
  },
  {
   "cell_type": "code",
   "execution_count": 39,
   "metadata": {},
   "outputs": [],
   "source": [
    "# parameters\n",
    "time_before=700\n",
    "select_block=1\n",
    "start=-200\n",
    "end=1000\n",
    "idx_start = time_before + start \n",
    "idx_end = time_before+end"
   ]
  },
  {
   "cell_type": "code",
   "execution_count": 40,
   "metadata": {},
   "outputs": [],
   "source": [
    "# sp_sample_on_all=[]\n",
    "conv_all={'in':{},'out':{}}\n",
    "all_sp_by_sample = {'in':{},'out':{}}\n",
    "pos_label = ['in','out']\n",
    "pos_code = [1,-1]\n",
    "# idx_tr_sample = []\n",
    "count_trials=0\n",
    "all_max_conv=0\n",
    "all_max_trial=0\n",
    "\n",
    "for code,pos in zip(pos_code,pos_label):\n",
    "    # select correct trials, block one, inside/outside RF, and align with sample onset \n",
    "    sp_sample_on,mask = align_trials.align_on(\n",
    "        sp_samples=neu_data.sp_samples,\n",
    "        code_samples=neu_data.code_samples,\n",
    "        code_numbers=neu_data.code_numbers,\n",
    "        trial_error=neu_data.trial_error,\n",
    "        block=neu_data.block,\n",
    "        pos_code=neu_data.pos_code,\n",
    "        select_block= select_block,\n",
    "        select_pos= code,\n",
    "        event =\"sample_on\",\n",
    "        time_before = time_before,\n",
    "        error_type= 0,\n",
    "    )\n",
    "\n",
    "    sample_id = neu_data.sample_id[mask]\n",
    "    sp_by_sample = select_trials.get_sp_by_sample(sp_sample_on,sample_id)\n",
    "    for key,value in sp_by_sample.items():\n",
    "        arr = value.mean(axis=0)\n",
    "        conv = firing_rate.convolve_signal(arr=arr,fs = 1000,w_size=0.1,w_std=0.015,axis=0)[idx_start:idx_end]\n",
    "        conv_all[pos][key] = conv\n",
    "        sp_by_sample[key]=value[:,idx_start:idx_end]\n",
    "        count_trials= value.shape[0]\n",
    "        max_conv = np.max(conv) \n",
    "        all_max_conv = max_conv if max_conv > all_max_conv else all_max_conv\n",
    "        all_max_trial = count_trials if count_trials > all_max_trial else all_max_trial\n",
    "    all_sp_by_sample[pos] = sp_by_sample\n",
    "#sp_sample_on_in = sp_sample_on_in[:,0:1200+time_before]"
   ]
  },
  {
   "cell_type": "code",
   "execution_count": 41,
   "metadata": {},
   "outputs": [],
   "source": [
    "# def conv_mean_trials_fr(arr,fs = 1000,w_size=0.1,w_std=0.015):\n",
    "#     # define kernel for convolution\n",
    "#     kernel = firing_rate.define_kernel(\n",
    "#         w_size, w_std, fs=fs\n",
    "#     )\n",
    "#     mean_arr = arr.mean(axis=0)\n",
    "#     conv = np.convolve(mean_arr, kernel, mode=\"same\") * fs\n",
    "#     return conv"
   ]
  },
  {
   "cell_type": "code",
   "execution_count": 42,
   "metadata": {},
   "outputs": [],
   "source": [
    "def plot_raster_conv(sp_sample,start,conv,time,ax1,ax2,colors):\n",
    "    n_trials=0\n",
    "    for key,sp in sp_sample.items():\n",
    "        # ----- plot conv----------\n",
    "        if len(conv[key])==0:\n",
    "            return ax1,ax2,0\n",
    "        ax1.plot(time, conv[key], color=colors[key])\n",
    "        # ----- plot spikes----------\n",
    "        rows, cols = np.where(sp >= 1)\n",
    "        ax2.scatter(cols+start,rows+n_trials, marker='|', alpha=1,edgecolors='none',color=colors[key],label=\"sample %s\" % key)\n",
    "        n_trials = n_trials + sp.shape[0] \n",
    "\n",
    "    return ax1,ax2,n_trials"
   ]
  },
  {
   "cell_type": "code",
   "execution_count": 43,
   "metadata": {},
   "outputs": [
    {
     "data": {
      "text/plain": [
       "{'11': 'firebrick',\n",
       " '15': 'teal',\n",
       " '51': 'tomato',\n",
       " '55': 'lightseagreen',\n",
       " '0': 'grey'}"
      ]
     },
     "execution_count": 43,
     "metadata": {},
     "output_type": "execute_result"
    }
   ],
   "source": [
    "task_constants.PALETTE_B1"
   ]
  },
  {
   "cell_type": "code",
   "execution_count": 44,
   "metadata": {},
   "outputs": [],
   "source": [
    "colors = {'11':task_constants.PALETTE_B1['11'],'15':task_constants.PALETTE_B1['15'],'51':task_constants.PALETTE_B1['51'],'55':task_constants.PALETTE_B1['55'],'0':task_constants.PALETTE_B1['0']}\n"
   ]
  },
  {
   "cell_type": "code",
   "execution_count": 45,
   "metadata": {},
   "outputs": [
    {
     "name": "stderr",
     "output_type": "stream",
     "text": [
      "/tmp/ipykernel_21408/510088082.py:10: UserWarning: You passed a edgecolor/edgecolors ('none') for an unfilled marker ('|').  Matplotlib is ignoring the edgecolor in favor of the facecolor.  This behavior may change in the future.\n",
      "  ax2.scatter(cols+start,rows+n_trials, marker='|', alpha=1,edgecolors='none',color=colors[key],label=\"sample %s\" % key)\n"
     ]
    },
    {
     "data": {
      "text/plain": [
       "Text(0.05, 0.99, '2022-12-05_10-51-52: lip mua 1 ')"
      ]
     },
     "execution_count": 45,
     "metadata": {},
     "output_type": "execute_result"
    },
    {
     "data": {
      "image/png": "[encoded data removed]",
      "text/plain": [
       "<Figure size 2500x1000 with 4 Axes>"
      ]
     },
     "metadata": {},
     "output_type": "display_data"
    }
   ],
   "source": [
    "fig, (ax_in,ax_out) = plt.subplots(nrows=1, ncols=2, figsize=(25, 10), sharey=True)\n",
    "#conv_in,conv_out=[],[]\n",
    "time = np.arange(0,end-start)+start\n",
    "ax_in_2 = ax_in.twinx()\n",
    "pos= 'in'\n",
    "ax_in, ax_in_2,n_trials_in=plot_raster_conv(all_sp_by_sample[pos],start,conv_all[pos],time,ax_in,ax_in_2,colors=colors)\n",
    "ax_out_2 = ax_out.twinx()  \n",
    "pos= 'out'\n",
    "ax_out, ax_out_2,n_trials_out=plot_raster_conv(all_sp_by_sample[pos],start,conv_all[pos],time,ax_out,ax_out_2,colors=colors)\n",
    "\n",
    "all_max_trial=max([n_trials_in,n_trials_out])\n",
    "# -----parameters in plot\n",
    "ax_in_2.axes.set_yticks(np.arange(-all_max_conv-5, all_max_trial))\n",
    "ax_in.axes.set_ylim(0,all_max_conv+all_max_trial+5)\n",
    "ax_in.axes.set_yticks(np.arange(0, all_max_conv+5,10))\n",
    "plt.setp(ax_in_2.axes.get_yticklabels(), visible=False)\n",
    "plt.setp(ax_in_2.axes.get_yaxis(), visible=False)\n",
    "ax_in.set_title('in',fontsize=15)\n",
    "ax_in.vlines(\n",
    "        [0,450,900],\n",
    "        0,\n",
    "        all_max_conv+all_max_trial+5,\n",
    "        color='k',\n",
    "        linestyles=\"dashed\",\n",
    "    )\n",
    "ax_in.spines[\"right\"].set_visible(False)\n",
    "ax_in.spines[\"top\"].set_visible(False)\n",
    "ax_in_2.spines[\"right\"].set_visible(False)\n",
    "ax_in_2.spines[\"top\"].set_visible(False)\n",
    "ax_in.set_xlabel(xlabel=\"Time (ms)\",fontsize=18)\n",
    "ax_in.set_ylabel(ylabel=\"Average firing rate\",fontsize=15,loc=\"bottom\")\n",
    "for xtick in ax_in.xaxis.get_major_ticks():\n",
    "    xtick.label1.set_fontsize(15)  \n",
    "for ytick in ax_in.yaxis.get_major_ticks():\n",
    "    ytick.label1.set_fontsize(15) \n",
    "for xtick in ax_in_2.xaxis.get_major_ticks():\n",
    "    xtick.label1.set_fontsize(15) \n",
    "# -----parameters out plot\n",
    "ax_out_2.axes.set_yticks(np.arange(-all_max_conv-5, all_max_trial))\n",
    "ax_out.axes.set_ylim(0,all_max_conv+all_max_trial+5)\n",
    "ax_out.axes.set_yticks(np.arange(0, all_max_conv+5,10))\n",
    "plt.setp(ax_out_2.axes.get_yticklabels(), visible=False)\n",
    "plt.setp(ax_out_2.axes.get_yaxis(), visible=False)\n",
    "ax_out.set_title('out',fontsize=15)\n",
    "ax_out.vlines(\n",
    "        [0,450,900],\n",
    "        0,\n",
    "        all_max_conv+all_max_trial+5,\n",
    "        color='k',\n",
    "        linestyles=\"dashed\",\n",
    "    )\n",
    "ax_out.spines[\"right\"].set_visible(False)\n",
    "ax_out.spines[\"top\"].set_visible(False)\n",
    "ax_out_2.spines[\"right\"].set_visible(False)\n",
    "ax_out_2.spines[\"top\"].set_visible(False)\n",
    "ax_out.set_xlabel(xlabel=\"Time (ms)\",fontsize=18)\n",
    "for xtick in ax_out.xaxis.get_major_ticks():\n",
    "    xtick.label1.set_fontsize(15)  \n",
    "for ytick in ax_out.yaxis.get_major_ticks():\n",
    "    ytick.label1.set_fontsize(15) \n",
    "for xtick in ax_out_2.xaxis.get_major_ticks():\n",
    "    xtick.label1.set_fontsize(15) \n",
    "ax_out_2.legend(fontsize=15,scatterpoints=5,columnspacing=0.5,framealpha=0,loc='upper right')\n",
    "## --- figure\n",
    "fig.tight_layout(pad=0.2, h_pad=0.2, w_pad=0.8)\n",
    "fig.suptitle(\"%s: %s %s %d \" % (neu_data.date_time, neu_data.area, neu_data.cluster_group, neu_data.cluster_number), x=0.05, y=0.99,fontsize=15)"
   ]
  },
  {
   "cell_type": "code",
   "execution_count": 48,
   "metadata": {},
   "outputs": [],
   "source": [
    "# fig.savefig(\"V4_b1.png\",format='png',bbox_inches=\"tight\", transparent=True)\n",
    "# fig.savefig(\"V4_b1.svg\",format='svg',bbox_inches=\"tight\", transparent=True)"
   ]
  },
  {
   "attachments": {},
   "cell_type": "markdown",
   "metadata": {},
   "source": [
    "#### Check sample selectiviy\n"
   ]
  },
  {
   "attachments": {},
   "cell_type": "markdown",
   "metadata": {},
   "source": [
    "## Stats"
   ]
  },
  {
   "cell_type": "code",
   "execution_count": 47,
   "metadata": {},
   "outputs": [
    {
     "ename": "ModuleNotFoundError",
     "evalue": "No module named 'statsmodels'",
     "output_type": "error",
     "traceback": [
      "\u001b[0;31m---------------------------------------------------------------------------\u001b[0m",
      "\u001b[0;31mModuleNotFoundError\u001b[0m                       Traceback (most recent call last)",
      "Cell \u001b[0;32mIn[47], line 5\u001b[0m\n\u001b[1;32m      3\u001b[0m \u001b[38;5;28;01mfrom\u001b[39;00m \u001b[38;5;21;01msklearn\u001b[39;00m\u001b[38;5;21;01m.\u001b[39;00m\u001b[38;5;21;01mpreprocessing\u001b[39;00m \u001b[38;5;28;01mimport\u001b[39;00m LabelEncoder, StandardScaler, MinMaxScaler\n\u001b[1;32m      4\u001b[0m \u001b[38;5;28;01mfrom\u001b[39;00m \u001b[38;5;21;01msklearn\u001b[39;00m \u001b[38;5;28;01mimport\u001b[39;00m metrics\n\u001b[0;32m----> 5\u001b[0m \u001b[38;5;28;01mfrom\u001b[39;00m \u001b[38;5;21;01mstatsmodels\u001b[39;00m\u001b[38;5;21;01m.\u001b[39;00m\u001b[38;5;21;01mstats\u001b[39;00m\u001b[38;5;21;01m.\u001b[39;00m\u001b[38;5;21;01mmultitest\u001b[39;00m \u001b[38;5;28;01mimport\u001b[39;00m multipletests\n\u001b[1;32m      6\u001b[0m \u001b[38;5;28;01mfrom\u001b[39;00m \u001b[38;5;21;01msklearn\u001b[39;00m\u001b[38;5;21;01m.\u001b[39;00m\u001b[38;5;21;01mmulticlass\u001b[39;00m \u001b[38;5;28;01mimport\u001b[39;00m OneVsRestClassifier\n\u001b[1;32m      7\u001b[0m \u001b[38;5;28;01mfrom\u001b[39;00m \u001b[38;5;21;01mstatsmodels\u001b[39;00m \u001b[38;5;28;01mimport\u001b[39;00m api \u001b[38;5;28;01mas\u001b[39;00m sm\n",
      "\u001b[0;31mModuleNotFoundError\u001b[0m: No module named 'statsmodels'"
     ]
    }
   ],
   "source": [
    "from sklearn.model_selection import train_test_split, GridSearchCV,KFold,cross_val_score,StratifiedKFold\n",
    "from sklearn.svm import SVC,LinearSVC\n",
    "from sklearn.preprocessing import LabelEncoder, StandardScaler, MinMaxScaler\n",
    "from sklearn import metrics\n",
    "from statsmodels.stats.multitest import multipletests\n",
    "from sklearn.multiclass import OneVsRestClassifier\n",
    "from statsmodels import api as sm\n",
    "from statsmodels.formula.api import ols\n",
    "from bioinfokit. analys import stat as bk_stat\n",
    "from sklearn.metrics import roc_auc_score\n",
    "seed = 2023"
   ]
  },
  {
   "cell_type": "code",
   "execution_count": null,
   "metadata": {},
   "outputs": [],
   "source": [
    "n_neuron = 8"
   ]
  },
  {
   "attachments": {},
   "cell_type": "markdown",
   "metadata": {},
   "source": [
    "## SVM"
   ]
  },
  {
   "attachments": {},
   "cell_type": "markdown",
   "metadata": {},
   "source": [
    "#### def functions"
   ]
  },
  {
   "cell_type": "code",
   "execution_count": null,
   "metadata": {},
   "outputs": [],
   "source": [
    "def run_svm_decoder(model,list_df,n_iterations,steps,win_steps,win_size,it_seed,resample_value):\n",
    "    scores = np.zeros((n_iterations,steps))\n",
    "    for n_it in np.arange(n_iterations):\n",
    "        #  select trials randomly\n",
    "        df = []\n",
    "        for i_df in list_df:\n",
    "            df.append(i_df.sample(resample_value,random_state=it_seed[n_it],replace=False)) # sample without replacement\n",
    "        df = pd.concat(df).reset_index(drop=True)\n",
    "        \n",
    "        #df = df.sample(frac=1,random_state=it_seed[n_it],replace=False)\n",
    "        \n",
    "        X = df.iloc[:, :-4] \n",
    "        #X = pd.DataFrame(scaler.fit_transform(X))\n",
    "        y = df['label_encoder']\n",
    "        X_train, X_test, y_train, y_test = train_test_split(X, y, test_size=.2,shuffle=True, random_state=it_seed[n_it])\n",
    "        X_train['label_encoder'] = y_train\n",
    "        #X_test['label_encoder'] = y_test\n",
    "        # Sample with replacement\n",
    "        X_train = X_train.sample(len(X_train),random_state=it_seed[n_it],replace=False)\n",
    "        y_train = X_train['label_encoder']\n",
    "        X_train = X_train.iloc[:,:-1]\n",
    "        for n,n_win in enumerate(np.arange(0,steps*win_steps,win_steps)):\n",
    "            # Split into X and y\n",
    "            scaler = MinMaxScaler()\n",
    "            X = X_train.iloc[:,int(n_win):int(n_win)+win_size].mean(axis=1).values.reshape(-1, 1)\n",
    "            X = pd.DataFrame(scaler.fit_transform(X))    \n",
    "            # test\n",
    "            X_t = X_test.iloc[:,int(n_win):int(n_win)+win_size].mean(axis=1).values.reshape(-1, 1)        \n",
    "            X_t = pd.DataFrame(scaler.transform(X_t))\n",
    "            model.fit(X,y_train)\n",
    "            y_predict = model.predict(X_t)\n",
    "            scores[n_it, n] = metrics.accuracy_score(y_test,y_predict)# cross_val_score(model, X, y, cv=kf,n_jobs=-1).mean()\n",
    "    return scores"
   ]
  },
  {
   "cell_type": "code",
   "execution_count": null,
   "metadata": {},
   "outputs": [],
   "source": [
    "# plot results\n",
    "def plot_accuracy(scores,win_steps,neuron_max_shift,x_lim_min,x_lim_max,n_neuron):\n",
    "    fig,ax = plt.subplots()\n",
    "    ax.plot(((np.arange(0,len(scores[0]))*win_steps)- neuron_max_shift[n_neuron-1])/1000,scores[:13].mean(axis=0))\n",
    "    ax.set_xlim(x_lim_min, x_lim_max)\n",
    "    ax.vlines(\n",
    "        0, 0.3, 1, color=\"k\", linestyles=\"dashed\"\n",
    "    )# sample on\n",
    "    ax.hlines(\n",
    "        0.5, x_lim_min, x_lim_max, color=\"gray\", linestyles=\"solid\"\n",
    "    )\n",
    "    ax.set_title('Is neuron %d engaged in the task?'%(n_neuron))\n",
    "    ax.set(xlabel=\"Time (s)\", ylabel=\"SVM classifier accuracy\")\n",
    "    fig.tight_layout(pad=0.2, h_pad=0.2, w_pad=0.2)\n",
    "    fig.legend(['Accuracy','Sample on'], fontsize=9)"
   ]
  },
  {
   "attachments": {},
   "cell_type": "markdown",
   "metadata": {},
   "source": [
    "#### Model"
   ]
  },
  {
   "cell_type": "code",
   "execution_count": null,
   "metadata": {},
   "outputs": [
    {
     "ename": "NameError",
     "evalue": "name 'fr_samples' is not defined",
     "output_type": "error",
     "traceback": [
      "\u001b[0;31m---------------------------------------------------------------------------\u001b[0m",
      "\u001b[0;31mNameError\u001b[0m                                 Traceback (most recent call last)",
      "\u001b[1;32m/home/INT/losada.c/Documents/codes/EphysVibe/examples/plot_sp_block1.ipynb Cell 22\u001b[0m line \u001b[0;36m4\n\u001b[1;32m      <a href='vscode-notebook-cell:/home/INT/losada.c/Documents/codes/EphysVibe/examples/plot_sp_block1.ipynb#X25sZmlsZQ%3D%3D?line=1'>2</a>\u001b[0m model\u001b[39m=\u001b[39m  SVC(kernel\u001b[39m=\u001b[39m\u001b[39m'\u001b[39m\u001b[39mlinear\u001b[39m\u001b[39m'\u001b[39m,C\u001b[39m=\u001b[39m\u001b[39m20\u001b[39m,decision_function_shape\u001b[39m=\u001b[39m\u001b[39m'\u001b[39m\u001b[39movr\u001b[39m\u001b[39m'\u001b[39m,gamma\u001b[39m=\u001b[39m\u001b[39m0.001\u001b[39m)\n\u001b[1;32m      <a href='vscode-notebook-cell:/home/INT/losada.c/Documents/codes/EphysVibe/examples/plot_sp_block1.ipynb#X25sZmlsZQ%3D%3D?line=2'>3</a>\u001b[0m \u001b[39m# data preparation\u001b[39;00m\n\u001b[0;32m----> <a href='vscode-notebook-cell:/home/INT/losada.c/Documents/codes/EphysVibe/examples/plot_sp_block1.ipynb#X25sZmlsZQ%3D%3D?line=3'>4</a>\u001b[0m neuron_fr \u001b[39m=\u001b[39m fr_samples[fr_samples[\u001b[39m'\u001b[39m\u001b[39mneuron\u001b[39m\u001b[39m'\u001b[39m]\u001b[39m==\u001b[39m n_neuron]\n\u001b[1;32m      <a href='vscode-notebook-cell:/home/INT/losada.c/Documents/codes/EphysVibe/examples/plot_sp_block1.ipynb#X25sZmlsZQ%3D%3D?line=4'>5</a>\u001b[0m n_iterations \u001b[39m=\u001b[39m \u001b[39m10\u001b[39m\n\u001b[1;32m      <a href='vscode-notebook-cell:/home/INT/losada.c/Documents/codes/EphysVibe/examples/plot_sp_block1.ipynb#X25sZmlsZQ%3D%3D?line=5'>6</a>\u001b[0m win_steps \u001b[39m=\u001b[39m \u001b[39m10\u001b[39m\n",
      "\u001b[0;31mNameError\u001b[0m: name 'fr_samples' is not defined"
     ]
    }
   ],
   "source": [
    "# define model\n",
    "model=  SVC(kernel='linear',C=20,decision_function_shape='ovr',gamma=0.001)\n",
    "# data preparation\n",
    "neuron_fr = fr_samples[fr_samples['neuron']== n_neuron]\n",
    "n_iterations = 10\n",
    "win_steps = 10\n",
    "win_size = 100\n",
    "steps = int(np.ceil((len(neuron_fr.columns[:-4])/win_steps)))\n",
    "rng = np.random.default_rng(seed=seed)\n",
    "it_seed = rng.integers(low=1, high=2023, size=n_iterations, dtype=int)"
   ]
  },
  {
   "cell_type": "code",
   "execution_count": null,
   "metadata": {},
   "outputs": [],
   "source": [
    "# encode labels\n",
    "le = LabelEncoder()\n",
    "le.fit(neuron_fr['sample'].replace(['B','C','D'],'A').values)\n",
    "neuron_fr['label_encoder'] = le.transform(neuron_fr.loc[:,'sample'].replace(['B','C','D'],'A').values) # encode labels\n",
    "# Resample dataframe\n",
    "resample_value = neuron_fr[neuron_fr['sample']=='N']['sample'].value_counts().min()\n",
    "list_df=[neuron_fr[(neuron_fr['sample'] == 'A') | (neuron_fr['sample'] == 'B') | (neuron_fr['sample'] == 'C') | (neuron_fr['sample'] == 'D')],neuron_fr[neuron_fr['sample'] == 'N']]"
   ]
  },
  {
   "cell_type": "code",
   "execution_count": null,
   "metadata": {},
   "outputs": [],
   "source": [
    "scores = run_svm_decoder(model,list_df,n_iterations,steps,win_steps,win_size,it_seed,resample_value)\n",
    "plot_accuracy(scores,win_steps,neuron_max_shift,x_lim_min,x_lim_max,n_neuron)"
   ]
  },
  {
   "attachments": {},
   "cell_type": "markdown",
   "metadata": {},
   "source": [
    "#### Predict samples"
   ]
  },
  {
   "cell_type": "code",
   "execution_count": null,
   "metadata": {},
   "outputs": [],
   "source": [
    "# encode labels\n",
    "le = LabelEncoder()\n",
    "le.fit(neuron_fr['sample'].values)\n",
    "neuron_fr['label_encoder'] = le.transform(neuron_fr['sample'].values) # encode labels\n",
    "# Resample dataframe\n",
    "resample_value = neuron_fr['sample'].value_counts().min()\n",
    "list_df=[neuron_fr[neuron_fr['sample'] == 'A'],neuron_fr[neuron_fr['sample'] == 'B'],neuron_fr[neuron_fr['sample'] == 'C'],neuron_fr[neuron_fr['sample'] == 'D'],neuron_fr[neuron_fr['sample'] == 'N']]"
   ]
  },
  {
   "cell_type": "code",
   "execution_count": null,
   "metadata": {},
   "outputs": [],
   "source": [
    "scores_samples = run_svm_decoder(model,list_df,n_iterations,steps,win_steps,win_size,it_seed,resample_value)\n",
    "plot_accuracy(scores_samples,win_steps,neuron_max_shift,x_lim_min,x_lim_max,n_neuron)"
   ]
  },
  {
   "attachments": {},
   "cell_type": "markdown",
   "metadata": {},
   "source": [
    "## ANOVA"
   ]
  },
  {
   "attachments": {},
   "cell_type": "markdown",
   "metadata": {},
   "source": [
    "#### def functions"
   ]
  },
  {
   "cell_type": "code",
   "execution_count": null,
   "metadata": {},
   "outputs": [],
   "source": [
    "def select_from_df(df1,samples,n_neuron,df2=np.nan):\n",
    "    if isinstance(df2,pd.DataFrame) == False:\n",
    "        df2=df1\n",
    "    # add to check shapes of df1 == df2\n",
    "    sample_df = []\n",
    "    for s in samples:\n",
    "        sample_df.append(df1[(df2['sample']==s)&(df2['neuron']==n_neuron)])\n",
    "    return pd.concat(sample_df,axis=0)"
   ]
  },
  {
   "cell_type": "code",
   "execution_count": null,
   "metadata": {},
   "outputs": [],
   "source": [
    "# t_test\n",
    "def compute_f_oneway(group1,group2,group3,group4,neuron_max_shift,seed):\n",
    "    foneway:Dict[str,list] = defaultdict(list)\n",
    "    rng = np.random.default_rng(seed=seed)\n",
    "    it_seed = rng.integers(low=1, high=2023, size=group1.shape[1], dtype=int)\n",
    "    for n_win in np.arange(group1.shape[1]):\n",
    "        trials_group1 = group1.iloc[:,n_win]\n",
    "        trials_group2 = group2.iloc[:,n_win]\n",
    "        trials_group3 = group3.iloc[:,n_win]\n",
    "        trials_group4 = group4.iloc[:,n_win]\n",
    "        #trials_group5 = group5.iloc[:,n_win]\n",
    "        p=stats.f_oneway(trials_group1.values, trials_group2.values,trials_group3.values, trials_group4.values)#,trials_group5.values)\n",
    "        foneway['p']+=[p[1]]\n",
    "        \n",
    "    foneway=pd.DataFrame(foneway)\n",
    "    fig,ax=plt.subplots(figsize=(10,3))\n",
    "    bonferroni_foneway = multipletests(foneway.values.reshape(-1),alpha=0.05)[1]\n",
    "    mask_b = bonferroni_foneway<0.05\n",
    "    mask_f = foneway.values.reshape(-1)<0.05\n",
    "    ax.plot((np.arange(len(foneway))-neuron_max_shift[0]/step)/1000,foneway.values.reshape(-1))\n",
    "    ax.scatter(((np.arange(len(foneway))-neuron_max_shift[0]/step)/1000)[mask_f],foneway.values.reshape(-1)[mask_f],c='b',marker='.')\n",
    "    ax.plot((np.arange(len(foneway))-neuron_max_shift[0]/step)/1000,bonferroni_foneway)\n",
    "    ax.scatter(((np.arange(len(foneway))-neuron_max_shift[0]/step)/1000)[mask_b],bonferroni_foneway[mask_b],c='firebrick',marker='.')\n",
    "\n",
    "    return foneway"
   ]
  },
  {
   "attachments": {},
   "cell_type": "markdown",
   "metadata": {},
   "source": [
    "#### compute anova"
   ]
  },
  {
   "cell_type": "code",
   "execution_count": null,
   "metadata": {},
   "outputs": [],
   "source": [
    "neuron_fr = fr_samples[fr_samples['neuron']== n_neuron]\n",
    "win_size = 500\n",
    "step = 1\n",
    "fix_duration = 100\n",
    "mean_fr_window = neuron_fr.iloc[:, :-3].rolling(window = win_size,axis=1,step=step,min_periods=1).mean()"
   ]
  },
  {
   "cell_type": "code",
   "execution_count": null,
   "metadata": {},
   "outputs": [],
   "source": [
    "a = select_from_df(df1=mean_fr_window,samples=['A'],n_neuron=n_neuron,df2=neuron_fr)\n",
    "b = select_from_df(df1=mean_fr_window,samples=['B'],n_neuron=n_neuron,df2=neuron_fr)\n",
    "c = select_from_df(df1=mean_fr_window,samples=['C'],n_neuron=n_neuron,df2=neuron_fr)\n",
    "d = select_from_df(df1=mean_fr_window,samples=['D'],n_neuron=n_neuron,df2=neuron_fr)\n",
    "#n = select_from_df(df1=mean_fr_window,samples=['N'],n_neuron=n_neuron,df2=neuron_fr)\n",
    "foneway = compute_f_oneway(a,b,c,d,neuron_max_shift,seed)\n"
   ]
  },
  {
   "attachments": {},
   "cell_type": "markdown",
   "metadata": {},
   "source": [
    "## t test"
   ]
  },
  {
   "attachments": {},
   "cell_type": "markdown",
   "metadata": {},
   "source": [
    "#### def functions"
   ]
  },
  {
   "cell_type": "code",
   "execution_count": null,
   "metadata": {},
   "outputs": [],
   "source": [
    "# t_test\n",
    "def compute_t_test(group1,group2,neuron_max_shift,seed):\n",
    "    t_test:Dict[str,list] = defaultdict(list)\n",
    "    rng = np.random.default_rng(seed=seed)\n",
    "    it_seed = rng.integers(low=1, high=2023, size=group1.shape[1], dtype=int)\n",
    "    for n_win in np.arange(group1.shape[1]):\n",
    "        trials_group1 = group1.iloc[:,n_win]\n",
    "        trials_group2 = group2.iloc[:,n_win]\n",
    "        p=stats.ttest_ind(trials_group1.values, trials_group2.values)\n",
    "        t_test['p']+=[p[1]]\n",
    "        \n",
    "    t_test=pd.DataFrame(t_test)\n",
    "    fig,ax=plt.subplots(figsize=(10,3))\n",
    "    bonferroni_t_test = multipletests(t_test.values.reshape(-1),alpha=0.05)[1]\n",
    "    mask_b = bonferroni_t_test<0.05\n",
    "    mask_t = t_test.values.reshape(-1)<0.05\n",
    "    ax.plot((np.arange(len(t_test))-neuron_max_shift[0]/step)/1000,t_test.values.reshape(-1))\n",
    "    ax.scatter(((np.arange(len(t_test))-neuron_max_shift[0]/step)/1000)[mask_t],t_test.values.reshape(-1)[mask_t],c='b',marker='.')\n",
    "    ax.plot((np.arange(len(t_test))-neuron_max_shift[0]/step)/1000,bonferroni_t_test)\n",
    "    ax.scatter(((np.arange(len(t_test))-neuron_max_shift[0]/step)/1000)[mask_b],bonferroni_t_test[mask_b],c='firebrick',marker='.')\n",
    "    ax.set(xlabel=\"Time (s)\", ylabel=\"p-value\")\n",
    "    fig.tight_layout(pad=0.2, h_pad=0.2, w_pad=0.2)\n",
    "    fig.legend(['t-test','values under 0.05','bonferroni','values under 0.05'], fontsize=8)\n",
    "    return t_test\n"
   ]
  },
  {
   "attachments": {},
   "cell_type": "markdown",
   "metadata": {},
   "source": [
    "#### compute t-test"
   ]
  },
  {
   "cell_type": "code",
   "execution_count": null,
   "metadata": {},
   "outputs": [],
   "source": [
    "neuron_fr = fr_samples[fr_samples['neuron']== n_neuron]\n",
    "win_size = 500\n",
    "step = 1\n",
    "fix_duration = 100\n",
    "mean_fr_window = neuron_fr.iloc[:, :-3].rolling(window = win_size,axis=1,step=step,min_periods=1).mean()"
   ]
  },
  {
   "cell_type": "code",
   "execution_count": null,
   "metadata": {},
   "outputs": [],
   "source": [
    "# test whether the neuron is engaged in the task (N vs others)\n",
    "all_sample_presentation = select_from_df(df1=mean_fr_window,samples=['A','B','C','D'],n_neuron=n_neuron,df2=neuron_fr)\n",
    "n_sample_presentation = select_from_df(df1=mean_fr_window,samples=['N'],n_neuron=n_neuron,df2=neuron_fr)\n",
    "t_test=compute_t_test(all_sample_presentation,n_sample_presentation,neuron_max_shift,seed)"
   ]
  },
  {
   "attachments": {},
   "cell_type": "markdown",
   "metadata": {},
   "source": [
    "#### Check if it is sample selective\n",
    "The neuron is sample selective only if it is significant for one of the following (a vs d | b vs c):"
   ]
  },
  {
   "cell_type": "code",
   "execution_count": null,
   "metadata": {},
   "outputs": [],
   "source": [
    "# Color - orientation 1\n",
    "a = select_from_df(df1=mean_fr_window,samples=['A'],n_neuron=n_neuron,df2=neuron_fr)\n",
    "d = select_from_df(df1=mean_fr_window,samples=['D'],n_neuron=n_neuron,df2=neuron_fr)\n",
    "t_test=compute_t_test(a,d,neuron_max_shift,seed)"
   ]
  },
  {
   "cell_type": "code",
   "execution_count": null,
   "metadata": {},
   "outputs": [],
   "source": [
    "# Color - orientation 2 \n",
    "b = select_from_df(df1=mean_fr_window,samples=['B'],n_neuron=n_neuron,df2=neuron_fr)\n",
    "c = select_from_df(df1=mean_fr_window,samples=['C'],n_neuron=n_neuron,df2=neuron_fr)\n",
    "t_test=compute_t_test(b,c,neuron_max_shift,seed)"
   ]
  },
  {
   "cell_type": "code",
   "execution_count": null,
   "metadata": {},
   "outputs": [],
   "source": [
    "# Orientation \n",
    "ab = select_from_df(df1=mean_fr_window,samples=['A','B'],n_neuron=n_neuron,df2=neuron_fr)\n",
    "cd = select_from_df(df1=mean_fr_window,samples=['C','D'],n_neuron=n_neuron,df2=neuron_fr)\n",
    "t_test=compute_t_test(ab,cd,neuron_max_shift,seed)"
   ]
  },
  {
   "cell_type": "code",
   "execution_count": null,
   "metadata": {},
   "outputs": [],
   "source": [
    "# Color\n",
    "ac = select_from_df(df1=mean_fr_window,samples=['A','C'],n_neuron=n_neuron,df2=neuron_fr)\n",
    "bd = select_from_df(df1=mean_fr_window,samples=['B','D'],n_neuron=n_neuron,df2=neuron_fr)\n",
    "t_test=compute_t_test(ac,bd,neuron_max_shift,seed)"
   ]
  },
  {
   "cell_type": "code",
   "execution_count": null,
   "metadata": {},
   "outputs": [],
   "source": [
    "# A vs C (same color)\n",
    "a = select_from_df(df1=mean_fr_window,samples=['A'],n_neuron=n_neuron,df2=neuron_fr)\n",
    "c = select_from_df(df1=mean_fr_window,samples=['C'],n_neuron=n_neuron,df2=neuron_fr)\n",
    "t_test=compute_t_test(a,c,neuron_max_shift,seed)"
   ]
  },
  {
   "cell_type": "code",
   "execution_count": null,
   "metadata": {},
   "outputs": [],
   "source": [
    "# A vs B (same orientation)\n",
    "a = select_from_df(df1=mean_fr_window,samples=['A'],n_neuron=n_neuron,df2=neuron_fr)\n",
    "b = select_from_df(df1=mean_fr_window,samples=['B'],n_neuron=n_neuron,df2=neuron_fr)\n",
    "t_test=compute_t_test(a,b,neuron_max_shift,seed)"
   ]
  },
  {
   "cell_type": "code",
   "execution_count": null,
   "metadata": {},
   "outputs": [],
   "source": [
    "# C vs D (same orientation)\n",
    "c = select_from_df(df1=mean_fr_window,samples=['C'],n_neuron=n_neuron,df2=neuron_fr)\n",
    "d = select_from_df(df1=mean_fr_window,samples=['D'],n_neuron=n_neuron,df2=neuron_fr)\n",
    "t_test=compute_t_test(a,c,neuron_max_shift,seed)"
   ]
  },
  {
   "attachments": {},
   "cell_type": "markdown",
   "metadata": {},
   "source": [
    "## index"
   ]
  },
  {
   "attachments": {},
   "cell_type": "markdown",
   "metadata": {},
   "source": [
    "#### Def functions"
   ]
  },
  {
   "cell_type": "code",
   "execution_count": null,
   "metadata": {},
   "outputs": [],
   "source": [
    "# index\n",
    "def compute_index(group1,group2,neuron_max_shift,seed):\n",
    "    index:Dict[str,list] = defaultdict(list)\n",
    "    rng = np.random.default_rng(seed=seed)\n",
    "    it_seed = rng.integers(low=1, high=2023, size=group1.shape[1], dtype=int)\n",
    "    for n_win in np.arange(group1.shape[1]):\n",
    "        trials_group1 = group1.iloc[:,n_win]\n",
    "        trials_group2 = group2.iloc[:,n_win]\n",
    "        if trials_group1.mean!=0 or trials_group2.mean()!=0:\n",
    "            if trials_group1.mean()>trials_group2.mean():\n",
    "                pref = trials_group1\n",
    "                n_pref = trials_group2\n",
    "                g=0\n",
    "            else:\n",
    "                pref = trials_group2\n",
    "                n_pref = trials_group1 \n",
    "                g=1\n",
    "            index['idx']+=[(pref.mean()-n_pref.mean())/(pref.mean()+n_pref.mean())]#np.sqrt((pref.var()+n_pref.var())/2)\n",
    "            index['group'] += [g]\n",
    "        else:\n",
    "            index['idx']+=[0]\n",
    "            index['group'] += [0.5]\n",
    "        \n",
    "    index=pd.DataFrame(index)\n",
    "    fig,ax=plt.subplots(figsize=(10,3))\n",
    "    ax.plot((np.arange(len(index))-neuron_max_shift[0]/step)/1000,index['idx'].values.reshape(-1))\n",
    "    ax.plot((np.arange(len(index))-neuron_max_shift[0]/step)/1000,index['group'].values.reshape(-1))    \n",
    "    return index"
   ]
  },
  {
   "attachments": {},
   "cell_type": "markdown",
   "metadata": {},
   "source": [
    "#### Compute index"
   ]
  },
  {
   "cell_type": "code",
   "execution_count": null,
   "metadata": {},
   "outputs": [],
   "source": [
    "index=compute_index(a,d,neuron_max_shift,seed)"
   ]
  },
  {
   "attachments": {},
   "cell_type": "markdown",
   "metadata": {},
   "source": [
    "## ROC AUC score"
   ]
  },
  {
   "attachments": {},
   "cell_type": "markdown",
   "metadata": {},
   "source": [
    "#### Def functions"
   ]
  },
  {
   "cell_type": "code",
   "execution_count": null,
   "metadata": {},
   "outputs": [],
   "source": [
    "def compute_roc_auc(group1,group2):\n",
    "    roc_score:Dict[str,list] = defaultdict(list)\n",
    "    rng = np.random.default_rng(seed=seed)\n",
    "    it_seed = rng.integers(low=1, high=2023, size=a.shape[1], dtype=int)\n",
    "    for n_win in np.arange(a.shape[1]):\n",
    "        g1 = group1.iloc[:,n_win]\n",
    "        g2 = group2.iloc[:,n_win]\n",
    "        min_fr, max_fr = pd.concat((g1,g2)).min(),pd.concat((g1,g2)).max()\n",
    "        thresholds = np.arange(min_fr,max_fr+0.01,0.01)\n",
    "        y_g1, y_g2 = np.ones(len(g1)),np.zeros(len(g2))\n",
    "        score=0\n",
    "        fpr,tpr=[],[]\n",
    "        for threshold in thresholds:\n",
    "            g1_y_pred,g2_y_pred = np.zeros(len(g1)),np.zeros(len(g2))\n",
    "            g1_mask,g2_mask = g1.values>=threshold,g2.values>=threshold\n",
    "            g1_y_pred[g1_mask],g2_y_pred[g2_mask] = 1,1\n",
    "            tp = sum(np.logical_and(y_g1==1,g1_y_pred==1))\n",
    "            fn = sum(np.logical_and(y_g1==1,g1_y_pred==0))\n",
    "            tpr.append(tp/ (tp+fn) )\n",
    "            fp = sum(np.logical_and(y_g2==0,g2_y_pred==1))\n",
    "            tn = sum(np.logical_and(y_g2==0,g2_y_pred==0))\n",
    "            fpr.append(fp/ (fp+tn) )\n",
    "        if len(fpr) > 1:\n",
    "            fpr,tpr=np.array(fpr),np.array(tpr)\n",
    "            idx_sort=fpr.argsort()\n",
    "            score = metrics.auc(fpr[idx_sort],tpr[idx_sort])\n",
    "            roc_score['score']+=[score]\n",
    "        else:\n",
    "            roc_score['score']+=[0.5]\n",
    "    roc_score=pd.DataFrame(roc_score)\n",
    "    fig,ax=plt.subplots(figsize=(10,3))\n",
    "    ax.plot((np.arange(len(roc_score))-neuron_max_shift[0]/step)/1000,roc_score['score'].values.reshape(-1))   \n",
    "    ax.set(xlabel=\"Time (s)\", ylabel=\"ROC AUC score\")\n",
    "    fig.tight_layout(pad=0.2, h_pad=0.2, w_pad=0.2)\n",
    "    \n",
    "    return roc_score\n"
   ]
  },
  {
   "attachments": {},
   "cell_type": "markdown",
   "metadata": {},
   "source": [
    "#### Compute roc"
   ]
  },
  {
   "cell_type": "code",
   "execution_count": null,
   "metadata": {},
   "outputs": [],
   "source": [
    "neuron_fr = fr_samples[fr_samples['neuron']== n_neuron]\n",
    "win_size = 100\n",
    "step = 1\n",
    "fix_duration = 100\n",
    "mean_fr_window = neuron_fr.iloc[:, :-3].rolling(window = win_size,axis=1,step=step,min_periods=1).mean()\n",
    "a = select_from_df(df1=mean_fr_window,samples=['A'],n_neuron=n_neuron,df2=neuron_fr)\n",
    "d = select_from_df(df1=mean_fr_window,samples=['D'],n_neuron=n_neuron,df2=neuron_fr)\n",
    "roc_score =compute_roc_auc(a,d)"
   ]
  },
  {
   "cell_type": "code",
   "execution_count": null,
   "metadata": {},
   "outputs": [],
   "source": [
    "ac = select_from_df(df1=mean_fr_window,samples=['A','C'],n_neuron=n_neuron,df2=neuron_fr)\n",
    "bd = select_from_df(df1=mean_fr_window,samples=['B','D'],n_neuron=n_neuron,df2=neuron_fr)\n",
    "roc_score = compute_roc_auc(ac,bd)"
   ]
  },
  {
   "cell_type": "code",
   "execution_count": null,
   "metadata": {},
   "outputs": [],
   "source": []
  }
 ],
 "metadata": {
  "kernelspec": {
   "display_name": "EphysVibe-48n-7Gof",
   "language": "python",
   "name": "python3"
  },
  "language_info": {
   "codemirror_mode": {
    "name": "ipython",
    "version": 3
   },
   "file_extension": ".py",
   "mimetype": "text/x-python",
   "name": "python",
   "nbconvert_exporter": "python",
   "pygments_lexer": "ipython3",
   "version": "3.9.18"
  },
  "orig_nbformat": 4,
  "vscode": {
   "interpreter": {
    "hash": "c0bc8c099b017ba9d073358cd61a0f952fda5c0927b42de8a275d5317edfe6cc"
   }
  }
 },
 "nbformat": 4,
 "nbformat_minor": 2
}
