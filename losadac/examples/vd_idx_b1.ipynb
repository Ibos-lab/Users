{
 "cells": [
  {
   "cell_type": "markdown",
   "metadata": {},
   "source": [
    "#### Script to check rf and compute the visuomemory index block 1\n",
    "- First, check if neuron responding to the task by comparing activity during trial vs baseline\n",
    "- Second, check whether the rf is in in or out\n",
    "- Third, compute the visuomemory index"
   ]
  },
  {
   "cell_type": "code",
   "execution_count": 2,
   "metadata": {},
   "outputs": [],
   "source": [
    "import numpy as np\n",
    "from matplotlib import pyplot as plt\n",
    "from ephysvibe.trials.spikes import firing_rate\n",
    "from ephysvibe.trials import align_trials\n",
    "from ephysvibe.task import task_constants\n",
    "from ephysvibe.structures.neuron_data import NeuronData\n",
    "from scipy import stats"
   ]
  },
  {
   "cell_type": "markdown",
   "metadata": {},
   "source": [
    "### Def functions"
   ]
  },
  {
   "cell_type": "markdown",
   "metadata": {},
   "source": [
    "### Start analysis"
   ]
  },
  {
   "cell_type": "code",
   "execution_count": 3,
   "metadata": {},
   "outputs": [],
   "source": [
    "neu_path = \"/home/INT/losada.c/Documents/session_struct/v4/neurons/2023-03-03_10-59-32_Riesling_v4_e1_r1_mua7_neu.h5\"\n",
    "neu_data = NeuronData.from_python_hdf5(neu_path)"
   ]
  },
  {
   "cell_type": "markdown",
   "metadata": {},
   "source": [
    "#### Select parameters"
   ]
  },
  {
   "cell_type": "code",
   "execution_count": 4,
   "metadata": {},
   "outputs": [],
   "source": [
    "# parameters\n",
    "time_before=500\n",
    "select_block=2\n",
    "start=-200\n",
    "end=1200\n",
    "idx_start = time_before + start \n",
    "idx_end = time_before+end\n",
    "# ---conv\n",
    "fs = 1000\n",
    "w_size=0.1\n",
    "w_std=0.015\n",
    "# Timings \n",
    "## fixation\n",
    "dur_fix = 200\n",
    "## visual stim\n",
    "st_v =   80\n",
    "end_v = 300\n",
    "## delay\n",
    "st_d = 600 \n",
    "end_d = 800\n",
    "# trials and threshold\n",
    "min_trials = 3\n",
    "n_spikes = 1\n",
    "p_threshold = 0.05\n",
    "vd_threshold = 0.4"
   ]
  },
  {
   "cell_type": "code",
   "execution_count": 5,
   "metadata": {},
   "outputs": [],
   "source": [
    "# select correct trials, block one, inside RF, and align with sample onset \n",
    "sp_sample_on_in,mask_in = align_trials.align_on(\n",
    "    sp_samples=neu_data.sp_samples,\n",
    "    code_samples=neu_data.code_samples,\n",
    "    code_numbers=neu_data.code_numbers,\n",
    "    trial_error=neu_data.trial_error,\n",
    "    block=neu_data.block,\n",
    "    pos_code=neu_data.pos_code,\n",
    "    select_block= 1,\n",
    "    select_pos= 1,\n",
    "    event =\"sample_on\",\n",
    "    time_before = time_before,\n",
    "    error_type= 0,\n",
    ")\n",
    "# conv_in = firing_rate.convolve_signal(arr=sp_sample_on_in,fs = 1000,w_size=0.1,w_std=0.015,axis=1) \n",
    "sp_sample_on_in = sp_sample_on_in[:,idx_start:idx_end]"
   ]
  },
  {
   "cell_type": "code",
   "execution_count": 6,
   "metadata": {},
   "outputs": [],
   "source": [
    "# select correct trials, block one, outside RF, and align with sample onset \n",
    "sp_sample_on_out,mask_out = align_trials.align_on(\n",
    "    sp_samples=neu_data.sp_samples,\n",
    "    code_samples=neu_data.code_samples,\n",
    "    code_numbers=neu_data.code_numbers,\n",
    "    trial_error=neu_data.trial_error,\n",
    "    block=neu_data.block,\n",
    "    pos_code=neu_data.pos_code,\n",
    "    select_block= 1,\n",
    "    select_pos= -1,\n",
    "    event =\"sample_on\",\n",
    "    time_before = time_before,\n",
    "    error_type= 0,\n",
    ")\n",
    "#conv_out = firing_rate.convolve_signal(arr=sp_sample_on_out,fs = 1000,w_size=0.1,w_std=0.015,axis=1)\n",
    "sp_sample_on_out=sp_sample_on_out[:,idx_start:idx_end]"
   ]
  },
  {
   "cell_type": "markdown",
   "metadata": {},
   "source": [
    "### select neuron RF:\n",
    "* 1: compare whether activity during sample or delay (in condition) is significant and larger compared to the baseline\n",
    "* 2: if significant -> in, if not -> check if out condition is significant\n",
    "* 3: if significant -> out, if not -> in"
   ]
  },
  {
   "cell_type": "code",
   "execution_count": 7,
   "metadata": {},
   "outputs": [],
   "source": [
    "\n",
    "def check_epochs_activity(signal:np.ndarray,dur_bl:int,st_1:int,end_1:int,st_2:int,end_2:int):\n",
    "    if signal.shape[0] > min_trials:\n",
    "        mean_1 = signal[:, dur_bl + st_1 : dur_bl + end_1].mean(axis=1)\n",
    "        mean_2 = signal[:, dur_bl + st_2 : dur_bl + end_2].mean(axis=1)\n",
    "        mean_bl = signal[:, :dur_bl].mean(axis=1)\n",
    "\n",
    "        larger_1 = mean_bl.mean() < mean_1.mean()\n",
    "        larger_2 = mean_bl.mean() < mean_2.mean()\n",
    "\n",
    "        # paired sample t-test: compare baseline vs epochs\n",
    "        p_1 = stats.ttest_rel(mean_bl, mean_1)[1]\n",
    "        p_2 = stats.ttest_rel(mean_bl, mean_2)[1]\n",
    "    else:\n",
    "        larger_1,larger_2 = False,False\n",
    "        p_1,p_2 = np.nan, np.nan\n",
    "    return larger_1,larger_2,p_1,p_2\n"
   ]
  },
  {
   "cell_type": "code",
   "execution_count": 9,
   "metadata": {},
   "outputs": [],
   "source": [
    "v_larger_in,d_larger_in,p_v_in,p_d_in = check_epochs_activity(sp_sample_on_in,dur_fix,st_v,end_v,st_d,end_d)\n",
    "v_larger_out,d_larger_out,p_v_out,p_d_out = check_epochs_activity(sp_sample_on_out,dur_fix,st_v,end_v,st_d,end_d)"
   ]
  },
  {
   "cell_type": "code",
   "execution_count": 10,
   "metadata": {},
   "outputs": [],
   "source": [
    "check_in = np.logical_and(np.logical_or(v_larger_in,d_larger_in),np.logical_or(p_v_in<p_threshold,p_d_in<p_threshold))\n",
    "check_out = np.logical_and(np.logical_or(v_larger_out,d_larger_out),np.logical_or(p_v_out<p_threshold,p_d_out<p_threshold))\n",
    "if check_in:\n",
    "    rf = 'in'\n",
    "    significant = True\n",
    "elif check_out:\n",
    "    rf='out'\n",
    "    significant = True\n",
    "else:\n",
    "    rf='in'\n",
    "    significant = False\n",
    "    "
   ]
  },
  {
   "cell_type": "markdown",
   "metadata": {},
   "source": [
    "#### Compute VD index"
   ]
  },
  {
   "cell_type": "code",
   "execution_count": 12,
   "metadata": {},
   "outputs": [],
   "source": [
    "if rf == 'in':\n",
    "    sp = sp_sample_on_in\n",
    "elif rf == 'out':\n",
    "    sp = sp_sample_on_out\n",
    "if significant:\n",
    "    mean_visual = sp[:, dur_fix + st_v : dur_fix + end_v].mean()\n",
    "    mean_delay = sp[:, dur_fix + st_d : dur_fix + end_d].mean()\n",
    "    max_fr = sp[:,  : dur_fix + end_d].mean()\n",
    "    mean_delay = mean_delay / max_fr  \n",
    "    mean_visual = mean_visual / max_fr  \n",
    "    vd_index = (mean_delay - mean_visual) / (mean_delay + mean_visual)\n",
    "else:\n",
    "    vd_index=np.nan"
   ]
  },
  {
   "cell_type": "code",
   "execution_count": 13,
   "metadata": {},
   "outputs": [
    {
     "data": {
      "text/plain": [
       "-0.18008142812402123"
      ]
     },
     "execution_count": 13,
     "metadata": {},
     "output_type": "execute_result"
    }
   ],
   "source": [
    "vd_index"
   ]
  },
  {
   "cell_type": "code",
   "execution_count": null,
   "metadata": {},
   "outputs": [],
   "source": [
    "# neu_data.vd_index=vd_index\n",
    "# neu_data.to_python_hdf5('ddd.h5')\n",
    "# dd = NeuronData.from_python_hdf5('ddd.h5')"
   ]
  }
 ],
 "metadata": {
  "kernelspec": {
   "display_name": "EphysVibe-48n-7Gof",
   "language": "python",
   "name": "python3"
  },
  "language_info": {
   "codemirror_mode": {
    "name": "ipython",
    "version": 3
   },
   "file_extension": ".py",
   "mimetype": "text/x-python",
   "name": "python",
   "nbconvert_exporter": "python",
   "pygments_lexer": "ipython3",
   "version": "3.8.10"
  },
  "orig_nbformat": 4
 },
 "nbformat": 4,
 "nbformat_minor": 2
}
