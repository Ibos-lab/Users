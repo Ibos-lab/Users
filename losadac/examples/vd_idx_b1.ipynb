{
 "cells": [
  {
   "cell_type": "markdown",
   "metadata": {},
   "source": [
    "#### Script to check rf and compute the visuomemory index block 1\n",
    "- First, check if neuron responding to the task by comparing activity during trial vs baseline\n",
    "- Second, check whether the rf is in in or out\n",
    "- Third, compute the visuomemory index"
   ]
  },
  {
   "cell_type": "code",
   "execution_count": 27,
   "metadata": {},
   "outputs": [],
   "source": [
    "import numpy as np\n",
    "from matplotlib import pyplot as plt\n",
    "from ephysvibe.trials.spikes import firing_rate\n",
    "from ephysvibe.trials import align_trials\n",
    "from ephysvibe.task import task_constants\n",
    "from ephysvibe.structures.neuron_data import NeuronData\n",
    "from scipy import stats"
   ]
  },
  {
   "cell_type": "markdown",
   "metadata": {},
   "source": [
    "### Def functions"
   ]
  },
  {
   "cell_type": "markdown",
   "metadata": {},
   "source": [
    "### Start analysis"
   ]
  },
  {
   "cell_type": "code",
   "execution_count": 28,
   "metadata": {},
   "outputs": [],
   "source": [
    "neu_path = \"/home/INT/losada.c/Documents/session_struct/v4/neurons/2023-03-03_10-59-32_Riesling_v4_e1_r1_mua7_neu.h5\"\n",
    "neu_data = NeuronData.from_python_hdf5(neu_path)"
   ]
  },
  {
   "cell_type": "markdown",
   "metadata": {},
   "source": [
    "#### Select parameters"
   ]
  },
  {
   "cell_type": "code",
   "execution_count": 29,
   "metadata": {},
   "outputs": [],
   "source": [
    "# parameters\n",
    "time_before=500\n",
    "select_block=2\n",
    "start=-200\n",
    "end=1200\n",
    "idx_start = time_before + start \n",
    "idx_end = time_before+end\n",
    "# ---conv\n",
    "fs = 1000\n",
    "w_size=0.1\n",
    "w_std=0.015\n",
    "# Timings \n",
    "## fixation\n",
    "dur_fix = 200\n",
    "## visual stim\n",
    "st_v =   80\n",
    "end_v = 300\n",
    "## delay\n",
    "st_d = 600 \n",
    "end_d = 800\n",
    "# trials and threshold\n",
    "min_trials = 3\n",
    "n_spikes = 1\n",
    "p_threshold = 0.05\n",
    "vd_threshold = 0.4"
   ]
  },
  {
   "cell_type": "code",
   "execution_count": 30,
   "metadata": {},
   "outputs": [],
   "source": [
    "kernel = firing_rate.define_kernel(\n",
    "        w_size, w_std, fs=fs\n",
    "    )\n"
   ]
  },
  {
   "cell_type": "code",
   "execution_count": 31,
   "metadata": {},
   "outputs": [],
   "source": [
    "# select correct trials, block one, inside RF, and align with sample onset \n",
    "sp_sample_on_in,mask_in = align_trials.align_on(\n",
    "    sp_samples=neu_data.sp_samples,\n",
    "    code_samples=neu_data.code_samples,\n",
    "    code_numbers=neu_data.code_numbers,\n",
    "    trial_error=neu_data.trial_error,\n",
    "    block=neu_data.block,\n",
    "    pos_code=neu_data.pos_code,\n",
    "    select_block= 1,\n",
    "    select_pos= 1,\n",
    "    event =\"sample_on\",\n",
    "    time_before = time_before,\n",
    "    correct_trials= True,\n",
    ")\n",
    "conv_in = np.apply_along_axis(lambda m: np.convolve(m, kernel, mode='same'), axis=1, arr=sp_sample_on_in)* fs\n",
    "conv_in = conv_in[:,idx_start:idx_end]"
   ]
  },
  {
   "cell_type": "code",
   "execution_count": 32,
   "metadata": {},
   "outputs": [],
   "source": [
    "# select correct trials, block one, outside RF, and align with sample onset \n",
    "sp_sample_on_out,mask_out = align_trials.align_on(\n",
    "    sp_samples=neu_data.sp_samples,\n",
    "    code_samples=neu_data.code_samples,\n",
    "    code_numbers=neu_data.code_numbers,\n",
    "    trial_error=neu_data.trial_error,\n",
    "    block=neu_data.block,\n",
    "    pos_code=neu_data.pos_code,\n",
    "    select_block= 1,\n",
    "    select_pos= -1,\n",
    "    event =\"sample_on\",\n",
    "    time_before = time_before,\n",
    "    correct_trials= True,\n",
    ")\n",
    "conv_out = np.apply_along_axis(lambda m: np.convolve(m, kernel, mode='same'), axis=1, arr=sp_sample_on_out)* fs\n",
    "conv_out=conv_out[:,idx_start:idx_end]"
   ]
  },
  {
   "cell_type": "markdown",
   "metadata": {},
   "source": [
    "### select neuron RF:\n",
    "* 1: compare whether activity during sample or delay (in condition) is significant and larger compared to the baseline\n",
    "* 2: if significant -> in, if not -> check if out condition is significant\n",
    "* 3: if significant -> out, if not -> in"
   ]
  },
  {
   "cell_type": "code",
   "execution_count": 33,
   "metadata": {},
   "outputs": [],
   "source": [
    "\n",
    "def check_activity(conv,dur_fix,st_v,end_v,st_d,end_d):\n",
    "    if conv.shape[0] > min_trials:\n",
    "        mean_visual = conv[:, dur_fix + st_v : dur_fix + end_v].mean(axis=1)\n",
    "        mean_delay = conv[:, dur_fix + st_d : dur_fix + end_d].mean(axis=1)\n",
    "        mean_bl = conv[:, :dur_fix].mean(axis=1)\n",
    "\n",
    "        v_larger = mean_bl.mean() < mean_visual.mean()\n",
    "        d_larger = mean_bl.mean() < mean_delay.mean()\n",
    "\n",
    "        # paired sample t-test: compare baseline vs epochs\n",
    "        p_v = stats.ttest_rel(mean_bl, mean_visual)[1]\n",
    "        p_d = stats.ttest_rel(mean_bl, mean_delay)[1]\n",
    "    else:\n",
    "        v_larger,d_larger = False,False\n",
    "        p_v,p_d = np.nan, np.nan\n",
    "    return v_larger,d_larger,p_v,p_d\n"
   ]
  },
  {
   "cell_type": "code",
   "execution_count": 34,
   "metadata": {},
   "outputs": [],
   "source": [
    "v_larger_in,d_larger_in,p_v_in,p_d_in = check_activity(conv_in,dur_fix,st_v,end_v,st_d,end_d)\n",
    "v_larger_out,d_larger_out,p_v_out,p_d_out = check_activity(conv_out,dur_fix,st_v,end_v,st_d,end_d)"
   ]
  },
  {
   "cell_type": "code",
   "execution_count": 35,
   "metadata": {},
   "outputs": [],
   "source": [
    "check_in = np.logical_and(np.logical_or(v_larger_in,d_larger_in),np.logical_or(p_v_in<p_threshold,p_d_in<p_threshold))\n",
    "check_out = np.logical_and(np.logical_or(v_larger_out,d_larger_out),np.logical_or(p_v_out<p_threshold,p_d_out<p_threshold))\n",
    "if check_in:\n",
    "    rf = 'in'\n",
    "    significant = True\n",
    "elif check_out:\n",
    "    rf='out'\n",
    "    significant = True\n",
    "else:\n",
    "    rf='in'\n",
    "    significant = False\n",
    "    "
   ]
  },
  {
   "cell_type": "markdown",
   "metadata": {},
   "source": [
    "#### Compute VD index"
   ]
  },
  {
   "cell_type": "code",
   "execution_count": 36,
   "metadata": {},
   "outputs": [],
   "source": [
    "if rf == 'in':\n",
    "    conv = conv_in\n",
    "elif rf == 'out':\n",
    "    conv = conv_out\n",
    "if significant:\n",
    "    mean_visual = conv[:, dur_fix + st_v : dur_fix + end_v].mean()\n",
    "    mean_delay = conv[:, dur_fix + st_d : dur_fix + end_d].mean()\n",
    "    max_fr = conv[:,  : dur_fix + end_d].mean()\n",
    "    mean_delay = mean_delay / max_fr  \n",
    "    mean_visual = mean_visual / max_fr  \n",
    "    vd_index = (mean_delay - mean_visual) / (mean_delay + mean_visual)\n",
    "else:\n",
    "    vd_index=np.nan"
   ]
  },
  {
   "cell_type": "code",
   "execution_count": 39,
   "metadata": {},
   "outputs": [],
   "source": [
    "# neu_data.vd_index=vd_index\n",
    "# neu_data.to_python_hdf5('ddd.h5')\n",
    "# dd = NeuronData.from_python_hdf5('ddd.h5')"
   ]
  },
  {
   "cell_type": "code",
   "execution_count": null,
   "metadata": {},
   "outputs": [],
   "source": []
  }
 ],
 "metadata": {
  "kernelspec": {
   "display_name": "EphysVibe-48n-7Gof",
   "language": "python",
   "name": "python3"
  },
  "language_info": {
   "codemirror_mode": {
    "name": "ipython",
    "version": 3
   },
   "file_extension": ".py",
   "mimetype": "text/x-python",
   "name": "python",
   "nbconvert_exporter": "python",
   "pygments_lexer": "ipython3",
   "version": "3.8.10"
  },
  "orig_nbformat": 4
 },
 "nbformat": 4,
 "nbformat_minor": 2
}
