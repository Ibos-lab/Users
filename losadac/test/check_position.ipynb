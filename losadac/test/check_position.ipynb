{
 "cells": [
  {
   "cell_type": "code",
   "execution_count": 1,
   "metadata": {},
   "outputs": [],
   "source": [
    "import numpy as np\n",
    "import numpy.matlib as mt\n",
    "\n",
    "from ephysvibe.structures.neuron_data import NeuronData"
   ]
  },
  {
   "cell_type": "code",
   "execution_count": 2,
   "metadata": {},
   "outputs": [],
   "source": [
    "pp=NeuronData.from_python_hdf5(\"//envau_cifs.intlocal.univ-amu.fr/work/invibe/USERS/IBOS/data/Riesling/TSCM/OpenEphys/new_structure/session_struct/lip/neurons/2022-11-30_10-42-03_Riesling_lip_e1_r1_mua2_neu.h5\")"
   ]
  },
  {
   "cell_type": "code",
   "execution_count": 6,
   "metadata": {},
   "outputs": [
    {
     "data": {
      "text/plain": [
       "array([[[-5.,  5.],\n",
       "        [ 5., -5.]],\n",
       "\n",
       "       [[-5.,  5.],\n",
       "        [ 5., -5.]],\n",
       "\n",
       "       [[-5.,  5.],\n",
       "        [ 5., -5.]],\n",
       "\n",
       "       ...,\n",
       "\n",
       "       [[-5.,  5.],\n",
       "        [ 5., -5.]],\n",
       "\n",
       "       [[-5.,  5.],\n",
       "        [ 5., -5.]],\n",
       "\n",
       "       [[-5.,  5.],\n",
       "        [ 5., -5.]]])"
      ]
     },
     "execution_count": 6,
     "metadata": {},
     "output_type": "execute_result"
    }
   ],
   "source": [
    "pp.position[np.logical_and(pp.block==1,pp.pos_code==-1)]"
   ]
  },
  {
   "cell_type": "code",
   "execution_count": 5,
   "metadata": {},
   "outputs": [
    {
     "data": {
      "text/plain": [
       "array([[[ 5., -5.],\n",
       "        [-5.,  5.]],\n",
       "\n",
       "       [[ 5., -5.],\n",
       "        [-5.,  5.]],\n",
       "\n",
       "       [[ 5., -5.],\n",
       "        [-5.,  5.]],\n",
       "\n",
       "       ...,\n",
       "\n",
       "       [[ 5., -5.],\n",
       "        [-5.,  5.]],\n",
       "\n",
       "       [[ 5., -5.],\n",
       "        [-5.,  5.]],\n",
       "\n",
       "       [[ 5., -5.],\n",
       "        [-5.,  5.]]])"
      ]
     },
     "execution_count": 5,
     "metadata": {},
     "output_type": "execute_result"
    }
   ],
   "source": [
    "pp.position[np.logical_and(pp.block==1,pp.pos_code==1)]"
   ]
  },
  {
   "cell_type": "code",
   "execution_count": 7,
   "metadata": {},
   "outputs": [],
   "source": [
    "mask_in = np.logical_and(pp.block==1,pp.pos_code==1)\n",
    "position = pp.position[mask_in]\n",
    "u_pos = np.unique(position, axis=0)\n",
    "\n",
    "if u_pos.shape[0] > 1:\n",
    "    x_pos, y_pos = np.nan, np.nan\n",
    "else:\n",
    "    x_pos, y_pos = u_pos[0][0][0], u_pos[0][0][1]"
   ]
  },
  {
   "cell_type": "code",
   "execution_count": 8,
   "metadata": {},
   "outputs": [
    {
     "data": {
      "text/plain": [
       "array([[[ 5., -5.],\n",
       "        [-5.,  5.]]])"
      ]
     },
     "execution_count": 8,
     "metadata": {},
     "output_type": "execute_result"
    }
   ],
   "source": [
    "u_pos"
   ]
  },
  {
   "cell_type": "code",
   "execution_count": null,
   "metadata": {},
   "outputs": [],
   "source": []
  }
 ],
 "metadata": {
  "kernelspec": {
   "display_name": "Users-zKW_FhGB",
   "language": "python",
   "name": "python3"
  },
  "language_info": {
   "codemirror_mode": {
    "name": "ipython",
    "version": 3
   },
   "file_extension": ".py",
   "mimetype": "text/x-python",
   "name": "python",
   "nbconvert_exporter": "python",
   "pygments_lexer": "ipython3",
   "version": "3.9.6"
  }
 },
 "nbformat": 4,
 "nbformat_minor": 2
}
