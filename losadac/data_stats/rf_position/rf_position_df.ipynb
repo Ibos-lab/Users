{
 "cells": [
  {
   "cell_type": "code",
   "execution_count": 1,
   "metadata": {},
   "outputs": [],
   "source": [
    "import glob\n",
    "import numpy as np\n",
    "import pandas as pd\n",
    "import os"
   ]
  },
  {
   "cell_type": "code",
   "execution_count": 2,
   "metadata": {},
   "outputs": [],
   "source": [
    "def get_nid_from_plots_paths(path):\n",
    "    plots_path = path + \"*.png\"\n",
    "    path_list = glob.glob(plots_path)\n",
    "    path_list = [os.path.normpath(ipath).split(os.sep)[-1][:-4] for ipath in path_list]\n",
    "    return path_list"
   ]
  },
  {
   "cell_type": "code",
   "execution_count": 3,
   "metadata": {},
   "outputs": [],
   "source": [
    "def get_nid_from_neurons_paths(path):\n",
    "    plots_path = path + \"*.h5\"\n",
    "    path_list = glob.glob(plots_path)\n",
    "    path_list = [os.path.normpath(ipath).split(os.sep)[-1][:-7] for ipath in path_list]\n",
    "    return path_list"
   ]
  },
  {
   "cell_type": "code",
   "execution_count": 4,
   "metadata": {},
   "outputs": [],
   "source": [
    "ipsipaths = {'lip':\"//envau_cifs.intlocal.univ-amu.fr/work/invibe/USERS/IBOS/data/Riesling/TSCM/OpenEphys/activation_index/lip_ipsilateral/\",\n",
    "             'pfc':\"//envau_cifs.intlocal.univ-amu.fr/work/invibe/USERS/IBOS/data/Riesling/TSCM/OpenEphys/activation_index/pfc_ipsilateral/\",\n",
    "             'v4':\"//envau_cifs.intlocal.univ-amu.fr/work/invibe/USERS/IBOS/data/Riesling/TSCM/OpenEphys/activation_index/v4_ipsilateral/\"}\n",
    "allpaths = {'lip':\"//envau_cifs.intlocal.univ-amu.fr/work/invibe/USERS/IBOS/data/Riesling/TSCM/OpenEphys/new_structure/session_struct/lip/neurons/\",\n",
    "            'pfc':\"//envau_cifs.intlocal.univ-amu.fr/work/invibe/USERS/IBOS/data/Riesling/TSCM/OpenEphys/new_structure/session_struct/pfc/neurons/\",\n",
    "            'v4':\"//envau_cifs.intlocal.univ-amu.fr/work/invibe/USERS/IBOS/data/Riesling/TSCM/OpenEphys/new_structure/session_struct/v4/neurons/\"}\n",
    "savepaths = \"//envau_cifs.intlocal.univ-amu.fr/work/invibe/USERS/IBOS/data/Riesling/TSCM/OpenEphys/activation_index/\"\n",
    "areas=['lip','pfc','v4']"
   ]
  },
  {
   "cell_type": "code",
   "execution_count": 5,
   "metadata": {},
   "outputs": [],
   "source": [
    "for area in areas:\n",
    "    ipsi_nid = get_nid_from_plots_paths(ipsipaths[area])\n",
    "    all_nid = get_nid_from_neurons_paths(allpaths[area])\n",
    "    rf_loc = ['ipsi' if inid in ipsi_nid else 'contra' for inid in all_nid]\n",
    "    rf_loc_df = pd.DataFrame({'nid':all_nid,'rf_loc':rf_loc})\n",
    "    rf_loc_df.to_csv(savepaths+'rf_loc_df_'+area+'.csv',index=False)"
   ]
  },
  {
   "cell_type": "code",
   "execution_count": 6,
   "metadata": {},
   "outputs": [
    {
     "data": {
      "text/html": [
       "<div>\n",
       "<style scoped>\n",
       "    .dataframe tbody tr th:only-of-type {\n",
       "        vertical-align: middle;\n",
       "    }\n",
       "\n",
       "    .dataframe tbody tr th {\n",
       "        vertical-align: top;\n",
       "    }\n",
       "\n",
       "    .dataframe thead th {\n",
       "        text-align: right;\n",
       "    }\n",
       "</style>\n",
       "<table border=\"1\" class=\"dataframe\">\n",
       "  <thead>\n",
       "    <tr style=\"text-align: right;\">\n",
       "      <th></th>\n",
       "      <th>nid</th>\n",
       "      <th>rf_loc</th>\n",
       "    </tr>\n",
       "  </thead>\n",
       "  <tbody>\n",
       "    <tr>\n",
       "      <th>0</th>\n",
       "      <td>2022-12-01_10-23-18_Riesling_v4_e1_r1_mua1</td>\n",
       "      <td>contra</td>\n",
       "    </tr>\n",
       "    <tr>\n",
       "      <th>1</th>\n",
       "      <td>2022-12-01_10-23-18_Riesling_v4_e1_r1_mua2</td>\n",
       "      <td>contra</td>\n",
       "    </tr>\n",
       "    <tr>\n",
       "      <th>2</th>\n",
       "      <td>2022-12-01_10-23-18_Riesling_v4_e1_r1_mua3</td>\n",
       "      <td>contra</td>\n",
       "    </tr>\n",
       "    <tr>\n",
       "      <th>3</th>\n",
       "      <td>2022-12-01_10-23-18_Riesling_v4_e1_r1_mua4</td>\n",
       "      <td>contra</td>\n",
       "    </tr>\n",
       "    <tr>\n",
       "      <th>4</th>\n",
       "      <td>2022-12-01_10-23-18_Riesling_v4_e1_r1_mua5</td>\n",
       "      <td>contra</td>\n",
       "    </tr>\n",
       "    <tr>\n",
       "      <th>...</th>\n",
       "      <td>...</td>\n",
       "      <td>...</td>\n",
       "    </tr>\n",
       "    <tr>\n",
       "      <th>2018</th>\n",
       "      <td>2023-11-17_10-48-06_Riesling_v4_e1_r1_mua26</td>\n",
       "      <td>contra</td>\n",
       "    </tr>\n",
       "    <tr>\n",
       "      <th>2019</th>\n",
       "      <td>2023-11-17_10-48-06_Riesling_v4_e1_r1_good4</td>\n",
       "      <td>contra</td>\n",
       "    </tr>\n",
       "    <tr>\n",
       "      <th>2020</th>\n",
       "      <td>2023-11-17_10-48-06_Riesling_v4_e1_r1_mua27</td>\n",
       "      <td>contra</td>\n",
       "    </tr>\n",
       "    <tr>\n",
       "      <th>2021</th>\n",
       "      <td>2023-11-17_10-48-06_Riesling_v4_e1_r1_mua28</td>\n",
       "      <td>contra</td>\n",
       "    </tr>\n",
       "    <tr>\n",
       "      <th>2022</th>\n",
       "      <td>2023-11-17_10-48-06_Riesling_v4_e1_r1_mua29</td>\n",
       "      <td>contra</td>\n",
       "    </tr>\n",
       "  </tbody>\n",
       "</table>\n",
       "<p>2023 rows × 2 columns</p>\n",
       "</div>"
      ],
      "text/plain": [
       "                                              nid  rf_loc\n",
       "0      2022-12-01_10-23-18_Riesling_v4_e1_r1_mua1  contra\n",
       "1      2022-12-01_10-23-18_Riesling_v4_e1_r1_mua2  contra\n",
       "2      2022-12-01_10-23-18_Riesling_v4_e1_r1_mua3  contra\n",
       "3      2022-12-01_10-23-18_Riesling_v4_e1_r1_mua4  contra\n",
       "4      2022-12-01_10-23-18_Riesling_v4_e1_r1_mua5  contra\n",
       "...                                           ...     ...\n",
       "2018  2023-11-17_10-48-06_Riesling_v4_e1_r1_mua26  contra\n",
       "2019  2023-11-17_10-48-06_Riesling_v4_e1_r1_good4  contra\n",
       "2020  2023-11-17_10-48-06_Riesling_v4_e1_r1_mua27  contra\n",
       "2021  2023-11-17_10-48-06_Riesling_v4_e1_r1_mua28  contra\n",
       "2022  2023-11-17_10-48-06_Riesling_v4_e1_r1_mua29  contra\n",
       "\n",
       "[2023 rows x 2 columns]"
      ]
     },
     "execution_count": 6,
     "metadata": {},
     "output_type": "execute_result"
    }
   ],
   "source": [
    "rf_loc_df"
   ]
  },
  {
   "cell_type": "code",
   "execution_count": null,
   "metadata": {},
   "outputs": [],
   "source": []
  }
 ],
 "metadata": {
  "kernelspec": {
   "display_name": "ephys",
   "language": "python",
   "name": "python3"
  },
  "language_info": {
   "codemirror_mode": {
    "name": "ipython",
    "version": 3
   },
   "file_extension": ".py",
   "mimetype": "text/x-python",
   "name": "python",
   "nbconvert_exporter": "python",
   "pygments_lexer": "ipython3",
   "version": "3.13.0"
  }
 },
 "nbformat": 4,
 "nbformat_minor": 2
}
