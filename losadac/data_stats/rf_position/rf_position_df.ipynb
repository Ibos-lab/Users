{
 "cells": [
  {
   "cell_type": "code",
   "execution_count": 1,
   "metadata": {},
   "outputs": [
    {
     "name": "stderr",
     "output_type": "stream",
     "text": [
      "C:\\Users\\camil\\AppData\\Local\\Temp\\ipykernel_2848\\3160805676.py:3: DeprecationWarning: \n",
      "Pyarrow will become a required dependency of pandas in the next major release of pandas (pandas 3.0),\n",
      "(to allow more performant data types, such as the Arrow string type, and better interoperability with other libraries)\n",
      "but was not found to be installed on your system.\n",
      "If this would cause problems for you,\n",
      "please provide us feedback at https://github.com/pandas-dev/pandas/issues/54466\n",
      "        \n",
      "  import pandas as pd\n"
     ]
    }
   ],
   "source": [
    "import glob\n",
    "import numpy as np\n",
    "import pandas as pd\n",
    "import os"
   ]
  },
  {
   "cell_type": "code",
   "execution_count": 2,
   "metadata": {},
   "outputs": [],
   "source": [
    "def get_nid_from_plots_paths(path):\n",
    "    plots_path = path + \"*.png\"\n",
    "    path_list = glob.glob(plots_path)\n",
    "    path_list = [os.path.normpath(ipath).split(os.sep)[-1][:-4] for ipath in path_list]\n",
    "    path_list = [ipath.split('_') for ipath in path_list]\n",
    "    path_list = np.array(path_list)[:,[-1,3,0,1,2]]\n",
    "    path_list[:,1]=np.char.upper(path_list[:,1])\n",
    "    j1 = np.array([''.join(row) for row in path_list[:,:3]])\n",
    "    j2= np.array([''.join(row) for row in path_list[:,3:]])\n",
    "    nid_list =np.array(['_'.join(row) for row in np.array([j1,j2]).T]) \n",
    "    return nid_list"
   ]
  },
  {
   "cell_type": "code",
   "execution_count": 3,
   "metadata": {},
   "outputs": [],
   "source": [
    "def get_nid_from_neurons_paths(path):\n",
    "    plots_path = path + \"*.h5\"\n",
    "    path_list = glob.glob(plots_path)\n",
    "    path_list = [os.path.normpath(ipath).split(os.sep)[-1] for ipath in path_list]\n",
    "    path_list = [ipath.split('_') for ipath in path_list]\n",
    "    path_list = np.array(path_list)[:,[-2,3,0,1,2]]\n",
    "    path_list[:,1]=np.char.upper(path_list[:,1])\n",
    "    j1 = np.array([''.join(row) for row in path_list[:,:3]])\n",
    "    j2= np.array([''.join(row) for row in path_list[:,3:]])\n",
    "    nid_list =np.array(['_'.join(row) for row in np.array([j1,j2]).T]) \n",
    "    return nid_list"
   ]
  },
  {
   "cell_type": "code",
   "execution_count": 4,
   "metadata": {},
   "outputs": [],
   "source": [
    "ipsipaths = {'lip':\"//envau_cifs.intlocal.univ-amu.fr/work/invibe/USERS/IBOS/data/Riesling/TSCM/OpenEphys/activation_index/lip_ipsilateral/\",\n",
    "             'pfc':\"//envau_cifs.intlocal.univ-amu.fr/work/invibe/USERS/IBOS/data/Riesling/TSCM/OpenEphys/activation_index/pfc_ipsilateral/\",\n",
    "             'v4':\"//envau_cifs.intlocal.univ-amu.fr/work/invibe/USERS/IBOS/data/Riesling/TSCM/OpenEphys/activation_index/v4_ipsilateral/\"}\n",
    "allpaths = {'lip':\"//envau_cifs.intlocal.univ-amu.fr/work/invibe/USERS/IBOS/data/Riesling/TSCM/OpenEphys/new_structure/session_struct/lip/neurons/\",\n",
    "            'pfc':\"//envau_cifs.intlocal.univ-amu.fr/work/invibe/USERS/IBOS/data/Riesling/TSCM/OpenEphys/new_structure/session_struct/pfc/neurons/\",\n",
    "            'v4':\"//envau_cifs.intlocal.univ-amu.fr/work/invibe/USERS/IBOS/data/Riesling/TSCM/OpenEphys/new_structure/session_struct/v4/neurons/\"}\n",
    "savepaths = \"//envau_cifs.intlocal.univ-amu.fr/work/invibe/USERS/IBOS/data/Riesling/TSCM/OpenEphys/activation_index/\"\n",
    "areas=['lip','pfc','v4']"
   ]
  },
  {
   "cell_type": "code",
   "execution_count": 5,
   "metadata": {},
   "outputs": [],
   "source": [
    "for area in areas:\n",
    "    ipsi_nid = get_nid_from_plots_paths(ipsipaths[area])\n",
    "    all_nid = get_nid_from_neurons_paths(allpaths[area])\n",
    "    rf_loc = ['ipsi' if inid in ipsi_nid else 'contra' for inid in all_nid]\n",
    "    rf_loc_df = pd.DataFrame({'nid':all_nid,'rf_loc':rf_loc})\n",
    "    rf_loc_df.to_csv(savepaths+'rf_loc_df_'+area+'.csv',index=False)"
   ]
  }
 ],
 "metadata": {
  "kernelspec": {
   "display_name": "Users-zKW_FhGB",
   "language": "python",
   "name": "python3"
  },
  "language_info": {
   "codemirror_mode": {
    "name": "ipython",
    "version": 3
   },
   "file_extension": ".py",
   "mimetype": "text/x-python",
   "name": "python",
   "nbconvert_exporter": "python",
   "pygments_lexer": "ipython3",
   "version": "3.9.6"
  }
 },
 "nbformat": 4,
 "nbformat_minor": 2
}
