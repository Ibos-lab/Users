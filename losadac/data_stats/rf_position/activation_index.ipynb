{
 "cells": [
  {
   "cell_type": "markdown",
   "metadata": {},
   "source": [
    "* 1st: compute position selectivity"
   ]
  },
  {
   "cell_type": "code",
   "execution_count": 1,
   "metadata": {},
   "outputs": [],
   "source": [
    "import glob\n",
    "import numpy as np\n",
    "from typing import Dict, List\n",
    "from ephysvibe.structures.neuron_data import NeuronData\n",
    "from ephysvibe.trials.spikes import firing_rate\n",
    "from ephysvibe.structures.population_data import PopulationData\n",
    "from ephysvibe.trials import select_trials\n",
    "import pandas as pd\n",
    "from joblib import Parallel, delayed\n",
    "from tqdm import tqdm\n",
    "from ephysvibe.stats import smetrics\n",
    "import os"
   ]
  },
  {
   "cell_type": "code",
   "execution_count": 2,
   "metadata": {},
   "outputs": [],
   "source": [
    "def get_selectivity_info(neu: NeuronData):\n",
    "    win = 100\n",
    "    res = {}\n",
    "    res[\"nid\"] = neu.get_neuron_id()\n",
    "    samples = [11, 15, 51, 55, 0]\n",
    "\n",
    "    inout_fr = []\n",
    "    for inout in [\"in\", \"out\"]:\n",
    "        mask = getattr(neu, \"mask_\" + inout)\n",
    "        sp = getattr(neu, \"sample_on_\" + inout)\n",
    "\n",
    "        fr = firing_rate.moving_average(data=sp, win=100, step=1)[:, :-win]  #\n",
    "        sample_id = neu.sample_id[mask]\n",
    "        fr_samples = select_trials.get_sp_by_sample(fr, sample_id, samples)\n",
    "\n",
    "        sample = np.concatenate(\n",
    "            (fr_samples[\"11\"], fr_samples[\"15\"], fr_samples[\"51\"], fr_samples[\"55\"],fr_samples[\"0\"])\n",
    "        )\n",
    "        inout_fr.append(sample)\n",
    "\n",
    "    pos_lat, pos_score, pos_p = smetrics.get_selectivity(\n",
    "        inout_fr[0], inout_fr[1], win=75, scores=True\n",
    "    )\n",
    "    pos_selec = (\n",
    "        np.nan\n",
    "        if np.isnan(pos_lat)\n",
    "        else \"in\" if pos_score[pos_lat] > 0 else \"out\"\n",
    "    )\n",
    "\n",
    "\n",
    "    res[\"pos_lat\"] = pos_lat\n",
    "    res[\"pos_selec\"] = pos_selec\n",
    "    res[\"pos_score\"] = pos_score\n",
    "    res[\"pos_p\"] = pos_p\n",
    "\n",
    "    return res\n"
   ]
  },
  {
   "cell_type": "code",
   "execution_count": 3,
   "metadata": {},
   "outputs": [],
   "source": [
    "def get_neu_align(path, params, sp_sample=False):\n",
    "\n",
    "    neu = NeuronData.from_python_hdf5(path)\n",
    "    for it in params:\n",
    "        sp, mask = neu.align_on(\n",
    "            select_block=it[\"select_block\"],\n",
    "            select_pos=it[\"inout\"],\n",
    "            event=it[\"event\"],\n",
    "            time_before=it[\"time_before\"],\n",
    "            error_type=0,\n",
    "        )\n",
    "        endt = it[\"time_before\"] + it[\"end\"]\n",
    "        stt = it[\"time_before\"] + it[\"st\"]\n",
    "        setattr(neu, it[\"sp\"], np.array(sp[:, :endt], dtype=it[\"dtype_sp\"]))\n",
    "        setattr(neu, it[\"mask\"], np.array(mask, dtype=it[\"dtype_mask\"]))\n",
    "        setattr(neu, \"st_\" + it[\"event\"] + \"_\" + it[\"inout\"], np.array(stt, dtype=int))\n",
    "        setattr(\n",
    "            neu,\n",
    "            \"time_before_\" + it[\"event\"] + \"_\" + it[\"inout\"],\n",
    "            np.array(it[\"time_before\"], dtype=int),\n",
    "        )\n",
    "\n",
    "    if ~sp_sample:\n",
    "        setattr(neu, \"sp_samples\", np.array([]))\n",
    "\n",
    "    return neu"
   ]
  },
  {
   "cell_type": "code",
   "execution_count": 5,
   "metadata": {},
   "outputs": [
    {
     "name": "stdout",
     "output_type": "stream",
     "text": [
      "lip\n"
     ]
    },
    {
     "name": "stderr",
     "output_type": "stream",
     "text": [
      "  0%|          | 0/530 [00:00<?, ?it/s]"
     ]
    },
    {
     "name": "stderr",
     "output_type": "stream",
     "text": [
      "100%|██████████| 530/530 [11:46<00:00,  1.33s/it]\n"
     ]
    },
    {
     "name": "stdout",
     "output_type": "stream",
     "text": [
      "Saving population.h5\n"
     ]
    },
    {
     "ename": "FileNotFoundError",
     "evalue": "[Errno 2] Unable to synchronously create file (unable to open file: name = '/envau/work/invibe/USERS/IBOS/data/Riesling/TSCM/OpenEphys/activation_index/population_selectivity_lip.h5', errno = 2, error message = 'No such file or directory', flags = 13, o_flags = 242)",
     "output_type": "error",
     "traceback": [
      "\u001b[0;31m---------------------------------------------------------------------------\u001b[0m",
      "\u001b[0;31mFileNotFoundError\u001b[0m                         Traceback (most recent call last)",
      "Cell \u001b[0;32mIn[5], line 57\u001b[0m\n\u001b[1;32m     55\u001b[0m     population \u001b[38;5;241m=\u001b[39m PopulationData(population_list, comment\u001b[38;5;241m=\u001b[39mcomment)\n\u001b[1;32m     56\u001b[0m     \u001b[38;5;28mprint\u001b[39m(\u001b[38;5;124m\"\u001b[39m\u001b[38;5;124mSaving population.h5\u001b[39m\u001b[38;5;124m\"\u001b[39m)\n\u001b[0;32m---> 57\u001b[0m     \u001b[43mpopulation\u001b[49m\u001b[38;5;241;43m.\u001b[39;49m\u001b[43mto_python_hdf5\u001b[49m\u001b[43m(\u001b[49m\u001b[43msavepath\u001b[49m\u001b[43m \u001b[49m\u001b[38;5;241;43m+\u001b[39;49m\u001b[43m \u001b[49m\u001b[38;5;124;43m\"\u001b[39;49m\u001b[38;5;124;43mpopulation_selectivity_\u001b[39;49m\u001b[38;5;124;43m\"\u001b[39;49m\u001b[43m \u001b[49m\u001b[38;5;241;43m+\u001b[39;49m\u001b[43m \u001b[49m\u001b[43marea\u001b[49m\u001b[43m \u001b[49m\u001b[38;5;241;43m+\u001b[39;49m\u001b[43m \u001b[49m\u001b[38;5;124;43m\"\u001b[39;49m\u001b[38;5;124;43m.h5\u001b[39;49m\u001b[38;5;124;43m\"\u001b[39;49m\u001b[43m)\u001b[49m\n\u001b[1;32m     58\u001b[0m     population \u001b[38;5;241m=\u001b[39m PopulationData\u001b[38;5;241m.\u001b[39mfrom_python_hdf5(\n\u001b[1;32m     59\u001b[0m         savepath \u001b[38;5;241m+\u001b[39m \u001b[38;5;124m\"\u001b[39m\u001b[38;5;124mpopulation_selectivity_\u001b[39m\u001b[38;5;124m\"\u001b[39m \u001b[38;5;241m+\u001b[39m area \u001b[38;5;241m+\u001b[39m \u001b[38;5;124m\"\u001b[39m\u001b[38;5;124m.h5\u001b[39m\u001b[38;5;124m\"\u001b[39m\n\u001b[1;32m     60\u001b[0m     )\n\u001b[1;32m     61\u001b[0m \u001b[38;5;28;01melse\u001b[39;00m:\n",
      "File \u001b[0;32m~/Documents/codes/EphysVibe/ephysvibe/structures/population_data.py:117\u001b[0m, in \u001b[0;36mPopulationData.to_python_hdf5\u001b[0;34m(self, save_path)\u001b[0m\n\u001b[1;32m    114\u001b[0m \u001b[38;5;250m\u001b[39m\u001b[38;5;124;03m\"\"\"Save data in hdf5 format.\"\"\"\u001b[39;00m\n\u001b[1;32m    115\u001b[0m \u001b[38;5;66;03m# Cast data\u001b[39;00m\n\u001b[1;32m    116\u001b[0m \u001b[38;5;66;03m# save the data\u001b[39;00m\n\u001b[0;32m--> 117\u001b[0m \u001b[38;5;28;01mwith\u001b[39;00m \u001b[43mh5py\u001b[49m\u001b[38;5;241;43m.\u001b[39;49m\u001b[43mFile\u001b[49m\u001b[43m(\u001b[49m\u001b[43msave_path\u001b[49m\u001b[43m,\u001b[49m\u001b[43m \u001b[49m\u001b[38;5;124;43m\"\u001b[39;49m\u001b[38;5;124;43mw\u001b[39;49m\u001b[38;5;124;43m\"\u001b[39;49m\u001b[43m)\u001b[49m \u001b[38;5;28;01mas\u001b[39;00m f:\n\u001b[1;32m    118\u001b[0m     group \u001b[38;5;241m=\u001b[39m f\u001b[38;5;241m.\u001b[39mcreate_group(\u001b[38;5;124m\"\u001b[39m\u001b[38;5;124m0\u001b[39m\u001b[38;5;124m\"\u001b[39m)\n\u001b[1;32m    119\u001b[0m     group\u001b[38;5;241m.\u001b[39mattrs[\u001b[38;5;124m\"\u001b[39m\u001b[38;5;124mcomment\u001b[39m\u001b[38;5;124m\"\u001b[39m] \u001b[38;5;241m=\u001b[39m \u001b[38;5;28mself\u001b[39m\u001b[38;5;241m.\u001b[39mcomment\n",
      "File \u001b[0;32m~/.local/share/virtualenvs/Users-2Kpmrf9_/lib/python3.9/site-packages/h5py/_hl/files.py:562\u001b[0m, in \u001b[0;36mFile.__init__\u001b[0;34m(self, name, mode, driver, libver, userblock_size, swmr, rdcc_nslots, rdcc_nbytes, rdcc_w0, track_order, fs_strategy, fs_persist, fs_threshold, fs_page_size, page_buf_size, min_meta_keep, min_raw_keep, locking, alignment_threshold, alignment_interval, meta_block_size, **kwds)\u001b[0m\n\u001b[1;32m    553\u001b[0m     fapl \u001b[38;5;241m=\u001b[39m make_fapl(driver, libver, rdcc_nslots, rdcc_nbytes, rdcc_w0,\n\u001b[1;32m    554\u001b[0m                      locking, page_buf_size, min_meta_keep, min_raw_keep,\n\u001b[1;32m    555\u001b[0m                      alignment_threshold\u001b[38;5;241m=\u001b[39malignment_threshold,\n\u001b[1;32m    556\u001b[0m                      alignment_interval\u001b[38;5;241m=\u001b[39malignment_interval,\n\u001b[1;32m    557\u001b[0m                      meta_block_size\u001b[38;5;241m=\u001b[39mmeta_block_size,\n\u001b[1;32m    558\u001b[0m                      \u001b[38;5;241m*\u001b[39m\u001b[38;5;241m*\u001b[39mkwds)\n\u001b[1;32m    559\u001b[0m     fcpl \u001b[38;5;241m=\u001b[39m make_fcpl(track_order\u001b[38;5;241m=\u001b[39mtrack_order, fs_strategy\u001b[38;5;241m=\u001b[39mfs_strategy,\n\u001b[1;32m    560\u001b[0m                      fs_persist\u001b[38;5;241m=\u001b[39mfs_persist, fs_threshold\u001b[38;5;241m=\u001b[39mfs_threshold,\n\u001b[1;32m    561\u001b[0m                      fs_page_size\u001b[38;5;241m=\u001b[39mfs_page_size)\n\u001b[0;32m--> 562\u001b[0m     fid \u001b[38;5;241m=\u001b[39m \u001b[43mmake_fid\u001b[49m\u001b[43m(\u001b[49m\u001b[43mname\u001b[49m\u001b[43m,\u001b[49m\u001b[43m \u001b[49m\u001b[43mmode\u001b[49m\u001b[43m,\u001b[49m\u001b[43m \u001b[49m\u001b[43muserblock_size\u001b[49m\u001b[43m,\u001b[49m\u001b[43m \u001b[49m\u001b[43mfapl\u001b[49m\u001b[43m,\u001b[49m\u001b[43m \u001b[49m\u001b[43mfcpl\u001b[49m\u001b[43m,\u001b[49m\u001b[43m \u001b[49m\u001b[43mswmr\u001b[49m\u001b[38;5;241;43m=\u001b[39;49m\u001b[43mswmr\u001b[49m\u001b[43m)\u001b[49m\n\u001b[1;32m    564\u001b[0m \u001b[38;5;28;01mif\u001b[39;00m \u001b[38;5;28misinstance\u001b[39m(libver, \u001b[38;5;28mtuple\u001b[39m):\n\u001b[1;32m    565\u001b[0m     \u001b[38;5;28mself\u001b[39m\u001b[38;5;241m.\u001b[39m_libver \u001b[38;5;241m=\u001b[39m libver\n",
      "File \u001b[0;32m~/.local/share/virtualenvs/Users-2Kpmrf9_/lib/python3.9/site-packages/h5py/_hl/files.py:241\u001b[0m, in \u001b[0;36mmake_fid\u001b[0;34m(name, mode, userblock_size, fapl, fcpl, swmr)\u001b[0m\n\u001b[1;32m    239\u001b[0m     fid \u001b[38;5;241m=\u001b[39m h5f\u001b[38;5;241m.\u001b[39mcreate(name, h5f\u001b[38;5;241m.\u001b[39mACC_EXCL, fapl\u001b[38;5;241m=\u001b[39mfapl, fcpl\u001b[38;5;241m=\u001b[39mfcpl)\n\u001b[1;32m    240\u001b[0m \u001b[38;5;28;01melif\u001b[39;00m mode \u001b[38;5;241m==\u001b[39m \u001b[38;5;124m'\u001b[39m\u001b[38;5;124mw\u001b[39m\u001b[38;5;124m'\u001b[39m:\n\u001b[0;32m--> 241\u001b[0m     fid \u001b[38;5;241m=\u001b[39m \u001b[43mh5f\u001b[49m\u001b[38;5;241;43m.\u001b[39;49m\u001b[43mcreate\u001b[49m\u001b[43m(\u001b[49m\u001b[43mname\u001b[49m\u001b[43m,\u001b[49m\u001b[43m \u001b[49m\u001b[43mh5f\u001b[49m\u001b[38;5;241;43m.\u001b[39;49m\u001b[43mACC_TRUNC\u001b[49m\u001b[43m,\u001b[49m\u001b[43m \u001b[49m\u001b[43mfapl\u001b[49m\u001b[38;5;241;43m=\u001b[39;49m\u001b[43mfapl\u001b[49m\u001b[43m,\u001b[49m\u001b[43m \u001b[49m\u001b[43mfcpl\u001b[49m\u001b[38;5;241;43m=\u001b[39;49m\u001b[43mfcpl\u001b[49m\u001b[43m)\u001b[49m\n\u001b[1;32m    242\u001b[0m \u001b[38;5;28;01melif\u001b[39;00m mode \u001b[38;5;241m==\u001b[39m \u001b[38;5;124m'\u001b[39m\u001b[38;5;124ma\u001b[39m\u001b[38;5;124m'\u001b[39m:\n\u001b[1;32m    243\u001b[0m     \u001b[38;5;66;03m# Open in append mode (read/write).\u001b[39;00m\n\u001b[1;32m    244\u001b[0m     \u001b[38;5;66;03m# If that fails, create a new file only if it won't clobber an\u001b[39;00m\n\u001b[1;32m    245\u001b[0m     \u001b[38;5;66;03m# existing one (ACC_EXCL)\u001b[39;00m\n\u001b[1;32m    246\u001b[0m     \u001b[38;5;28;01mtry\u001b[39;00m:\n",
      "File \u001b[0;32mh5py/_objects.pyx:54\u001b[0m, in \u001b[0;36mh5py._objects.with_phil.wrapper\u001b[0;34m()\u001b[0m\n",
      "File \u001b[0;32mh5py/_objects.pyx:55\u001b[0m, in \u001b[0;36mh5py._objects.with_phil.wrapper\u001b[0;34m()\u001b[0m\n",
      "File \u001b[0;32mh5py/h5f.pyx:122\u001b[0m, in \u001b[0;36mh5py.h5f.create\u001b[0;34m()\u001b[0m\n",
      "\u001b[0;31mFileNotFoundError\u001b[0m: [Errno 2] Unable to synchronously create file (unable to open file: name = '/envau/work/invibe/USERS/IBOS/data/Riesling/TSCM/OpenEphys/activation_index/population_selectivity_lip.h5', errno = 2, error message = 'No such file or directory', flags = 13, o_flags = 242)"
     ]
    }
   ],
   "source": [
    "# Define parameters\n",
    "areas = [\"lip\"]\n",
    "subject = \"Riesling\"\n",
    "# paths\n",
    "filepaths = {\n",
    "    \"lip\": \"/envau/work/invibe/USERS/IBOS/data/Riesling/TSCM/OpenEphys/new_structure/session_struct/lip/neurons/\",\n",
    "    \"pfc\": \"/envau/work/invibe/USERS/IBOS/data/Riesling/TSCM/OpenEphys/new_structure/session_struct/pfc/neurons/\",\n",
    "    \"v4\": \"/envau/work/invibe/USERS/IBOS/data/Riesling/TSCM/OpenEphys/new_structure/session_struct/v4/neurons/\",\n",
    "}\n",
    "savepath = \"/envau/work/invibe/USERS/IBOS/data/Riesling/TSCM/OpenEphys/activation_index/\"\n",
    "popu_path = {\n",
    "    # \"lip\": \"/envau/work/invibe/USERS/IBOS/data/Riesling/TSCM/OpenEphys/selectivity/population_selectivity_lip.h5\",\n",
    "    # \"pfc\": \"/envau/work/invibe/USERS/IBOS/data/Riesling/TSCM/OpenEphys/selectivity/population_selectivity_pfc.h5\",\n",
    "    # \"v4\": \"/envau/work/invibe/USERS/IBOS/data/Riesling/TSCM/OpenEphys/selectivity/population_selectivity_v4.h5\",\n",
    "}\n",
    "for area in areas:\n",
    "    print(area)\n",
    "    if not bool(popu_path):\n",
    "        path = filepaths[area]\n",
    "        neu_path = path + \"*neu.h5\"\n",
    "        path_list = glob.glob(neu_path)\n",
    "\n",
    "        params = [\n",
    "            {\n",
    "                \"inout\": \"in\",\n",
    "                \"sp\": \"sample_on_in\",\n",
    "                \"mask\": \"mask_in\",\n",
    "                \"event\": \"sample_on\",\n",
    "                \"time_before\": 300,\n",
    "                \"st\": 0,\n",
    "                \"end\": 1550,\n",
    "                \"select_block\": 1,\n",
    "                \"win\": 100,\n",
    "                \"dtype_sp\": np.int8,\n",
    "                \"dtype_mask\": bool,\n",
    "            },\n",
    "            {\n",
    "                \"inout\": \"out\",\n",
    "                \"sp\": \"sample_on_out\",\n",
    "                \"mask\": \"mask_out\",\n",
    "                \"event\": \"sample_on\",\n",
    "                \"time_before\": 300,\n",
    "                \"st\": 0,\n",
    "                \"end\": 1550,\n",
    "                \"select_block\": 1,\n",
    "                \"win\": 100,\n",
    "                \"dtype_sp\": np.int8,\n",
    "                \"dtype_mask\": bool,\n",
    "            },\n",
    "        ]\n",
    "        population_list = Parallel(n_jobs=-1)(\n",
    "            delayed(get_neu_align)(neu, params) for neu in tqdm(path_list)\n",
    "        )\n",
    "        comment = str(params)\n",
    "        population = PopulationData(population_list, comment=comment)\n",
    "        print(\"Saving population.h5\")\n",
    "        population.to_python_hdf5(savepath + \"population_selectivity_\" + area + \".h5\")\n",
    "        population = PopulationData.from_python_hdf5(\n",
    "            savepath + \"population_selectivity_\" + area + \".h5\"\n",
    "        )\n",
    "    else:\n",
    "        print(\"Reading population data\")\n",
    "        population = PopulationData.from_python_hdf5(popu_path[area])\n",
    "    print(\"Computing selectivity\")\n",
    "    df_selectivity = population.execute_function(\n",
    "        get_selectivity_info, n_jobs=-1, ret_df=True\n",
    "    )\n",
    "\n",
    "    df_selectivity.to_pickle(savepath + \"population_selectivity_\" + area + \".pkl\")"
   ]
  },
  {
   "cell_type": "code",
   "execution_count": 7,
   "metadata": {},
   "outputs": [],
   "source": [
    "population.to_python_hdf5(savepath + \"population_selectivity_\" + area + \".h5\")\n",
    "population = PopulationData.from_python_hdf5(\n",
    "    savepath + \"population_selectivity_\" + area + \".h5\"\n",
    ")"
   ]
  },
  {
   "cell_type": "code",
   "execution_count": null,
   "metadata": {},
   "outputs": [],
   "source": []
  },
  {
   "cell_type": "code",
   "execution_count": null,
   "metadata": {},
   "outputs": [],
   "source": []
  },
  {
   "cell_type": "code",
   "execution_count": null,
   "metadata": {},
   "outputs": [],
   "source": []
  },
  {
   "cell_type": "code",
   "execution_count": null,
   "metadata": {},
   "outputs": [],
   "source": []
  },
  {
   "cell_type": "code",
   "execution_count": null,
   "metadata": {},
   "outputs": [],
   "source": []
  },
  {
   "cell_type": "code",
   "execution_count": null,
   "metadata": {},
   "outputs": [],
   "source": []
  },
  {
   "cell_type": "code",
   "execution_count": null,
   "metadata": {},
   "outputs": [],
   "source": []
  }
 ],
 "metadata": {
  "kernelspec": {
   "display_name": "Users-2Kpmrf9_",
   "language": "python",
   "name": "python3"
  },
  "language_info": {
   "codemirror_mode": {
    "name": "ipython",
    "version": 3
   },
   "file_extension": ".py",
   "mimetype": "text/x-python",
   "name": "python",
   "nbconvert_exporter": "python",
   "pygments_lexer": "ipython3",
   "version": "3.9.18"
  }
 },
 "nbformat": 4,
 "nbformat_minor": 2
}
