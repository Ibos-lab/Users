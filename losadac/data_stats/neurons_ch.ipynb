{
 "cells": [
  {
   "cell_type": "code",
   "execution_count": 1,
   "metadata": {},
   "outputs": [],
   "source": [
    "import numpy as np\n",
    "import pandas as pd\n",
    "from matplotlib import pyplot as plt\n",
    "import seaborn as sns\n",
    "from scipy import signal,stats\n",
    "from ephysvibe.trials.spikes import firing_rate\n",
    "from ephysvibe.trials import select_trials,align_trials\n",
    "from ephysvibe.spike_sorting import config\n",
    "from ephysvibe.task import def_task,task_constants\n",
    "from collections import defaultdict\n",
    "from typing import Dict\n",
    "import logging\n",
    "from scipy import fft,signal\n",
    "import os\n",
    "from sklearn.model_selection import train_test_split, GridSearchCV,KFold,cross_val_score,StratifiedKFold\n",
    "from sklearn.svm import SVC,LinearSVC\n",
    "from sklearn.preprocessing import LabelEncoder, StandardScaler, MinMaxScaler\n",
    "from sklearn import metrics\n",
    "from multiprocessing import Pool\n",
    "from ephysvibe.structures.spike_data import SpikeData\n",
    "from ephysvibe.structures.bhv_data import BhvData\n",
    "from ephysvibe.structures.neuron_data import NeuronData\n",
    "#from ephysvibe.structures.eye_data import EyeData\n",
    "import pandas as pd\n",
    "import platform\n",
    "#from ephysvibe.structures.lfp_data import LfpData\n",
    "from ephysvibe.spike_sorting import config\n",
    "import h5py\n",
    "import glob"
   ]
  },
  {
   "cell_type": "code",
   "execution_count": 2,
   "metadata": {},
   "outputs": [],
   "source": [
    "if platform.system() == 'Linux':\n",
    "    basepath = '/envau/work/invibe/USERS/IBOS/data/Riesling/TSCM/OpenEphys/new_structure/'\n",
    "elif platform.system() == 'Windows':\n",
    "    basepath = 'C:/Users/camil/Documents/int/'"
   ]
  },
  {
   "cell_type": "code",
   "execution_count": 17,
   "metadata": {},
   "outputs": [],
   "source": [
    "areas=['lip','v4','pfc']\n",
    "info = {'lip':{},'v4':{},'pfc':{}}\n",
    "for area in areas:\n",
    "    neu_path = basepath+'session_struct/'+area+'/neurons/*neu.h5'\n",
    "    path_list = glob.glob(neu_path)\n",
    "    info[area]['paths']=path_list\n",
    "    pp = []\n",
    "    for path in path_list:\n",
    "        pp.append(path.rsplit('/')[-1].rsplit('_Riesling')[0])\n",
    "    info[area]['sessions']=np.unique(pp).tolist()"
   ]
  },
  {
   "cell_type": "code",
   "execution_count": 21,
   "metadata": {},
   "outputs": [
    {
     "data": {
      "text/plain": [
       "0"
      ]
     },
     "execution_count": 21,
     "metadata": {},
     "output_type": "execute_result"
    }
   ],
   "source": [
    "np.sum(np.in1d(info[area]['paths'],info[area]['sessions'][0]))"
   ]
  },
  {
   "cell_type": "code",
   "execution_count": null,
   "metadata": {},
   "outputs": [],
   "source": []
  }
 ],
 "metadata": {
  "kernelspec": {
   "display_name": "Users-2Kpmrf9_",
   "language": "python",
   "name": "python3"
  },
  "language_info": {
   "codemirror_mode": {
    "name": "ipython",
    "version": 3
   },
   "file_extension": ".py",
   "mimetype": "text/x-python",
   "name": "python",
   "nbconvert_exporter": "python",
   "pygments_lexer": "ipython3",
   "version": "3.9.18"
  }
 },
 "nbformat": 4,
 "nbformat_minor": 2
}
