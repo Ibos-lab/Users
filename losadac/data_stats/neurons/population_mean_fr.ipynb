{
 "cells": [
  {
   "cell_type": "code",
   "execution_count": 1,
   "metadata": {},
   "outputs": [],
   "source": [
    "# Pipeline for preprocessing data for pca analysis\n",
    "from preproc_tools import get_neuron_sample_test_fr, to_python_hdf5\n",
    "import glob\n",
    "import os\n",
    "import numpy as np\n",
    "from joblib import Parallel, delayed\n",
    "from tqdm import tqdm\n",
    "from datetime import datetime\n",
    "import json\n",
    "from pathlib import Path\n",
    "import h5py\n",
    "from sklearn.decomposition import PCA\n",
    "from sklearn.preprocessing import StandardScaler\n",
    "from scipy.spatial.distance import pdist\n",
    "from ephysvibe.stats import smetrics\n",
    "import matplotlib.pyplot as plt"
   ]
  },
  {
   "cell_type": "code",
   "execution_count": 2,
   "metadata": {},
   "outputs": [],
   "source": [
    "def from_python_hdf5(load_path: Path):\n",
    "    \"\"\"Load data from a file in hdf5 format from Python.\"\"\"\n",
    "    with h5py.File(load_path, \"r\") as f:\n",
    "        data = []\n",
    "        for i_g in f.keys():\n",
    "            group = f[i_g]\n",
    "            dataset={}\n",
    "            for key, value in zip(group.keys(), group.values()):\n",
    "                dataset[key] = np.array(value)\n",
    "            data.append(dataset)\n",
    "    f.close()\n",
    "    return data"
   ]
  },
  {
   "cell_type": "code",
   "execution_count": 3,
   "metadata": {},
   "outputs": [],
   "source": [
    "# Define parameters\n",
    "areas = [\"pfc\",\"v4\"]\n",
    "subject = \"Riesling\"\n",
    "avgwin = 100\n",
    "min_sp_sec = 1\n",
    "n_test = 1\n",
    "min_trials = 0\n",
    "nonmatch = True  # if True: includes nonmatch trials\n",
    "norm = False\n",
    "zscore = True\n",
    "# sample timing\n",
    "time_before_sample = 500\n",
    "start_sample = -200\n",
    "end_sample = 450 + 400\n",
    "\n",
    "# test timing\n",
    "time_before_test = 500\n",
    "start_test = -400\n",
    "end_test = n_test * 450 + 200\n",
    "# paths\n",
    "filepaths = {\n",
    "    \"lip\": \"/envau/work/invibe/USERS/IBOS/data/Riesling/TSCM/OpenEphys/new_structure/session_struct/lip/neurons/\",\n",
    "    \"pfc\": \"/envau/work/invibe/USERS/IBOS/data/Riesling/TSCM/OpenEphys/new_structure/session_struct/pfc/neurons/\",\n",
    "    \"v4\": \"/envau/work/invibe/USERS/IBOS/data/Riesling/TSCM/OpenEphys/new_structure/session_struct/v4/neurons/\",\n",
    "}\n",
    "# Compute idxs\n",
    "idx_start_sample = time_before_sample + start_sample\n",
    "idx_end_sample = time_before_sample + end_sample\n",
    "idx_start_test = time_before_test + start_test\n",
    "idx_end_test = time_before_test + end_test\n",
    "# total trial duration\n",
    "trial_dur = end_sample - start_sample + end_test - start_test"
   ]
  },
  {
   "cell_type": "code",
   "execution_count": 4,
   "metadata": {},
   "outputs": [
    {
     "name": "stderr",
     "output_type": "stream",
     "text": [
      "0it [00:00, ?it/s]\n",
      "0it [00:00, ?it/s]\n"
     ]
    }
   ],
   "source": [
    "res = {\"lip\": {}, \"v4\": {}, \"pfc\": {}}\n",
    "for area in areas:\n",
    "    path = filepaths[area]\n",
    "    neu_path = path + \"*neu.h5\"\n",
    "    path_list = glob.glob(neu_path)\n",
    "    data = Parallel(n_jobs=-1)(\n",
    "        delayed(get_neuron_sample_test_fr)(\n",
    "            path=path,\n",
    "            time_before_sample=time_before_sample,\n",
    "            time_before_test=time_before_test,\n",
    "            idx_start_sample=idx_start_sample,\n",
    "            idx_end_sample=idx_end_sample,\n",
    "            idx_start_test=idx_start_test,\n",
    "            idx_end_test=idx_end_test,\n",
    "            n_test=n_test,\n",
    "            min_trials=min_trials,\n",
    "            min_neu=False,\n",
    "            nonmatch=nonmatch,\n",
    "            avgwin=avgwin,\n",
    "            n_sp_sec=min_sp_sec,\n",
    "            norm=norm,\n",
    "            zscore=zscore,\n",
    "            code=1,\n",
    "        )\n",
    "        for path in tqdm(path_list)\n",
    "    )\n",
    "\n",
    "    s0mean, s11mean, s15mean, s51mean, s55mean = [], [], [], [], []\n",
    "    for asc in data:\n",
    "        fr = asc[\"fr\"]\n",
    "        if fr is not None:\n",
    "            if np.all(np.isnan(fr[\"0\"])):\n",
    "                meanfr0 = np.full((fr[\"11\"].shape[1]),np.nan)\n",
    "            else:\n",
    "                meanfr0 = np.mean(fr[\"0\"], axis=0)\n",
    "            meanfr11 = np.mean(fr[\"11\"], axis=0)\n",
    "            meanfr15 = np.mean(fr[\"15\"], axis=0)\n",
    "            meanfr51 = np.mean(fr[\"51\"], axis=0)\n",
    "            meanfr55 = np.mean(fr[\"55\"], axis=0)\n",
    "            s0mean.append(meanfr0)\n",
    "            s11mean.append(meanfr11)\n",
    "            s15mean.append(meanfr15)\n",
    "            s51mean.append(meanfr51)\n",
    "            s55mean.append(meanfr55)\n",
    "\n",
    "    neufr = {\n",
    "        \"0mean\": s0mean,\n",
    "        \"11mean\": s11mean,\n",
    "        \"15mean\": s15mean,\n",
    "        \"51mean\": s51mean,\n",
    "        \"55mean\": s55mean\n",
    "    }\n",
    "    to_python_hdf5(dat=[neufr], save_path='./' + area + \"_population_mean_fr_in.h5\")"
   ]
  },
  {
   "cell_type": "code",
   "execution_count": null,
   "metadata": {},
   "outputs": [],
   "source": []
  },
  {
   "cell_type": "code",
   "execution_count": 5,
   "metadata": {},
   "outputs": [
    {
     "ename": "FileNotFoundError",
     "evalue": "[Errno 2] Unable to synchronously open file (unable to open file: name = './v4_population_mean_fr_out.h5', errno = 2, error message = 'No such file or directory', flags = 0, o_flags = 0)",
     "output_type": "error",
     "traceback": [
      "\u001b[0;31m---------------------------------------------------------------------------\u001b[0m",
      "\u001b[0;31mFileNotFoundError\u001b[0m                         Traceback (most recent call last)",
      "Cell \u001b[0;32mIn[5], line 1\u001b[0m\n\u001b[0;32m----> 1\u001b[0m neufr\u001b[38;5;241m=\u001b[39m\u001b[43mfrom_python_hdf5\u001b[49m\u001b[43m(\u001b[49m\u001b[38;5;124;43m'\u001b[39;49m\u001b[38;5;124;43m./\u001b[39;49m\u001b[38;5;124;43m'\u001b[39;49m\u001b[43m \u001b[49m\u001b[38;5;241;43m+\u001b[39;49m\u001b[43m \u001b[49m\u001b[43marea\u001b[49m\u001b[43m \u001b[49m\u001b[38;5;241;43m+\u001b[39;49m\u001b[43m \u001b[49m\u001b[38;5;124;43m\"\u001b[39;49m\u001b[38;5;124;43m_population_mean_fr_out.h5\u001b[39;49m\u001b[38;5;124;43m\"\u001b[39;49m\u001b[43m)\u001b[49m[\u001b[38;5;241m0\u001b[39m]\n\u001b[1;32m      2\u001b[0m plt\u001b[38;5;241m.\u001b[39mplot(np\u001b[38;5;241m.\u001b[39mnanmean(np\u001b[38;5;241m.\u001b[39marray(neufr[\u001b[38;5;124m'\u001b[39m\u001b[38;5;124m0mean\u001b[39m\u001b[38;5;124m'\u001b[39m]),axis\u001b[38;5;241m=\u001b[39m\u001b[38;5;241m0\u001b[39m))\n\u001b[1;32m      3\u001b[0m plt\u001b[38;5;241m.\u001b[39mplot(np\u001b[38;5;241m.\u001b[39mnanmean(np\u001b[38;5;241m.\u001b[39marray(neufr[\u001b[38;5;124m'\u001b[39m\u001b[38;5;124m11mean\u001b[39m\u001b[38;5;124m'\u001b[39m]),axis\u001b[38;5;241m=\u001b[39m\u001b[38;5;241m0\u001b[39m))\n",
      "Cell \u001b[0;32mIn[2], line 3\u001b[0m, in \u001b[0;36mfrom_python_hdf5\u001b[0;34m(load_path)\u001b[0m\n\u001b[1;32m      1\u001b[0m \u001b[38;5;28;01mdef\u001b[39;00m \u001b[38;5;21mfrom_python_hdf5\u001b[39m(load_path: Path):\n\u001b[1;32m      2\u001b[0m \u001b[38;5;250m    \u001b[39m\u001b[38;5;124;03m\"\"\"Load data from a file in hdf5 format from Python.\"\"\"\u001b[39;00m\n\u001b[0;32m----> 3\u001b[0m     \u001b[38;5;28;01mwith\u001b[39;00m \u001b[43mh5py\u001b[49m\u001b[38;5;241;43m.\u001b[39;49m\u001b[43mFile\u001b[49m\u001b[43m(\u001b[49m\u001b[43mload_path\u001b[49m\u001b[43m,\u001b[49m\u001b[43m \u001b[49m\u001b[38;5;124;43m\"\u001b[39;49m\u001b[38;5;124;43mr\u001b[39;49m\u001b[38;5;124;43m\"\u001b[39;49m\u001b[43m)\u001b[49m \u001b[38;5;28;01mas\u001b[39;00m f:\n\u001b[1;32m      4\u001b[0m         data \u001b[38;5;241m=\u001b[39m []\n\u001b[1;32m      5\u001b[0m         \u001b[38;5;28;01mfor\u001b[39;00m i_g \u001b[38;5;129;01min\u001b[39;00m f\u001b[38;5;241m.\u001b[39mkeys():\n",
      "File \u001b[0;32m~/.local/share/virtualenvs/Users-2Kpmrf9_/lib/python3.9/site-packages/h5py/_hl/files.py:562\u001b[0m, in \u001b[0;36mFile.__init__\u001b[0;34m(self, name, mode, driver, libver, userblock_size, swmr, rdcc_nslots, rdcc_nbytes, rdcc_w0, track_order, fs_strategy, fs_persist, fs_threshold, fs_page_size, page_buf_size, min_meta_keep, min_raw_keep, locking, alignment_threshold, alignment_interval, meta_block_size, **kwds)\u001b[0m\n\u001b[1;32m    553\u001b[0m     fapl \u001b[38;5;241m=\u001b[39m make_fapl(driver, libver, rdcc_nslots, rdcc_nbytes, rdcc_w0,\n\u001b[1;32m    554\u001b[0m                      locking, page_buf_size, min_meta_keep, min_raw_keep,\n\u001b[1;32m    555\u001b[0m                      alignment_threshold\u001b[38;5;241m=\u001b[39malignment_threshold,\n\u001b[1;32m    556\u001b[0m                      alignment_interval\u001b[38;5;241m=\u001b[39malignment_interval,\n\u001b[1;32m    557\u001b[0m                      meta_block_size\u001b[38;5;241m=\u001b[39mmeta_block_size,\n\u001b[1;32m    558\u001b[0m                      \u001b[38;5;241m*\u001b[39m\u001b[38;5;241m*\u001b[39mkwds)\n\u001b[1;32m    559\u001b[0m     fcpl \u001b[38;5;241m=\u001b[39m make_fcpl(track_order\u001b[38;5;241m=\u001b[39mtrack_order, fs_strategy\u001b[38;5;241m=\u001b[39mfs_strategy,\n\u001b[1;32m    560\u001b[0m                      fs_persist\u001b[38;5;241m=\u001b[39mfs_persist, fs_threshold\u001b[38;5;241m=\u001b[39mfs_threshold,\n\u001b[1;32m    561\u001b[0m                      fs_page_size\u001b[38;5;241m=\u001b[39mfs_page_size)\n\u001b[0;32m--> 562\u001b[0m     fid \u001b[38;5;241m=\u001b[39m \u001b[43mmake_fid\u001b[49m\u001b[43m(\u001b[49m\u001b[43mname\u001b[49m\u001b[43m,\u001b[49m\u001b[43m \u001b[49m\u001b[43mmode\u001b[49m\u001b[43m,\u001b[49m\u001b[43m \u001b[49m\u001b[43muserblock_size\u001b[49m\u001b[43m,\u001b[49m\u001b[43m \u001b[49m\u001b[43mfapl\u001b[49m\u001b[43m,\u001b[49m\u001b[43m \u001b[49m\u001b[43mfcpl\u001b[49m\u001b[43m,\u001b[49m\u001b[43m \u001b[49m\u001b[43mswmr\u001b[49m\u001b[38;5;241;43m=\u001b[39;49m\u001b[43mswmr\u001b[49m\u001b[43m)\u001b[49m\n\u001b[1;32m    564\u001b[0m \u001b[38;5;28;01mif\u001b[39;00m \u001b[38;5;28misinstance\u001b[39m(libver, \u001b[38;5;28mtuple\u001b[39m):\n\u001b[1;32m    565\u001b[0m     \u001b[38;5;28mself\u001b[39m\u001b[38;5;241m.\u001b[39m_libver \u001b[38;5;241m=\u001b[39m libver\n",
      "File \u001b[0;32m~/.local/share/virtualenvs/Users-2Kpmrf9_/lib/python3.9/site-packages/h5py/_hl/files.py:235\u001b[0m, in \u001b[0;36mmake_fid\u001b[0;34m(name, mode, userblock_size, fapl, fcpl, swmr)\u001b[0m\n\u001b[1;32m    233\u001b[0m     \u001b[38;5;28;01mif\u001b[39;00m swmr \u001b[38;5;129;01mand\u001b[39;00m swmr_support:\n\u001b[1;32m    234\u001b[0m         flags \u001b[38;5;241m|\u001b[39m\u001b[38;5;241m=\u001b[39m h5f\u001b[38;5;241m.\u001b[39mACC_SWMR_READ\n\u001b[0;32m--> 235\u001b[0m     fid \u001b[38;5;241m=\u001b[39m \u001b[43mh5f\u001b[49m\u001b[38;5;241;43m.\u001b[39;49m\u001b[43mopen\u001b[49m\u001b[43m(\u001b[49m\u001b[43mname\u001b[49m\u001b[43m,\u001b[49m\u001b[43m \u001b[49m\u001b[43mflags\u001b[49m\u001b[43m,\u001b[49m\u001b[43m \u001b[49m\u001b[43mfapl\u001b[49m\u001b[38;5;241;43m=\u001b[39;49m\u001b[43mfapl\u001b[49m\u001b[43m)\u001b[49m\n\u001b[1;32m    236\u001b[0m \u001b[38;5;28;01melif\u001b[39;00m mode \u001b[38;5;241m==\u001b[39m \u001b[38;5;124m'\u001b[39m\u001b[38;5;124mr+\u001b[39m\u001b[38;5;124m'\u001b[39m:\n\u001b[1;32m    237\u001b[0m     fid \u001b[38;5;241m=\u001b[39m h5f\u001b[38;5;241m.\u001b[39mopen(name, h5f\u001b[38;5;241m.\u001b[39mACC_RDWR, fapl\u001b[38;5;241m=\u001b[39mfapl)\n",
      "File \u001b[0;32mh5py/_objects.pyx:54\u001b[0m, in \u001b[0;36mh5py._objects.with_phil.wrapper\u001b[0;34m()\u001b[0m\n",
      "File \u001b[0;32mh5py/_objects.pyx:55\u001b[0m, in \u001b[0;36mh5py._objects.with_phil.wrapper\u001b[0;34m()\u001b[0m\n",
      "File \u001b[0;32mh5py/h5f.pyx:102\u001b[0m, in \u001b[0;36mh5py.h5f.open\u001b[0;34m()\u001b[0m\n",
      "\u001b[0;31mFileNotFoundError\u001b[0m: [Errno 2] Unable to synchronously open file (unable to open file: name = './v4_population_mean_fr_out.h5', errno = 2, error message = 'No such file or directory', flags = 0, o_flags = 0)"
     ]
    }
   ],
   "source": [
    "neufr=from_python_hdf5('./' + area + \"_population_mean_fr_out.h5\")[0]\n",
    "plt.plot(np.nanmean(np.array(neufr['0mean']),axis=0))\n",
    "plt.plot(np.nanmean(np.array(neufr['11mean']),axis=0))\n",
    "plt.plot(np.nanmean(np.array(neufr['15mean']),axis=0))\n",
    "plt.plot(np.nanmean(np.array(neufr['51mean']),axis=0))\n",
    "plt.plot(np.nanmean(np.array(neufr['55mean']),axis=0))\n",
    "plt.subplots()\n",
    "neufr=from_python_hdf5('./' + area + \"_population_mean_fr_in.h5\")[0]\n",
    "plt.plot(np.nanmean(np.array(neufr['0mean']),axis=0))\n",
    "plt.plot(np.nanmean(np.array(neufr['11mean']),axis=0))\n",
    "plt.plot(np.nanmean(np.array(neufr['15mean']),axis=0))\n",
    "plt.plot(np.nanmean(np.array(neufr['51mean']),axis=0))\n",
    "plt.plot(np.nanmean(np.array(neufr['55mean']),axis=0))"
   ]
  },
  {
   "cell_type": "code",
   "execution_count": null,
   "metadata": {},
   "outputs": [
    {
     "data": {
      "text/plain": [
       "(2100,)"
      ]
     },
     "execution_count": 43,
     "metadata": {},
     "output_type": "execute_result"
    }
   ],
   "source": [
    "neufr['0mean'][0].shape"
   ]
  },
  {
   "cell_type": "code",
   "execution_count": null,
   "metadata": {},
   "outputs": [
    {
     "data": {
      "text/plain": [
       "(1, 2100)"
      ]
     },
     "execution_count": 44,
     "metadata": {},
     "output_type": "execute_result"
    }
   ],
   "source": [
    "neufr['0mean'][-1].shape"
   ]
  },
  {
   "cell_type": "code",
   "execution_count": null,
   "metadata": {},
   "outputs": [
    {
     "data": {
      "text/plain": [
       "array([-0.17815545, -0.17708412, -0.19232479, ...,  0.07928328,\n",
       "        0.06916537,  0.0784379 ])"
      ]
     },
     "execution_count": 36,
     "metadata": {},
     "output_type": "execute_result"
    }
   ],
   "source": [
    "s11mean[0]"
   ]
  },
  {
   "cell_type": "code",
   "execution_count": null,
   "metadata": {},
   "outputs": [],
   "source": []
  }
 ],
 "metadata": {
  "kernelspec": {
   "display_name": "Users-2Kpmrf9_",
   "language": "python",
   "name": "python3"
  },
  "language_info": {
   "codemirror_mode": {
    "name": "ipython",
    "version": 3
   },
   "file_extension": ".py",
   "mimetype": "text/x-python",
   "name": "python",
   "nbconvert_exporter": "python",
   "pygments_lexer": "ipython3",
   "version": "3.9.18"
  }
 },
 "nbformat": 4,
 "nbformat_minor": 2
}
