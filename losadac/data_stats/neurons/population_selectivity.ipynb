{
 "cells": [
  {
   "cell_type": "code",
   "execution_count": 1,
   "metadata": {},
   "outputs": [],
   "source": [
    "import glob\n",
    "import os\n",
    "import numpy as np\n",
    "from typing import Dict, List\n",
    "from ephysvibe.structures.neuron_data import NeuronData\n",
    "from ephysvibe.trials.spikes import firing_rate\n",
    "from ephysvibe.structures.population_data import PopulationData\n",
    "from ephysvibe.trials import align_trials, select_trials\n",
    "import pandas as pd\n",
    "from scipy import stats\n",
    "from joblib import Parallel, delayed\n",
    "from tqdm import tqdm\n",
    "from ephysvibe.stats import smetrics\n",
    "seed = 1997"
   ]
  },
  {
   "cell_type": "code",
   "execution_count": 2,
   "metadata": {},
   "outputs": [],
   "source": [
    "import matplotlib.pyplot as plt\n",
    "from sklearn import metrics"
   ]
  },
  {
   "cell_type": "code",
   "execution_count": 15,
   "metadata": {},
   "outputs": [],
   "source": [
    "def get_selectivity_info(neu:NeuronData):\n",
    "\n",
    "    res = {}\n",
    "    res[\"nid\"] = neu.get_neuron_id()\n",
    "\n",
    "    samples = [11, 15, 51, 55, 0]\n",
    "    for inout in ['in','out']:\n",
    "        mask = getattr(neu,'mask_'+inout)\n",
    "        sp = getattr(neu,'sample_on_'+inout)\n",
    "        sp = firing_rate.moving_average(data=sp, win=100, step=1)[:, 300:]\n",
    "        sample_id = neu.sample_id[mask]\n",
    "        sp_samples = select_trials.get_sp_by_sample(sp, sample_id, samples)\n",
    "        o1 = np.concatenate((sp_samples[\"11\"], sp_samples[\"15\"]))\n",
    "        o5 = np.concatenate((sp_samples[\"51\"], sp_samples[\"55\"]))\n",
    "        c1 = np.concatenate((sp_samples[\"11\"], sp_samples[\"51\"]))\n",
    "        c5 = np.concatenate((sp_samples[\"15\"], sp_samples[\"55\"]))\n",
    "        sample = np.concatenate(\n",
    "            (sp_samples[\"11\"], sp_samples[\"15\"], sp_samples[\"51\"], sp_samples[\"55\"])\n",
    "        )\n",
    "        n0 = sp_samples[\"0\"]\n",
    "        # Check selectivity and latency\n",
    "        color_lat, color_score = smetrics.get_selectivity(c1, c5, win=75,scores=True)\n",
    "        color_selec = \"nan\" if np.isnan(color_lat) else \"c1\" if color_score[color_lat] > 0 else \"c5\"\n",
    "        orient_lat, orient_score = smetrics.get_selectivity(o1, o5, win=75,scores=True)\n",
    "        orient_selec =  \"nan\" if np.isnan(orient_lat) else \"o1\" if orient_score[orient_lat] > 0 else \"o5\" \n",
    "        neutral_lat, neutral_score = smetrics.get_selectivity(sample, n0, win=75,scores=True)\n",
    "        neutral_selec = \"nan\" if np.isnan(neutral_lat) else \"NN\" if neutral_score[neutral_lat] > 0 else \"N\" \n",
    "        \n",
    "        res[\"color_lat_\" + inout] = color_lat\n",
    "        res[\"color_selec_\" + inout] = color_selec\n",
    "        res[\"color_score_\" + inout] = color_score\n",
    "        res[\"orient_lat_\" + inout] = orient_lat\n",
    "        res[\"orient_selec_\" + inout] = orient_selec\n",
    "        res[\"orient_score_\" + inout] = orient_score\n",
    "        res[\"neutral_lat_\" + inout] = neutral_lat\n",
    "        res[\"neutral_selec_\" + inout] = neutral_selec\n",
    "        res[\"neutral_score_\" + inout] = neutral_score\n",
    "\n",
    "    return res"
   ]
  },
  {
   "cell_type": "code",
   "execution_count": 4,
   "metadata": {},
   "outputs": [],
   "source": [
    "def get_neu_align (path,params,sp_sample=False):\n",
    "\n",
    "    neu = NeuronData.from_python_hdf5(path)\n",
    "    for it in params:\n",
    "        sp, mask = neu.align_on(\n",
    "                select_block=it[\"select_block\"],\n",
    "                select_pos=it[\"inout\"],\n",
    "                event=it[\"event\"],\n",
    "                time_before=it[\"time_before\"],\n",
    "                error_type=0,\n",
    "            )\n",
    "        endt=it['time_before']+it['end']\n",
    "        stt=it['time_before']+it['st']\n",
    "        setattr(neu, it['sp'], np.array(sp[:,:endt],dtype=it[\"dtype_sp\"]))\n",
    "        setattr(neu, it['mask'], np.array(mask,dtype=it[\"dtype_mask\"]))\n",
    "    \n",
    "    if ~sp_sample: setattr(neu, 'sp_samples', np.array([]))\n",
    "\n",
    "    return neu"
   ]
  },
  {
   "cell_type": "code",
   "execution_count": 6,
   "metadata": {},
   "outputs": [
    {
     "name": "stdout",
     "output_type": "stream",
     "text": [
      "lip\n"
     ]
    }
   ],
   "source": [
    "# Define parameters\n",
    "areas = [\"lip\"]\n",
    "subject = \"Riesling\"\n",
    "# paths\n",
    "filepaths = {\n",
    "    \"lip\": \"D:/data/session_struct/lip/neurons/\",\n",
    "    \"pfc\": \"/envau/work/invibe/USERS/IBOS/data/Riesling/TSCM/OpenEphys/new_structure/session_struct/pfc/neurons/\",\n",
    "    \"v4\": \"/envau/work/invibe/USERS/IBOS/data/Riesling/TSCM/OpenEphys/new_structure/session_struct/v4/neurons/\",\n",
    "}\n",
    "\n",
    "for area in areas:\n",
    "    print(area)\n",
    "    path = filepaths[area]\n",
    "    neu_path = path + \"*neu.h5\"\n",
    "    path_list = glob.glob(neu_path)"
   ]
  },
  {
   "cell_type": "code",
   "execution_count": 7,
   "metadata": {},
   "outputs": [],
   "source": [
    "params =[{'inout':'in','sp':'sample_on_in','mask':'mask_in','event':'sample_on','time_before':500,'st':0,'end':1000,'select_block':1,'win':100,'dtype_sp':np.int8,'dtype_mask':bool},\n",
    "         {'inout':'out','sp':'sample_on_out','mask':'mask_out','event':'sample_on','time_before':500,'st':0,'end':1000,'select_block':1,'win':100,'dtype_sp':np.int8,'dtype_mask':bool}]"
   ]
  },
  {
   "cell_type": "code",
   "execution_count": 8,
   "metadata": {},
   "outputs": [
    {
     "name": "stderr",
     "output_type": "stream",
     "text": [
      "  9%|▉         | 48/530 [00:14<02:03,  3.91it/s]"
     ]
    },
    {
     "ename": "KeyboardInterrupt",
     "evalue": "",
     "output_type": "error",
     "traceback": [
      "\u001b[1;31m---------------------------------------------------------------------------\u001b[0m",
      "\u001b[1;31mKeyboardInterrupt\u001b[0m                         Traceback (most recent call last)",
      "Cell \u001b[1;32mIn[8], line 1\u001b[0m\n\u001b[1;32m----> 1\u001b[0m population \u001b[38;5;241m=\u001b[39m \u001b[43mParallel\u001b[49m\u001b[43m(\u001b[49m\u001b[43mn_jobs\u001b[49m\u001b[38;5;241;43m=\u001b[39;49m\u001b[38;5;241;43m-\u001b[39;49m\u001b[38;5;241;43m1\u001b[39;49m\u001b[43m)\u001b[49m\u001b[43m(\u001b[49m\n\u001b[0;32m      2\u001b[0m \u001b[43m    \u001b[49m\u001b[43mdelayed\u001b[49m\u001b[43m(\u001b[49m\u001b[43mget_neu_align\u001b[49m\u001b[43m)\u001b[49m\u001b[43m(\u001b[49m\u001b[43mneu\u001b[49m\u001b[43m,\u001b[49m\u001b[43mparams\u001b[49m\u001b[43m)\u001b[49m\u001b[43m \u001b[49m\u001b[38;5;28;43;01mfor\u001b[39;49;00m\u001b[43m \u001b[49m\u001b[43mneu\u001b[49m\u001b[43m \u001b[49m\u001b[38;5;129;43;01min\u001b[39;49;00m\u001b[43m \u001b[49m\u001b[43mtqdm\u001b[49m\u001b[43m(\u001b[49m\u001b[43mpath_list\u001b[49m\u001b[43m)\u001b[49m\n\u001b[0;32m      3\u001b[0m \u001b[43m)\u001b[49m\n",
      "File \u001b[1;32mc:\\Users\\camil\\.virtualenvs\\Users-zKW_FhGB\\lib\\site-packages\\joblib\\parallel.py:1952\u001b[0m, in \u001b[0;36mParallel.__call__\u001b[1;34m(self, iterable)\u001b[0m\n\u001b[0;32m   1946\u001b[0m \u001b[38;5;66;03m# The first item from the output is blank, but it makes the interpreter\u001b[39;00m\n\u001b[0;32m   1947\u001b[0m \u001b[38;5;66;03m# progress until it enters the Try/Except block of the generator and\u001b[39;00m\n\u001b[0;32m   1948\u001b[0m \u001b[38;5;66;03m# reach the first `yield` statement. This starts the aynchronous\u001b[39;00m\n\u001b[0;32m   1949\u001b[0m \u001b[38;5;66;03m# dispatch of the tasks to the workers.\u001b[39;00m\n\u001b[0;32m   1950\u001b[0m \u001b[38;5;28mnext\u001b[39m(output)\n\u001b[1;32m-> 1952\u001b[0m \u001b[38;5;28;01mreturn\u001b[39;00m output \u001b[38;5;28;01mif\u001b[39;00m \u001b[38;5;28mself\u001b[39m\u001b[38;5;241m.\u001b[39mreturn_generator \u001b[38;5;28;01melse\u001b[39;00m \u001b[38;5;28;43mlist\u001b[39;49m\u001b[43m(\u001b[49m\u001b[43moutput\u001b[49m\u001b[43m)\u001b[49m\n",
      "File \u001b[1;32mc:\\Users\\camil\\.virtualenvs\\Users-zKW_FhGB\\lib\\site-packages\\joblib\\parallel.py:1595\u001b[0m, in \u001b[0;36mParallel._get_outputs\u001b[1;34m(self, iterator, pre_dispatch)\u001b[0m\n\u001b[0;32m   1592\u001b[0m     \u001b[38;5;28;01myield\u001b[39;00m\n\u001b[0;32m   1594\u001b[0m     \u001b[38;5;28;01mwith\u001b[39;00m \u001b[38;5;28mself\u001b[39m\u001b[38;5;241m.\u001b[39m_backend\u001b[38;5;241m.\u001b[39mretrieval_context():\n\u001b[1;32m-> 1595\u001b[0m         \u001b[38;5;28;01myield from\u001b[39;00m \u001b[38;5;28mself\u001b[39m\u001b[38;5;241m.\u001b[39m_retrieve()\n\u001b[0;32m   1597\u001b[0m \u001b[38;5;28;01mexcept\u001b[39;00m \u001b[38;5;167;01mGeneratorExit\u001b[39;00m:\n\u001b[0;32m   1598\u001b[0m     \u001b[38;5;66;03m# The generator has been garbage collected before being fully\u001b[39;00m\n\u001b[0;32m   1599\u001b[0m     \u001b[38;5;66;03m# consumed. This aborts the remaining tasks if possible and warn\u001b[39;00m\n\u001b[0;32m   1600\u001b[0m     \u001b[38;5;66;03m# the user if necessary.\u001b[39;00m\n\u001b[0;32m   1601\u001b[0m     \u001b[38;5;28mself\u001b[39m\u001b[38;5;241m.\u001b[39m_exception \u001b[38;5;241m=\u001b[39m \u001b[38;5;28;01mTrue\u001b[39;00m\n",
      "File \u001b[1;32mc:\\Users\\camil\\.virtualenvs\\Users-zKW_FhGB\\lib\\site-packages\\joblib\\parallel.py:1707\u001b[0m, in \u001b[0;36mParallel._retrieve\u001b[1;34m(self)\u001b[0m\n\u001b[0;32m   1702\u001b[0m \u001b[38;5;66;03m# If the next job is not ready for retrieval yet, we just wait for\u001b[39;00m\n\u001b[0;32m   1703\u001b[0m \u001b[38;5;66;03m# async callbacks to progress.\u001b[39;00m\n\u001b[0;32m   1704\u001b[0m \u001b[38;5;28;01mif\u001b[39;00m ((\u001b[38;5;28mlen\u001b[39m(\u001b[38;5;28mself\u001b[39m\u001b[38;5;241m.\u001b[39m_jobs) \u001b[38;5;241m==\u001b[39m \u001b[38;5;241m0\u001b[39m) \u001b[38;5;129;01mor\u001b[39;00m\n\u001b[0;32m   1705\u001b[0m     (\u001b[38;5;28mself\u001b[39m\u001b[38;5;241m.\u001b[39m_jobs[\u001b[38;5;241m0\u001b[39m]\u001b[38;5;241m.\u001b[39mget_status(\n\u001b[0;32m   1706\u001b[0m         timeout\u001b[38;5;241m=\u001b[39m\u001b[38;5;28mself\u001b[39m\u001b[38;5;241m.\u001b[39mtimeout) \u001b[38;5;241m==\u001b[39m TASK_PENDING)):\n\u001b[1;32m-> 1707\u001b[0m     \u001b[43mtime\u001b[49m\u001b[38;5;241;43m.\u001b[39;49m\u001b[43msleep\u001b[49m\u001b[43m(\u001b[49m\u001b[38;5;241;43m0.01\u001b[39;49m\u001b[43m)\u001b[49m\n\u001b[0;32m   1708\u001b[0m     \u001b[38;5;28;01mcontinue\u001b[39;00m\n\u001b[0;32m   1710\u001b[0m \u001b[38;5;66;03m# We need to be careful: the job list can be filling up as\u001b[39;00m\n\u001b[0;32m   1711\u001b[0m \u001b[38;5;66;03m# we empty it and Python list are not thread-safe by\u001b[39;00m\n\u001b[0;32m   1712\u001b[0m \u001b[38;5;66;03m# default hence the use of the lock\u001b[39;00m\n",
      "\u001b[1;31mKeyboardInterrupt\u001b[0m: "
     ]
    }
   ],
   "source": [
    "population = Parallel(n_jobs=-1)(\n",
    "    delayed(get_neu_align)(neu,params) for neu in tqdm(path_list)\n",
    ")"
   ]
  },
  {
   "cell_type": "code",
   "execution_count": null,
   "metadata": {},
   "outputs": [],
   "source": [
    "comment = \"{'inout':'in','sp':'sample_on_in','mask':'mask_in','event':'sample_on','time_before':500,'st':0,'end':1000,'select_block':1,'win':100,'dtype_sp':np.int8,'dtype_mask':bool},{'inout':'out','sp':'sample_on_out','mask':'mask_out','event':'sample_on','time_before':500,'st':0,'end':1000,'select_block':1,'win':100,'dtype_sp':np.int8,'dtype_mask':bool}\""
   ]
  },
  {
   "cell_type": "code",
   "execution_count": 30,
   "metadata": {},
   "outputs": [],
   "source": [
    "population = PopulationData(population, comment=comment)"
   ]
  },
  {
   "cell_type": "code",
   "execution_count": 31,
   "metadata": {},
   "outputs": [],
   "source": [
    "population.to_python_hdf5('test2.h5')"
   ]
  },
  {
   "cell_type": "code",
   "execution_count": 9,
   "metadata": {},
   "outputs": [],
   "source": [
    "popu=PopulationData.from_python_hdf5('test2.h5')"
   ]
  },
  {
   "cell_type": "code",
   "execution_count": 10,
   "metadata": {},
   "outputs": [
    {
     "data": {
      "text/plain": [
       "dict_keys(['date_time', 'subject', 'area', 'experiment', 'recording', 'sp_samples', 'cluster_id', 'cluster_ch', 'cluster_group', 'cluster_number', 'cluster_array_pos', 'cluster_depth', 'block', 'trial_error', 'code_samples', 'code_numbers', 'position', 'pos_code', 'sample_id', 'test_stimuli', 'test_distractor', 'mask_in', 'mask_out', 'sample_on_in', 'sample_on_out'])"
      ]
     },
     "execution_count": 10,
     "metadata": {},
     "output_type": "execute_result"
    }
   ],
   "source": [
    "popu.population[0].__dict__.keys()"
   ]
  },
  {
   "cell_type": "code",
   "execution_count": 16,
   "metadata": {},
   "outputs": [
    {
     "data": {
      "text/plain": [
       "{'nid': 'mua3LIP2023-02-08_10-39-41Riesling',\n",
       " 'color_lat_in': nan,\n",
       " 'color_selec_in': 'nan',\n",
       " 'color_score_in': nan,\n",
       " 'orient_lat_in': 336,\n",
       " 'orient_selec_in': 'o1',\n",
       " 'orient_score_in': array([-0.08, -0.06, -0.08, ...,  0.24,  0.22,  0.  ]),\n",
       " 'neutral_lat_in': 438,\n",
       " 'neutral_selec_in': 'NN',\n",
       " 'neutral_score_in': array([0.08, 0.08, 0.06, ..., 0.26, 0.26, 0.  ]),\n",
       " 'color_lat_out': nan,\n",
       " 'color_selec_out': 'nan',\n",
       " 'color_score_out': nan,\n",
       " 'orient_lat_out': 630,\n",
       " 'orient_selec_out': 'o1',\n",
       " 'orient_score_out': array([0.08, 0.08, 0.08, ..., 0.08, 0.06, 0.  ]),\n",
       " 'neutral_lat_out': 344,\n",
       " 'neutral_selec_out': 'NN',\n",
       " 'neutral_score_out': array([-0.04, -0.04, -0.04, ..., -0.06, -0.08,  0.  ])}"
      ]
     },
     "execution_count": 16,
     "metadata": {},
     "output_type": "execute_result"
    }
   ],
   "source": [
    "get_selectivity_info(popu.population[30])"
   ]
  },
  {
   "cell_type": "code",
   "execution_count": 17,
   "metadata": {},
   "outputs": [
    {
     "name": "stderr",
     "output_type": "stream",
     "text": []
    }
   ],
   "source": [
    "df_selectivity = popu.execute_function(get_selectivity_info, n_jobs=-1, ret_df=True)\n"
   ]
  },
  {
   "cell_type": "code",
   "execution_count": 36,
   "metadata": {},
   "outputs": [],
   "source": [
    "df_selectivity=df_selectivity.replace('nan',np.nan)\n",
    "df_selectivity.to_csv(\"population_selectivity_\" + area + \".csv\", index=False)"
   ]
  },
  {
   "cell_type": "code",
   "execution_count": null,
   "metadata": {},
   "outputs": [],
   "source": []
  },
  {
   "cell_type": "code",
   "execution_count": 37,
   "metadata": {},
   "outputs": [],
   "source": [
    "df_fr=pd.read_csv('C:/Users/camil/Documents/int/code/Users/losadac/data_stats/neurons/population_fr_lip.csv')#.drop('Unnamed: 0', axis=1) \n",
    "df_selectivity=pd.read_csv(\"population_selectivity_\" + area + \".csv\")"
   ]
  },
  {
   "cell_type": "code",
   "execution_count": 40,
   "metadata": {},
   "outputs": [],
   "source": [
    "df_sel1=pd.merge(df_selectivity, df_fr, left_on='nid',right_on='nid')\n",
    "df_sel_in=df_sel1[df_sel1['fr_sampleNNin']>=1]\n",
    "df_sel_out=df_sel1[df_sel1['fr_sampleNNout']>=1]"
   ]
  },
  {
   "cell_type": "code",
   "execution_count": 43,
   "metadata": {},
   "outputs": [
    {
     "data": {
      "text/plain": [
       "Text(0.5, 1.0, 'orient_lat_out')"
      ]
     },
     "execution_count": 43,
     "metadata": {},
     "output_type": "execute_result"
    },
    {
     "data": {
      "image/png": "[encoded data removed]",
      "text/plain": [
       "<Figure size 1000x400 with 2 Axes>"
      ]
     },
     "metadata": {},
     "output_type": "display_data"
    },
    {
     "data": {
      "image/png": "[encoded data removed]",
      "text/plain": [
       "<Figure size 1000x400 with 2 Axes>"
      ]
     },
     "metadata": {},
     "output_type": "display_data"
    },
    {
     "data": {
      "image/png": "[encoded data removed]",
      "text/plain": [
       "<Figure size 1000x400 with 2 Axes>"
      ]
     },
     "metadata": {},
     "output_type": "display_data"
    }
   ],
   "source": [
    "f,ax=plt.subplots(1,2,figsize=(10,4))\n",
    "ax[0].hist(df_sel_in[df_sel_in['neutral_lat_in'].notna()]['neutral_lat_in']-200,bins=100) \n",
    "ax[0].set_title('neutral_lat_in')\n",
    "ax[1].hist(df_sel_out[df_sel_out['neutral_lat_out'].notna()]['neutral_lat_out']-200,bins=100) \n",
    "ax[1].set_title('neutral_lat_out')\n",
    "\n",
    "f,ax=plt.subplots(1,2,figsize=(10,4))\n",
    "ax[0].hist(df_sel_in[df_sel_in['color_lat_in'].notna()]['color_lat_in']-200,bins=100) \n",
    "ax[0].set_title('color_lat_in')\n",
    "ax[1].hist(df_sel_out[df_sel_out['color_lat_out'].notna()]['color_lat_out']-200,bins=100) \n",
    "ax[1].set_title('color_lat_out')\n",
    "\n",
    "f,ax=plt.subplots(1,2,figsize=(10,4))\n",
    "ax[0].hist(df_sel_in[df_sel_in['orient_lat_in'].notna()]['orient_lat_in']-200,bins=100) \n",
    "ax[0].set_title('orient_lat_in')\n",
    "ax[1].hist(df_sel_out[df_sel_out['orient_lat_out'].notna()]['orient_lat_out']-200,bins=100) \n",
    "ax[1].set_title('orient_lat_out')"
   ]
  },
  {
   "cell_type": "code",
   "execution_count": 63,
   "metadata": {},
   "outputs": [],
   "source": []
  },
  {
   "cell_type": "code",
   "execution_count": null,
   "metadata": {},
   "outputs": [],
   "source": []
  }
 ],
 "metadata": {
  "kernelspec": {
   "display_name": "Users-zKW_FhGB",
   "language": "python",
   "name": "python3"
  },
  "language_info": {
   "codemirror_mode": {
    "name": "ipython",
    "version": 3
   },
   "file_extension": ".py",
   "mimetype": "text/x-python",
   "name": "python",
   "nbconvert_exporter": "python",
   "pygments_lexer": "ipython3",
   "version": "3.9.6"
  }
 },
 "nbformat": 4,
 "nbformat_minor": 2
}
