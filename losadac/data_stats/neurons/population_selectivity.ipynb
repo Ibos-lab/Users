{
 "cells": [
  {
   "cell_type": "code",
   "execution_count": 1,
   "metadata": {},
   "outputs": [],
   "source": [
    "import glob\n",
    "import os\n",
    "import numpy as np\n",
    "from typing import Dict, List\n",
    "from ephysvibe.structures.neuron_data import NeuronData\n",
    "from ephysvibe.trials.spikes import firing_rate\n",
    "from ephysvibe.structures.population_data import PopulationData\n",
    "from ephysvibe.trials import align_trials, select_trials\n",
    "import pandas as pd\n",
    "from scipy import stats\n",
    "from joblib import Parallel, delayed\n",
    "from tqdm import tqdm\n",
    "from ephysvibe.stats import smetrics\n",
    "seed = 1997"
   ]
  },
  {
   "cell_type": "code",
   "execution_count": 2,
   "metadata": {},
   "outputs": [],
   "source": [
    "import matplotlib.pyplot as plt\n",
    "from sklearn import metrics"
   ]
  },
  {
   "cell_type": "code",
   "execution_count": 3,
   "metadata": {},
   "outputs": [],
   "source": [
    "def get_selectivity_info(neu:NeuronData):\n",
    "\n",
    "    res = {}\n",
    "    res[\"nid\"] = neu.get_neuron_id()\n",
    "\n",
    "    samples = [11, 15, 51, 55, 0]\n",
    "    for inout in ['in','out']:\n",
    "        mask = getattr(neu,'mask_'+inout)\n",
    "        sp = getattr(neu,'sample_on_'+inout)\n",
    "        sp = firing_rate.moving_average(data=sp, win=100, step=1)[:, 300:]\n",
    "        sample_id = neu.sample_id[mask]\n",
    "        sp_samples = select_trials.get_sp_by_sample(sp, sample_id, samples)\n",
    "        o1 = np.concatenate((sp_samples[\"11\"], sp_samples[\"15\"]))\n",
    "        o5 = np.concatenate((sp_samples[\"51\"], sp_samples[\"55\"]))\n",
    "        c1 = np.concatenate((sp_samples[\"11\"], sp_samples[\"51\"]))\n",
    "        c5 = np.concatenate((sp_samples[\"15\"], sp_samples[\"55\"]))\n",
    "        sample = np.concatenate(\n",
    "            (sp_samples[\"11\"], sp_samples[\"15\"], sp_samples[\"51\"], sp_samples[\"55\"])\n",
    "        )\n",
    "        n0 = sp_samples[\"0\"]\n",
    "        # Check selectivity and latency\n",
    "        color_lat, color_score = smetrics.get_selectivity(c1, c5, win=75,scores=True)\n",
    "        color_selec = np.nan if np.isnan(color_lat) else \"c1\" if color_score[color_lat] > 0 else \"c5\"\n",
    "        orient_lat, orient_score = smetrics.get_selectivity(o1, o5, win=75,scores=True)\n",
    "        orient_selec =  np.nan if np.isnan(orient_lat) else \"o1\" if orient_score[orient_lat] > 0 else \"o5\" \n",
    "        neutral_lat, neutral_score = smetrics.get_selectivity(sample, n0, win=75,scores=True)\n",
    "        neutral_selec = np.nan if np.isnan(neutral_lat) else \"NN\" if neutral_score[neutral_lat] > 0 else \"N\" \n",
    "        \n",
    "        res[\"color_lat_\" + inout] = color_lat\n",
    "        res[\"color_selec_\" + inout] = color_selec\n",
    "        res[\"color_score_\" + inout] = color_score\n",
    "        res[\"orient_lat_\" + inout] = orient_lat\n",
    "        res[\"orient_selec_\" + inout] = orient_selec\n",
    "        res[\"orient_score_\" + inout] = orient_score\n",
    "        res[\"neutral_lat_\" + inout] = neutral_lat\n",
    "        res[\"neutral_selec_\" + inout] = neutral_selec\n",
    "        res[\"neutral_score_\" + inout] = neutral_score\n",
    "\n",
    "    return res"
   ]
  },
  {
   "cell_type": "code",
   "execution_count": 4,
   "metadata": {},
   "outputs": [],
   "source": [
    "def get_neu_align (path,params,sp_sample=False):\n",
    "\n",
    "    neu = NeuronData.from_python_hdf5(path)\n",
    "    for it in params:\n",
    "        sp, mask = neu.align_on(\n",
    "                select_block=it[\"select_block\"],\n",
    "                select_pos=it[\"inout\"],\n",
    "                event=it[\"event\"],\n",
    "                time_before=it[\"time_before\"],\n",
    "                error_type=0,\n",
    "            )\n",
    "        endt=it['time_before']+it['end']\n",
    "        stt=it['time_before']+it['st']\n",
    "        setattr(neu, it['sp'], np.array(sp[:,:endt],dtype=it[\"dtype_sp\"]))\n",
    "        setattr(neu, it['mask'], np.array(mask,dtype=it[\"dtype_mask\"]))\n",
    "    \n",
    "    if ~sp_sample: setattr(neu, 'sp_samples', np.array([]))\n",
    "\n",
    "    return neu"
   ]
  },
  {
   "cell_type": "code",
   "execution_count": 10,
   "metadata": {},
   "outputs": [
    {
     "name": "stdout",
     "output_type": "stream",
     "text": [
      "lip\n"
     ]
    }
   ],
   "source": [
    "# Define parameters\n",
    "areas = [\"lip\"]\n",
    "subject = \"Riesling\"\n",
    "# paths\n",
    "filepaths = {\n",
    "    \"lip\": \"D:/data/session_struct/lip/neurons/\",\n",
    "    \"pfc\": \"/envau/work/invibe/USERS/IBOS/data/Riesling/TSCM/OpenEphys/new_structure/session_struct/pfc/neurons/\",\n",
    "    \"v4\": \"/envau/work/invibe/USERS/IBOS/data/Riesling/TSCM/OpenEphys/new_structure/session_struct/v4/neurons/\",\n",
    "}\n",
    "\n",
    "for area in areas:\n",
    "    print(area)\n",
    "    path = filepaths[area]\n",
    "    neu_path = path + \"*neu.h5\"\n",
    "    path_list = glob.glob(neu_path)"
   ]
  },
  {
   "cell_type": "code",
   "execution_count": 11,
   "metadata": {},
   "outputs": [],
   "source": [
    "params =[{'inout':'in','sp':'sample_on_in','mask':'mask_in','event':'sample_on','time_before':500,'st':0,'end':1000,'select_block':1,'win':100,'dtype_sp':np.int8,'dtype_mask':bool},\n",
    "         {'inout':'out','sp':'sample_on_out','mask':'mask_out','event':'sample_on','time_before':500,'st':0,'end':1000,'select_block':1,'win':100,'dtype_sp':np.int8,'dtype_mask':bool}]"
   ]
  },
  {
   "cell_type": "code",
   "execution_count": 12,
   "metadata": {},
   "outputs": [
    {
     "name": "stderr",
     "output_type": "stream",
     "text": [
      "100%|██████████| 10/10 [00:00<00:00, 67.39it/s]\n"
     ]
    }
   ],
   "source": [
    "population = Parallel(n_jobs=-1)(\n",
    "    delayed(get_neu_align)(neu,params) for neu in tqdm(path_list[:10])\n",
    ")"
   ]
  },
  {
   "cell_type": "code",
   "execution_count": 13,
   "metadata": {},
   "outputs": [],
   "source": [
    "comment = \"{'inout':'in','sp':'sample_on_in','mask':'mask_in','event':'sample_on','time_before':500,'st':0,'end':1000,'select_block':1,'win':100,'dtype_sp':np.int8,'dtype_mask':bool},{'inout':'out','sp':'sample_on_out','mask':'mask_out','event':'sample_on','time_before':500,'st':0,'end':1000,'select_block':1,'win':100,'dtype_sp':np.int8,'dtype_mask':bool}\""
   ]
  },
  {
   "cell_type": "code",
   "execution_count": 14,
   "metadata": {},
   "outputs": [],
   "source": [
    "population = PopulationData(population, comment=comment)"
   ]
  },
  {
   "cell_type": "code",
   "execution_count": 31,
   "metadata": {},
   "outputs": [],
   "source": [
    "population.to_python_hdf5('test2.h5')"
   ]
  },
  {
   "cell_type": "code",
   "execution_count": 9,
   "metadata": {},
   "outputs": [],
   "source": [
    "popu=PopulationData.from_python_hdf5('test2.h5')"
   ]
  },
  {
   "cell_type": "code",
   "execution_count": 10,
   "metadata": {},
   "outputs": [
    {
     "data": {
      "text/plain": [
       "dict_keys(['date_time', 'subject', 'area', 'experiment', 'recording', 'sp_samples', 'cluster_id', 'cluster_ch', 'cluster_group', 'cluster_number', 'cluster_array_pos', 'cluster_depth', 'block', 'trial_error', 'code_samples', 'code_numbers', 'position', 'pos_code', 'sample_id', 'test_stimuli', 'test_distractor', 'mask_in', 'mask_out', 'sample_on_in', 'sample_on_out'])"
      ]
     },
     "execution_count": 10,
     "metadata": {},
     "output_type": "execute_result"
    }
   ],
   "source": [
    "popu.population[0].__dict__.keys()"
   ]
  },
  {
   "cell_type": "code",
   "execution_count": 15,
   "metadata": {},
   "outputs": [],
   "source": [
    "a=get_selectivity_info(population.population[5])"
   ]
  },
  {
   "cell_type": "code",
   "execution_count": 36,
   "metadata": {},
   "outputs": [
    {
     "data": {
      "text/plain": [
       "array([-0.08, -0.06, -0.08, ...,  0.24,  0.22,  0.  ])"
      ]
     },
     "execution_count": 36,
     "metadata": {},
     "output_type": "execute_result"
    }
   ],
   "source": [
    "a['orient_score_in']"
   ]
  },
  {
   "cell_type": "code",
   "execution_count": 16,
   "metadata": {},
   "outputs": [
    {
     "name": "stderr",
     "output_type": "stream",
     "text": [
      "100%|██████████| 10/10 [00:00<00:00, 3182.08it/s]\n"
     ]
    }
   ],
   "source": [
    "df_selectivity = population.execute_function(get_selectivity_info, n_jobs=-1, ret_df=True)\n"
   ]
  },
  {
   "cell_type": "code",
   "execution_count": 17,
   "metadata": {},
   "outputs": [
    {
     "data": {
      "text/plain": [
       "array([nan, nan, nan,\n",
       "       array([ 0.02,  0.02,  0.02, ..., -0.1 , -0.12,  0.  ]),\n",
       "       array([0.02, 0.02, 0.02, ..., 0.1 , 0.1 , 0.  ]),\n",
       "       array([ 0.08,  0.08,  0.08, ..., -0.02, -0.02,  0.  ]), nan, nan,\n",
       "       array([-0.02, -0.02, -0.02, ..., -0.04, -0.04,  0.  ]), nan],\n",
       "      dtype=object)"
      ]
     },
     "execution_count": 17,
     "metadata": {},
     "output_type": "execute_result"
    }
   ],
   "source": [
    "df_selectivity['neutral_score_in'].values"
   ]
  },
  {
   "cell_type": "code",
   "execution_count": 18,
   "metadata": {},
   "outputs": [
    {
     "name": "stderr",
     "output_type": "stream",
     "text": [
      "c:\\Users\\camil\\.virtualenvs\\Users-zKW_FhGB\\lib\\site-packages\\pandas\\core\\missing.py:124: FutureWarning: elementwise comparison failed; returning scalar instead, but in the future will perform elementwise comparison\n",
      "  new_mask[arr_mask] = arr[arr_mask] == x\n"
     ]
    }
   ],
   "source": [
    "df_selectivity.to_csv(\"population_selectivity2_\" + area + \".csv\", index=False)"
   ]
  },
  {
   "cell_type": "code",
   "execution_count": 18,
   "metadata": {},
   "outputs": [],
   "source": [
    "df_fr=pd.read_csv('C:/Users/camil/Documents/int/code/Users/losadac/data_stats/neurons/res/population_fr_lip.csv')#.drop('Unnamed: 0', axis=1) \n",
    "#df_selectivity=pd.read_csv(\"population_selectivity2_\" + area + \".csv\")"
   ]
  },
  {
   "cell_type": "code",
   "execution_count": 19,
   "metadata": {},
   "outputs": [],
   "source": [
    "df_sel1=pd.merge(df_selectivity, df_fr, left_on='nid',right_on='nid')\n",
    "df_sel_in=df_sel1[df_sel1['fr_sampleNNin']>=1]\n",
    "df_sel_out=df_sel1[df_sel1['fr_sampleNNout']>=1]"
   ]
  },
  {
   "cell_type": "code",
   "execution_count": 20,
   "metadata": {},
   "outputs": [
    {
     "name": "stderr",
     "output_type": "stream",
     "text": [
      "c:\\Users\\camil\\.virtualenvs\\Users-zKW_FhGB\\lib\\site-packages\\numpy\\lib\\histograms.py:883: RuntimeWarning: invalid value encountered in divide\n",
      "  return n/db/n.sum(), bin_edges\n"
     ]
    },
    {
     "data": {
      "text/plain": [
       "Text(0.5, 1.0, 'orient_lat_out')"
      ]
     },
     "execution_count": 20,
     "metadata": {},
     "output_type": "execute_result"
    },
    {
     "data": {
      "image/png": "[encoded data removed]",
      "text/plain": [
       "<Figure size 1000x400 with 2 Axes>"
      ]
     },
     "metadata": {},
     "output_type": "display_data"
    },
    {
     "data": {
      "image/png": "[encoded data removed]",
      "text/plain": [
       "<Figure size 1000x400 with 2 Axes>"
      ]
     },
     "metadata": {},
     "output_type": "display_data"
    },
    {
     "data": {
      "image/png": "[encoded data removed]",
      "text/plain": [
       "<Figure size 1000x400 with 2 Axes>"
      ]
     },
     "metadata": {},
     "output_type": "display_data"
    }
   ],
   "source": [
    "f,ax=plt.subplots(1,2,figsize=(10,4))\n",
    "ax[0].hist(df_sel_in[df_sel_in['neutral_lat_in'].notna()]['neutral_lat_in']-200,density=True,bins=100) \n",
    "ax[0].set_title('neutral_lat_in')\n",
    "ax[1].hist(df_sel_out[df_sel_out['neutral_lat_out'].notna()]['neutral_lat_out']-200,density=True,bins=100) \n",
    "ax[1].set_title('neutral_lat_out')\n",
    "\n",
    "f,ax=plt.subplots(1,2,figsize=(10,4))\n",
    "ax[0].hist(df_sel_in[df_sel_in['color_lat_in'].notna()]['color_lat_in']-200,density=True,bins=100) \n",
    "ax[0].set_title('color_lat_in')\n",
    "ax[1].hist(df_sel_out[df_sel_out['color_lat_out'].notna()]['color_lat_out']-200,density=True,bins=100) \n",
    "ax[1].set_title('color_lat_out')\n",
    "\n",
    "f,ax=plt.subplots(1,2,figsize=(10,4))\n",
    "ax[0].hist(df_sel_in[df_sel_in['orient_lat_in'].notna()]['orient_lat_in']-200,density=True,bins=100) \n",
    "ax[0].set_title('orient_lat_in')\n",
    "ax[1].hist(df_sel_out[df_sel_out['orient_lat_out'].notna()]['orient_lat_out']-200,density=True,bins=100) \n",
    "ax[1].set_title('orient_lat_out')"
   ]
  },
  {
   "cell_type": "code",
   "execution_count": 63,
   "metadata": {},
   "outputs": [],
   "source": [
    "f,ax=plt.subplots(1,2,figsize=(10,4))\n",
    "ax[0].hist(df_sel_in[df_sel_in['neutral_lat_in'].notna()]['neutral_lat_in']-200,density=True,bins=100) \n",
    "ax[0].set_title('neutral_lat_in')\n",
    "ax[1].hist(df_sel_out[df_sel_out['neutral_lat_out'].notna()]['neutral_lat_out']-200,density=True,bins=100) \n",
    "ax[1].set_title('neutral_lat_out')\n",
    "\n",
    "f,ax=plt.subplots(1,2,figsize=(10,4))\n",
    "ax[0].hist(df_sel_in[df_sel_in['color_lat_in'].notna()]['color_lat_in']-200,density=True,bins=100) \n",
    "ax[0].set_title('color_lat_in')\n",
    "ax[1].hist(df_sel_out[df_sel_out['color_lat_out'].notna()]['color_lat_out']-200,density=True,bins=100) \n",
    "ax[1].set_title('color_lat_out')\n",
    "\n",
    "f,ax=plt.subplots(1,2,figsize=(10,4))\n",
    "ax[0].hist(df_sel_in[df_sel_in['orient_lat_in'].notna()]['orient_lat_in']-200,density=True,bins=100) \n",
    "ax[0].set_title('orient_lat_in')\n",
    "ax[1].hist(df_sel_out[df_sel_out['orient_lat_out'].notna()]['orient_lat_out']-200,density=True,bins=100) \n",
    "ax[1].set_title('orient_lat_out')"
   ]
  },
  {
   "cell_type": "code",
   "execution_count": 41,
   "metadata": {},
   "outputs": [],
   "source": [
    "import ast"
   ]
  },
  {
   "cell_type": "code",
   "execution_count": 21,
   "metadata": {},
   "outputs": [
    {
     "data": {
      "text/plain": [
       "array([array([ 0.02,  0.02,  0.02, ..., -0.1 , -0.12,  0.  ]),\n",
       "       array([0.02, 0.02, 0.02, ..., 0.1 , 0.1 , 0.  ]),\n",
       "       array([ 0.08,  0.08,  0.08, ..., -0.02, -0.02,  0.  ]),\n",
       "       array([-0.02, -0.02, -0.02, ..., -0.04, -0.04,  0.  ])],\n",
       "      dtype=object)"
      ]
     },
     "execution_count": 21,
     "metadata": {},
     "output_type": "execute_result"
    }
   ],
   "source": [
    "df_sel_in[df_sel_in['neutral_lat_in'].notna()]['neutral_score_in'].values"
   ]
  },
  {
   "cell_type": "code",
   "execution_count": 51,
   "metadata": {},
   "outputs": [
    {
     "data": {
      "text/plain": [
       "'-0.02  0.   -0.02 ...  0.04  0.04  0.  ]'"
      ]
     },
     "execution_count": 51,
     "metadata": {},
     "output_type": "execute_result"
    }
   ],
   "source": [
    "df_sel_in[df_sel_in['neutral_lat_in'].notna()]['neutral_score_in'][4].strip('[\"')"
   ]
  },
  {
   "cell_type": "code",
   "execution_count": 22,
   "metadata": {},
   "outputs": [
    {
     "data": {
      "text/html": [
       "<div>\n",
       "<style scoped>\n",
       "    .dataframe tbody tr th:only-of-type {\n",
       "        vertical-align: middle;\n",
       "    }\n",
       "\n",
       "    .dataframe tbody tr th {\n",
       "        vertical-align: top;\n",
       "    }\n",
       "\n",
       "    .dataframe thead th {\n",
       "        text-align: right;\n",
       "    }\n",
       "</style>\n",
       "<table border=\"1\" class=\"dataframe\">\n",
       "  <thead>\n",
       "    <tr style=\"text-align: right;\">\n",
       "      <th></th>\n",
       "      <th>nid</th>\n",
       "      <th>color_lat_in</th>\n",
       "      <th>color_selec_in</th>\n",
       "      <th>color_score_in</th>\n",
       "      <th>orient_lat_in</th>\n",
       "      <th>orient_selec_in</th>\n",
       "      <th>orient_score_in</th>\n",
       "      <th>neutral_lat_in</th>\n",
       "      <th>neutral_selec_in</th>\n",
       "      <th>neutral_score_in</th>\n",
       "      <th>...</th>\n",
       "      <th>spfix_bl_ratio_delay1Nout</th>\n",
       "      <th>spmax_bl_ratio_delay1Nout</th>\n",
       "      <th>p_maxfr_delay1Nout</th>\n",
       "      <th>fr_delay2Nout</th>\n",
       "      <th>maxfrlat_delay2Nout</th>\n",
       "      <th>maxfr_delay2Nout</th>\n",
       "      <th>maxfr200_delay2Nout</th>\n",
       "      <th>spfix_bl_ratio_delay2Nout</th>\n",
       "      <th>spmax_bl_ratio_delay2Nout</th>\n",
       "      <th>p_maxfr_delay2Nout</th>\n",
       "    </tr>\n",
       "  </thead>\n",
       "  <tbody>\n",
       "    <tr>\n",
       "      <th>0</th>\n",
       "      <td>mua3LIP2023-10-18_10-57-56Riesling</td>\n",
       "      <td>NaN</td>\n",
       "      <td>NaN</td>\n",
       "      <td>NaN</td>\n",
       "      <td>NaN</td>\n",
       "      <td>NaN</td>\n",
       "      <td>NaN</td>\n",
       "      <td>NaN</td>\n",
       "      <td>NaN</td>\n",
       "      <td>NaN</td>\n",
       "      <td>...</td>\n",
       "      <td>0.666504</td>\n",
       "      <td>0.692383</td>\n",
       "      <td>0.983655</td>\n",
       "      <td>2.315521</td>\n",
       "      <td>50.0</td>\n",
       "      <td>3.705978</td>\n",
       "      <td>2.516551</td>\n",
       "      <td>0.717773</td>\n",
       "      <td>0.666504</td>\n",
       "      <td>0.983638</td>\n",
       "    </tr>\n",
       "    <tr>\n",
       "      <th>1</th>\n",
       "      <td>mua4LIP2023-10-18_10-57-56Riesling</td>\n",
       "      <td>NaN</td>\n",
       "      <td>NaN</td>\n",
       "      <td>NaN</td>\n",
       "      <td>NaN</td>\n",
       "      <td>NaN</td>\n",
       "      <td>NaN</td>\n",
       "      <td>NaN</td>\n",
       "      <td>NaN</td>\n",
       "      <td>NaN</td>\n",
       "      <td>...</td>\n",
       "      <td>0.899902</td>\n",
       "      <td>1.099609</td>\n",
       "      <td>0.805549</td>\n",
       "      <td>4.074097</td>\n",
       "      <td>80.0</td>\n",
       "      <td>5.558014</td>\n",
       "      <td>3.995724</td>\n",
       "      <td>1.174805</td>\n",
       "      <td>1.075195</td>\n",
       "      <td>0.850146</td>\n",
       "    </tr>\n",
       "    <tr>\n",
       "      <th>3</th>\n",
       "      <td>mua6LIP2023-10-18_10-57-56Riesling</td>\n",
       "      <td>NaN</td>\n",
       "      <td>NaN</td>\n",
       "      <td>NaN</td>\n",
       "      <td>NaN</td>\n",
       "      <td>NaN</td>\n",
       "      <td>NaN</td>\n",
       "      <td>840.0</td>\n",
       "      <td>N</td>\n",
       "      <td>[0.020000000000000018, 0.020000000000000018, 0...</td>\n",
       "      <td>...</td>\n",
       "      <td>1.328125</td>\n",
       "      <td>1.658203</td>\n",
       "      <td>0.001469</td>\n",
       "      <td>12.359619</td>\n",
       "      <td>350.0</td>\n",
       "      <td>15.373230</td>\n",
       "      <td>13.269145</td>\n",
       "      <td>1.658203</td>\n",
       "      <td>1.834961</td>\n",
       "      <td>0.000191</td>\n",
       "    </tr>\n",
       "    <tr>\n",
       "      <th>4</th>\n",
       "      <td>mua7LIP2023-10-18_10-57-56Riesling</td>\n",
       "      <td>NaN</td>\n",
       "      <td>NaN</td>\n",
       "      <td>NaN</td>\n",
       "      <td>NaN</td>\n",
       "      <td>NaN</td>\n",
       "      <td>NaN</td>\n",
       "      <td>897.0</td>\n",
       "      <td>NN</td>\n",
       "      <td>[0.020000000000000018, 0.020000000000000018, 0...</td>\n",
       "      <td>...</td>\n",
       "      <td>0.184570</td>\n",
       "      <td>0.333252</td>\n",
       "      <td>0.000002</td>\n",
       "      <td>3.936768</td>\n",
       "      <td>153.0</td>\n",
       "      <td>5.371094</td>\n",
       "      <td>4.656496</td>\n",
       "      <td>0.315430</td>\n",
       "      <td>0.315430</td>\n",
       "      <td>0.000001</td>\n",
       "    </tr>\n",
       "    <tr>\n",
       "      <th>5</th>\n",
       "      <td>good1LIP2023-10-18_10-57-56Riesling</td>\n",
       "      <td>NaN</td>\n",
       "      <td>NaN</td>\n",
       "      <td>NaN</td>\n",
       "      <td>NaN</td>\n",
       "      <td>NaN</td>\n",
       "      <td>NaN</td>\n",
       "      <td>857.0</td>\n",
       "      <td>N</td>\n",
       "      <td>[0.08000000000000007, 0.08000000000000007, 0.0...</td>\n",
       "      <td>...</td>\n",
       "      <td>0.790527</td>\n",
       "      <td>0.790527</td>\n",
       "      <td>0.419375</td>\n",
       "      <td>3.379822</td>\n",
       "      <td>184.0</td>\n",
       "      <td>4.444122</td>\n",
       "      <td>3.564749</td>\n",
       "      <td>0.883789</td>\n",
       "      <td>0.930176</td>\n",
       "      <td>0.519409</td>\n",
       "    </tr>\n",
       "    <tr>\n",
       "      <th>8</th>\n",
       "      <td>mua10LIP2023-10-18_10-57-56Riesling</td>\n",
       "      <td>NaN</td>\n",
       "      <td>NaN</td>\n",
       "      <td>NaN</td>\n",
       "      <td>NaN</td>\n",
       "      <td>NaN</td>\n",
       "      <td>NaN</td>\n",
       "      <td>717.0</td>\n",
       "      <td>N</td>\n",
       "      <td>[-0.020000000000000018, -0.020000000000000018,...</td>\n",
       "      <td>...</td>\n",
       "      <td>3.199219</td>\n",
       "      <td>3.800781</td>\n",
       "      <td>0.074810</td>\n",
       "      <td>1.574516</td>\n",
       "      <td>186.0</td>\n",
       "      <td>2.964020</td>\n",
       "      <td>2.079973</td>\n",
       "      <td>4.398438</td>\n",
       "      <td>4.800781</td>\n",
       "      <td>0.019604</td>\n",
       "    </tr>\n",
       "    <tr>\n",
       "      <th>9</th>\n",
       "      <td>mua11LIP2023-10-18_10-57-56Riesling</td>\n",
       "      <td>NaN</td>\n",
       "      <td>NaN</td>\n",
       "      <td>NaN</td>\n",
       "      <td>NaN</td>\n",
       "      <td>NaN</td>\n",
       "      <td>NaN</td>\n",
       "      <td>NaN</td>\n",
       "      <td>NaN</td>\n",
       "      <td>NaN</td>\n",
       "      <td>...</td>\n",
       "      <td>1.700195</td>\n",
       "      <td>2.000000</td>\n",
       "      <td>0.077033</td>\n",
       "      <td>1.250267</td>\n",
       "      <td>7.0</td>\n",
       "      <td>2.222061</td>\n",
       "      <td>1.565034</td>\n",
       "      <td>1.599609</td>\n",
       "      <td>1.700195</td>\n",
       "      <td>0.204976</td>\n",
       "    </tr>\n",
       "  </tbody>\n",
       "</table>\n",
       "<p>7 rows × 103 columns</p>\n",
       "</div>"
      ],
      "text/plain": [
       "                                   nid  color_lat_in  color_selec_in  \\\n",
       "0   mua3LIP2023-10-18_10-57-56Riesling           NaN             NaN   \n",
       "1   mua4LIP2023-10-18_10-57-56Riesling           NaN             NaN   \n",
       "3   mua6LIP2023-10-18_10-57-56Riesling           NaN             NaN   \n",
       "4   mua7LIP2023-10-18_10-57-56Riesling           NaN             NaN   \n",
       "5  good1LIP2023-10-18_10-57-56Riesling           NaN             NaN   \n",
       "8  mua10LIP2023-10-18_10-57-56Riesling           NaN             NaN   \n",
       "9  mua11LIP2023-10-18_10-57-56Riesling           NaN             NaN   \n",
       "\n",
       "   color_score_in  orient_lat_in  orient_selec_in  orient_score_in  \\\n",
       "0             NaN            NaN              NaN              NaN   \n",
       "1             NaN            NaN              NaN              NaN   \n",
       "3             NaN            NaN              NaN              NaN   \n",
       "4             NaN            NaN              NaN              NaN   \n",
       "5             NaN            NaN              NaN              NaN   \n",
       "8             NaN            NaN              NaN              NaN   \n",
       "9             NaN            NaN              NaN              NaN   \n",
       "\n",
       "   neutral_lat_in neutral_selec_in  \\\n",
       "0             NaN              NaN   \n",
       "1             NaN              NaN   \n",
       "3           840.0                N   \n",
       "4           897.0               NN   \n",
       "5           857.0                N   \n",
       "8           717.0                N   \n",
       "9             NaN              NaN   \n",
       "\n",
       "                                    neutral_score_in  ...  \\\n",
       "0                                                NaN  ...   \n",
       "1                                                NaN  ...   \n",
       "3  [0.020000000000000018, 0.020000000000000018, 0...  ...   \n",
       "4  [0.020000000000000018, 0.020000000000000018, 0...  ...   \n",
       "5  [0.08000000000000007, 0.08000000000000007, 0.0...  ...   \n",
       "8  [-0.020000000000000018, -0.020000000000000018,...  ...   \n",
       "9                                                NaN  ...   \n",
       "\n",
       "   spfix_bl_ratio_delay1Nout spmax_bl_ratio_delay1Nout p_maxfr_delay1Nout  \\\n",
       "0                   0.666504                  0.692383           0.983655   \n",
       "1                   0.899902                  1.099609           0.805549   \n",
       "3                   1.328125                  1.658203           0.001469   \n",
       "4                   0.184570                  0.333252           0.000002   \n",
       "5                   0.790527                  0.790527           0.419375   \n",
       "8                   3.199219                  3.800781           0.074810   \n",
       "9                   1.700195                  2.000000           0.077033   \n",
       "\n",
       "   fr_delay2Nout  maxfrlat_delay2Nout  maxfr_delay2Nout  maxfr200_delay2Nout  \\\n",
       "0       2.315521                 50.0          3.705978             2.516551   \n",
       "1       4.074097                 80.0          5.558014             3.995724   \n",
       "3      12.359619                350.0         15.373230            13.269145   \n",
       "4       3.936768                153.0          5.371094             4.656496   \n",
       "5       3.379822                184.0          4.444122             3.564749   \n",
       "8       1.574516                186.0          2.964020             2.079973   \n",
       "9       1.250267                  7.0          2.222061             1.565034   \n",
       "\n",
       "  spfix_bl_ratio_delay2Nout spmax_bl_ratio_delay2Nout  p_maxfr_delay2Nout  \n",
       "0                  0.717773                  0.666504            0.983638  \n",
       "1                  1.174805                  1.075195            0.850146  \n",
       "3                  1.658203                  1.834961            0.000191  \n",
       "4                  0.315430                  0.315430            0.000001  \n",
       "5                  0.883789                  0.930176            0.519409  \n",
       "8                  4.398438                  4.800781            0.019604  \n",
       "9                  1.599609                  1.700195            0.204976  \n",
       "\n",
       "[7 rows x 103 columns]"
      ]
     },
     "execution_count": 22,
     "metadata": {},
     "output_type": "execute_result"
    }
   ],
   "source": [
    "df_sel_in"
   ]
  },
  {
   "cell_type": "code",
   "execution_count": null,
   "metadata": {},
   "outputs": [],
   "source": []
  }
 ],
 "metadata": {
  "kernelspec": {
   "display_name": "Users-zKW_FhGB",
   "language": "python",
   "name": "python3"
  },
  "language_info": {
   "codemirror_mode": {
    "name": "ipython",
    "version": 3
   },
   "file_extension": ".py",
   "mimetype": "text/x-python",
   "name": "python",
   "nbconvert_exporter": "python",
   "pygments_lexer": "ipython3",
   "version": "3.9.6"
  }
 },
 "nbformat": 4,
 "nbformat_minor": 2
}
