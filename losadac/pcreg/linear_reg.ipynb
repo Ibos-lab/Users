{
 "cells": [
  {
   "cell_type": "code",
   "execution_count": 1,
   "metadata": {},
   "outputs": [],
   "source": [
    "from ephysvibe.structures.neuron_data import NeuronData\n",
    "import numpy as np\n",
    "from sklearn.decomposition import PCA,SparsePCA\n",
    "import matplotlib.pyplot as plt\n",
    "import os\n",
    "import glob\n",
    "from ephysvibe.trials import align_trials\n",
    "from ephysvibe.trials.spikes import firing_rate\n",
    "import platform\n",
    "from joblib import Parallel, delayed\n",
    "from tqdm import tqdm\n",
    "import h5py\n",
    "from pathlib import Path\n",
    "from typing import Dict,List\n",
    "from ephysvibe.task import task_constants\n",
    "from sklearn.decomposition import PCA\n",
    "from sklearn.linear_model import LinearRegression\n",
    "from sklearn.model_selection import train_test_split\n",
    "seed=2024"
   ]
  },
  {
   "cell_type": "code",
   "execution_count": 2,
   "metadata": {},
   "outputs": [],
   "source": [
    "def from_python_hdf5(load_path: Path):\n",
    "    \"\"\"Load data from a file in hdf5 format from Python.\"\"\"\n",
    "    with h5py.File(load_path, \"r\") as f:\n",
    "        data = []\n",
    "        for i_g in f.keys():\n",
    "            group = f[i_g]\n",
    "            dataset={}\n",
    "            for key, value in zip(group.keys(), group.values()):\n",
    "                dataset[key] = np.array(value)\n",
    "            data.append(dataset)\n",
    "    f.close()\n",
    "    return data"
   ]
  },
  {
   "cell_type": "code",
   "execution_count": 3,
   "metadata": {},
   "outputs": [],
   "source": [
    "if platform.system() == \"Linux\":\n",
    "    basepath = (\n",
    "        \"/envau/work/invibe/USERS/IBOS/data/Riesling/TSCM/OpenEphys/new_structure/\"\n",
    "    )\n",
    "elif platform.system() == \"Windows\":\n",
    "    basepath = \"C:/Users/camil/Documents/int/\""
   ]
  },
  {
   "cell_type": "code",
   "execution_count": 4,
   "metadata": {},
   "outputs": [],
   "source": [
    "session = '2022-12-06_11-12-04'\n",
    "areas=['pfc','v4']\n",
    "subject='Riesling'\n",
    "time_before=200"
   ]
  },
  {
   "cell_type": "code",
   "execution_count": 5,
   "metadata": {},
   "outputs": [],
   "source": [
    "units_info = {'v4':[],'pfc':[]}\n",
    "for area in areas:\n",
    "    neu_path = basepath + \"session_struct/\" + area + \"/neurons/*neu.h5\"\n",
    "    path_list = np.array(glob.glob(neu_path))\n",
    "    mask=[]\n",
    "    for path in path_list:\n",
    "        mask.append(session == path.rsplit(\"/\")[-1].rsplit(\"_\" + subject)[0])\n",
    "    path_list=path_list[mask]\n",
    "    "
   ]
  },
  {
   "cell_type": "code",
   "execution_count": 6,
   "metadata": {},
   "outputs": [],
   "source": [
    "neu_data = NeuronData.from_python_hdf5(path)\n",
    "\n",
    "# get spike matrices in and out conditions\n",
    "sp_in, mask_in = align_trials.get_align_tr(\n",
    "    neu_data, select_block=1, select_pos=1, time_before=time_before,event=\"sample_on\"\n",
    ")"
   ]
  },
  {
   "cell_type": "code",
   "execution_count": 8,
   "metadata": {},
   "outputs": [
    {
     "data": {
      "text/plain": [
       "array([[1000., 1017., 1028., ...,   nan,   nan,   nan],\n",
       "       [1000., 1009., 1022., ...,   nan,   nan,   nan],\n",
       "       [1000., 1006., 1012., ...,   nan,   nan,   nan],\n",
       "       ...,\n",
       "       [1000., 1004., 1015., ..., 4746.,   nan,   nan],\n",
       "       [1000., 1002., 1014., ...,   nan,   nan,   nan],\n",
       "       [1000., 1004., 1015., ...,   nan,   nan,   nan]])"
      ]
     },
     "execution_count": 8,
     "metadata": {},
     "output_type": "execute_result"
    }
   ],
   "source": [
    "neu_data.code_samples"
   ]
  },
  {
   "cell_type": "code",
   "execution_count": null,
   "metadata": {},
   "outputs": [],
   "source": [
    "np.concatenate(sp_in[:,neu_data.])"
   ]
  },
  {
   "cell_type": "code",
   "execution_count": 7,
   "metadata": {},
   "outputs": [
    {
     "ename": "SyntaxError",
     "evalue": "invalid syntax (857246847.py, line 8)",
     "output_type": "error",
     "traceback": [
      "\u001b[0;36m  Cell \u001b[0;32mIn[7], line 8\u001b[0;36m\u001b[0m\n\u001b[0;31m    for i_\u001b[0m\n\u001b[0m          ^\u001b[0m\n\u001b[0;31mSyntaxError\u001b[0m\u001b[0;31m:\u001b[0m invalid syntax\n"
     ]
    }
   ],
   "source": [
    "def get_unit(path):\n",
    "    neu_data = NeuronData.from_python_hdf5(path)\n",
    "\n",
    "    # get spike matrices in and out conditions\n",
    "    sp_in, mask_in = align_trials.get_align_tr(\n",
    "        neu_data, select_block=1, select_pos=1, time_before=time_before,event=\"sample_on\"\n",
    "    )\n",
    "    for i_\n",
    "    sp_in"
   ]
  }
 ],
 "metadata": {
  "kernelspec": {
   "display_name": "Users-2Kpmrf9_",
   "language": "python",
   "name": "python3"
  },
  "language_info": {
   "codemirror_mode": {
    "name": "ipython",
    "version": 3
   },
   "file_extension": ".py",
   "mimetype": "text/x-python",
   "name": "python",
   "nbconvert_exporter": "python",
   "pygments_lexer": "ipython3",
   "version": "3.9.18"
  }
 },
 "nbformat": 4,
 "nbformat_minor": 2
}
