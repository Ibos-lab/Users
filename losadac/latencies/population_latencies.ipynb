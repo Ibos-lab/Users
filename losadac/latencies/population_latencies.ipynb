{
 "cells": [
  {
   "cell_type": "code",
   "execution_count": 1,
   "metadata": {},
   "outputs": [],
   "source": [
    "from ephysvibe.structures.population_data import PopulationData\n",
    "from ephysvibe.structures.neuron_data import NeuronData\n",
    "from ephysvibe.trials.spikes import firing_rate\n",
    "from ephysvibe.trials import select_trials\n",
    "from ephysvibe.stats import smetrics\n",
    "\n",
    "import numpy as np"
   ]
  },
  {
   "cell_type": "code",
   "execution_count": null,
   "metadata": {},
   "outputs": [],
   "source": [
    "\n",
    "def get_selectivity_info(neu: NeuronData):\n",
    "    win = 100\n",
    "    res = {}\n",
    "    res[\"nid\"] = neu.get_neuron_id()\n",
    "    samples = [11, 15, 51, 55, 0]\n",
    "    inout_n0_fr = []\n",
    "    inout_nn_fr = []\n",
    "    for inout in [\"in\", \"out\"]:\n",
    "        mask = getattr(neu, \"mask_\" + inout)\n",
    "        sp = getattr(neu, \"sample_on_\" + inout)\n",
    "        st = getattr(neu, \"st_sample_on_\" + inout)\n",
    "        fr = firing_rate.moving_average(data=sp, win=100, step=1)[:, :-win]  #\n",
    "        sample_id = neu.sample_id[mask]\n",
    "        fr_samples = select_trials.get_sp_by_sample(fr, sample_id, samples)\n",
    "        o1 = np.concatenate((fr_samples[\"11\"], fr_samples[\"15\"]))\n",
    "        o5 = np.concatenate((fr_samples[\"51\"], fr_samples[\"55\"]))\n",
    "        c1 = np.concatenate((fr_samples[\"11\"], fr_samples[\"51\"]))\n",
    "        c5 = np.concatenate((fr_samples[\"15\"], fr_samples[\"55\"]))\n",
    "        sample = np.concatenate(\n",
    "            (fr_samples[\"11\"], fr_samples[\"15\"], fr_samples[\"51\"], fr_samples[\"55\"])\n",
    "        )\n",
    "        inout_nn_fr.append(sample)\n",
    "        n0 = fr_samples[\"0\"]\n",
    "        inout_n0_fr.append(n0)\n",
    "        # Check selectivity and latency\n",
    "        color_lat, color_score, color_p = smetrics.get_selectivity(\n",
    "            c1, c5, win=75, scores=True\n",
    "        )\n",
    "        color_selec = (\n",
    "            np.nan\n",
    "            if np.isnan(color_lat)\n",
    "            else \"c1\" if color_score[color_lat] > 0 else \"c5\"\n",
    "        )\n",
    "        orient_lat, orient_score, orient_p = smetrics.get_selectivity(\n",
    "            o1, o5, win=75, scores=True\n",
    "        )\n",
    "        orient_selec = (\n",
    "            np.nan\n",
    "            if np.isnan(orient_lat)\n",
    "            else \"o1\" if orient_score[orient_lat] > 0 else \"o5\"\n",
    "        )\n",
    "        neutral_lat, neutral_score, neutral_p = smetrics.get_selectivity(\n",
    "            sample, n0, win=75, scores=True\n",
    "        )\n",
    "        neutral_selec = (\n",
    "            np.nan\n",
    "            if np.isnan(neutral_lat)\n",
    "            else \"NN\" if neutral_score[neutral_lat] > 0 else \"N\"\n",
    "        )\n",
    "\n",
    "        res[\"color_lat_\" + inout] = color_lat\n",
    "        res[\"color_selec_\" + inout] = color_selec\n",
    "        res[\"color_score_\" + inout] = color_score\n",
    "        res[\"color_p_\" + inout] = color_p\n",
    "        res[\"orient_lat_\" + inout] = orient_lat\n",
    "        res[\"orient_selec_\" + inout] = orient_selec\n",
    "        res[\"orient_score_\" + inout] = orient_score\n",
    "        res[\"orient_p_\" + inout] = orient_p\n",
    "        res[\"neutral_lat_\" + inout] = neutral_lat\n",
    "        res[\"neutral_selec_\" + inout] = neutral_selec\n",
    "        res[\"neutral_score_\" + inout] = neutral_score\n",
    "        res[\"neutral_p_\" + inout] = neutral_p\n",
    "        res[\"mean_fr_\" + inout] = np.nanmean(sp[:, st:] * 1000)\n",
    "\n",
    "    nnpos_lat, nnpos_score, nnpos_p = smetrics.get_selectivity(\n",
    "        inout_nn_fr[0], inout_nn_fr[1], win=75, scores=True\n",
    "    )\n",
    "    nnpos_selec = (\n",
    "        np.nan\n",
    "        if np.isnan(nnpos_lat)\n",
    "        else \"NNin\" if nnpos_score[nnpos_lat] > 0 else \"NNout\"\n",
    "    )\n",
    "\n",
    "    neutralpos_lat, neutralpos_score, neutralpos_p = smetrics.get_selectivity(\n",
    "        inout_n0_fr[0], inout_n0_fr[1], win=75, scores=True\n",
    "    )\n",
    "    neutralpos_selec = (\n",
    "        np.nan\n",
    "        if np.isnan(neutralpos_lat)\n",
    "        else \"Nin\" if neutralpos_score[neutralpos_lat] > 0 else \"Nout\"\n",
    "    )\n",
    "\n",
    "    res[\"nnpos_lat\"] = nnpos_lat\n",
    "    res[\"nnpos_selec\"] = nnpos_selec\n",
    "    res[\"nnpos_score\"] = nnpos_score\n",
    "    res[\"nnpos_p\"] = nnpos_p\n",
    "    res[\"neutralpos_lat\"] = neutralpos_lat\n",
    "    res[\"neutralpos_selec\"] = neutralpos_selec\n",
    "    res[\"neutralpos_score\"] = neutralpos_score\n",
    "    res[\"neutralpos_p\"] = neutralpos_p\n",
    "    return res"
   ]
  },
  {
   "cell_type": "markdown",
   "metadata": {},
   "source": [
    "### Start preprocessing"
   ]
  },
  {
   "cell_type": "code",
   "execution_count": null,
   "metadata": {},
   "outputs": [],
   "source": [
    "area = 'LIP'\n",
    "rf_loc='in'"
   ]
  },
  {
   "cell_type": "code",
   "execution_count": null,
   "metadata": {},
   "outputs": [],
   "source": [
    "popu = PopulationData.from_python_hdf5(f\"/envau/work/invibe/USERS/IBOS/data/Riesling/TSCM/OpenEphys/population/{area.lower()}/2024_08_28_12_23_36/population.h5\")"
   ]
  },
  {
   "cell_type": "code",
   "execution_count": null,
   "metadata": {},
   "outputs": [],
   "source": [
    "df_selectivity = popu.execute_function(\n",
    "    get_selectivity_info, n_jobs=-1, ret_df=True\n",
    ")"
   ]
  }
 ],
 "metadata": {
  "kernelspec": {
   "display_name": "Users-2Kpmrf9_",
   "language": "python",
   "name": "python3"
  },
  "language_info": {
   "codemirror_mode": {
    "name": "ipython",
    "version": 3
   },
   "file_extension": ".py",
   "mimetype": "text/x-python",
   "name": "python",
   "nbconvert_exporter": "python",
   "pygments_lexer": "ipython3",
   "version": "3.9.18"
  }
 },
 "nbformat": 4,
 "nbformat_minor": 2
}
